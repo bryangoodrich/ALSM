{
 "cells": [
  {
   "cell_type": "markdown",
   "metadata": {},
   "source": [
    "# Chapter 13 - Introduction to Nonlinear Regression and Neural Networks"
   ]
  },
  {
   "cell_type": "code",
   "execution_count": 4,
   "metadata": {},
   "outputs": [],
   "source": [
    "import pandas as pd\n",
    "import numpy as np\n",
    "import matplotlib.pyplot as plt\n",
    "import statsmodels.api as sm\n",
    "import statsmodels.graphics.regressionplots as smplot\n",
    "from statsmodels.stats.api import het_breuschpagan, anova_lm, durbin_watson\n",
    "from statsmodels.stats.outliers_influence import variance_inflation_factor\n",
    "from statsmodels.formula.api import ols, wls, rlm, glsar\n",
    "from statsmodels.nonparametric.smoothers_lowess import lowess\n",
    "from scipy import stats\n",
    "import itertools as iter\n",
    "from scipy.sparse.linalg import lsmr\n",
    "from numpy.linalg import inv\n",
    "from scipy.optimize import curve_fit\n",
    "\n",
    "DATA_DIR = \"../alsm/data\"\n",
    "yhat = '\\u0177'\n",
    "square = '\\u00b2'"
   ]
  },
  {
   "cell_type": "markdown",
   "metadata": {},
   "source": [
    "# 13.1 Linear and Nonlinear Regression Models (p 510)"
   ]
  },
  {
   "cell_type": "markdown",
   "metadata": {},
   "source": [
    "##### Linear Regression Models\n",
    "\n",
    "Linear models such as the general linear model (6.7)\n",
    "\n",
    "$\\quad Y_i = \\beta_0 + \\beta_1 X_{i1} + \\beta_2 X_{i2} + \\dots + \\beta_{p-1} X_{i,p-1} + \\epsilon_i$\n",
    "\n",
    "are considered *linear in the parameters*. Even in the case of polynomial terms or a model like\n",
    "\n",
    "$\\quad log_{10} Y_i = \\beta_0 + \\beta_1 \\sqrt{X_{i1}} + \\beta_2 exp(X_{i2}) + \\epsilon_i$\n",
    "\n",
    "In general, we can state a linear regression model in the form\n",
    "\n",
    "$\\quad Y_i = f(X_i, \\beta) + \\epsilon_i$\n",
    "\n",
    "where $X_i$ is the vector of the observations on the predictor variables for the ith case:\n",
    "\n",
    "$\\quad X_i = \\begin{bmatrix} 1 \\\\ X_{i1} \\\\ \\vdots \\\\ X_{i,p-1} \\end{bmatrix}$\n",
    "\n",
    "$\\beta$ is the vector of the regression coefficients in (6.18c), and $f(X_i, \\beta)$ represents the expected value $E\\{Y_i\\}$, which for linear regression models equals according to (6.54):\n",
    "\n",
    "$\\quad f(X_i, \\beta) = X^{'}_i \\beta$\n"
   ]
  },
  {
   "cell_type": "markdown",
   "metadata": {},
   "source": [
    "##### Nonlinear Regression Models\n",
    "\n",
    "Nonlinear regression models are of the same basic form as that for linear regression model\n",
    "\n",
    "$\\quad Y_i = f(X_i, \\gamma) + \\epsilon_i$\n",
    "\n",
    "An observation $Y_i$ is still the sum of a mean response $f(X_i, \\gamma)$ given by the nonlinear response function $f(X, \\gamma)$ and the error term $\\epsilon_i$. The error terms usually are assumed to have expectation zero, constant variance, and to be uncorrelated, just as for linear regression models. Often, a normal error model is utilized which assumes that the error terms are independent normal random variables with constant variance.\n",
    "\n",
    "The parameter vector in the response function $f(X, \\gamma)$ is now denoted by $\\gamma$ rather than $\\beta$ as a reminder that the response function here is *nonlinear in the parameters*. Below are two examples of nonlinear regression models that are widely used in practice."
   ]
  },
  {
   "cell_type": "markdown",
   "metadata": {},
   "source": [
    "**Exponential Regression Models**. One widely used nonlinear regression model is the exponential regression model. When there is only a single predictor variable, one form of this regression model with normal error terms is:\n",
    "\n",
    "$\\quad Y_i = \\gamma_0 exp(\\gamma_1 X_i) + \\epsilon_i \\quad\\quad\\quad (13.6)$\n",
    "\n",
    "where\n",
    "\n",
    "*  $\\gamma_0$ and $\\gamma_1$ are parameters\n",
    "*  $X_i$ are known constants\n",
    "*  $\\epsilon_i$ are independent $N(0, \\sigma^2)$\n",
    "\n",
    "The response function for this model is:\n",
    "\n",
    "$\\quad f(X, \\gamma)=\\gamma_0 exp(\\gamma_1 X)$\n",
    "\n",
    "Note that this model is *not* linear in the parameters $\\gamma_0$ and $\\gamma_1$.\n",
    "\n",
    "A more general nonlinear exponential regression model in one predictor variable with normal error term is \n",
    "\n",
    "$\\quad Y_i = \\gamma_0  + \\gamma_1exp(\\gamma_2 X_i) + \\epsilon_i \\quad\\quad\\quad (13.8)$\n",
    "\n",
    "where the error terms are independent normal with constant variance $\\sigma^2$. \n",
    "\n",
    "Exponential regression model (13.8) is commonly used in growth studies where the rate of growth at a given time $X$ is proportional to the amount of growth remaining as time increases, with $\\gamma_0$ representing the maximum growth value. Another use of this regression model is to relate the concentration of a substance ($Y$) to elapsed time ($X$). Figure 13.1a shows the response function for parameter values $\\gamma_0=100$, $\\gamma_1=-50$, and $\\gamma_2 = -2$. "
   ]
  },
  {
   "cell_type": "markdown",
   "metadata": {},
   "source": [
    "**Logistic Regression Models**. Another important nonlinear regression model is the logistic regression model. This model with one predictor variable and normal error terms is:\n",
    "\n",
    "$\\quad Y_i = \\frac{\\gamma_0}{1 + \\gamma_1 exp(\\gamma_2 X)} + \\epsilon_i \\quad\\quad\\quad (13.10)$\n",
    "\n",
    "Note again that this response function *is not linear in the parameters* $\\gamma_0$, $\\gamma_1$, and $\\gamma_2$.\n",
    "\n",
    "This logistic regression model has been used in popultion studies to relate, for instance, number of species ($Y$) to time ($X$). Figure 13.1b shows the ogistic response function for parameter values $\\gamma_0=10$, $\\gamma_1=20$, and $\\gamma_2=-2$. Note that the parameter $\\gamma_0=10$ represents the maximum growth value here. \n",
    "\n",
    "Logistic regression model (13.10) is also widely used when the response variable is qualitative. An example fo this use of the logistic regression model is predicting whether a household will purchase a new car this year (will, will not) on the basis of the predictor variables age of presently owned car, household income, and size of household. In this use of logistic regression models, the response variable (will, will not purchase car, in our example) is qualitative and will be represented by a 0, 1 indicator variable. Consequently, the error terms are not normally distributed here with constant variance. Logistic regression models and tehir use when the response variable is qualitative will be discussed in detail in chapter 14."
   ]
  },
  {
   "cell_type": "markdown",
   "metadata": {},
   "source": [
    "**General Form of Nonlinear Regression Models**. As we have seen from the two examples of nonlinear regression models, these models are similar in general form to linear regression models. Each $Y_i$ observation is postulated to be the sum of a mean response $f(X_i, \\gamma)$ based on the given onlinear response function and a random error term $\\epsilon_i$. Furthermore, the error terms $\\epsilon_i$ are often assumed to be independent normal rando variables with constant variance.\n",
    "\n",
    "An important difference of nonlinear regression models is that the number of regression parameters is not necessarily directly related to the number of $X$ variables in the model. In linear regression models, if there are $p-1 X$ variables in the model, then there are $p$ regression coefficients in the model. For the exponential regression model in (13.8), there is one $X$ variable but three regression coefficients. The same is found for logistic regression model (13.10). Hence, we now denote the numberof $X$ variables in the nonlinear regression model by $q$, but we continue to denote the number of regression parameters in the response function by $p$. In the exponential regression model (13.6), for instance, there are $p=2$ regression parameters and $q=1 X$ variable.\n",
    "\n",
    "Also, we shall define the vector $X_i$ of the observations on the $X$ variables without the initial element 1."
   ]
  },
  {
   "cell_type": "markdown",
   "metadata": {},
   "source": [
    "### Figure 13.1 (p 512)\n",
    "\n",
    "Plots of Exponential and Logistic Response Functions"
   ]
  },
  {
   "cell_type": "code",
   "execution_count": 2,
   "metadata": {},
   "outputs": [
    {
     "data": {
      "image/png": "[encoded data removed]",
      "text/plain": [
       "<Figure size 864x288 with 2 Axes>"
      ]
     },
     "metadata": {
      "needs_background": "light"
     },
     "output_type": "display_data"
    }
   ],
   "source": [
    "fig, ax = plt.subplots(1, 2, figsize=(12, 4))\n",
    "plt.subplots_adjust(left=0.1, bottom=0.1, right=0.9, top=0.9, wspace=0.4, hspace=0.4)\n",
    "\n",
    "x = np.linspace(0, 5, 100) # 100 points between 0 and 5\n",
    "y1 = 100 - 50*np.exp(-2*x)\n",
    "y2 = 10 / (1 + 20*np.exp(-2*x))\n",
    "\n",
    "ax[0].plot(x, y1)\n",
    "ax[1].plot(x, y2)\n",
    "\n",
    "ax[0].set_title(\"(a) Exponential Model (13.8)\")\n",
    "ax[1].set_title(\"(b) Logistic Model (13.10)\")\n",
    "plt.show()"
   ]
  },
  {
   "cell_type": "markdown",
   "metadata": {},
   "source": [
    "### Input Severley Injured Patients Data"
   ]
  },
  {
   "cell_type": "code",
   "execution_count": 5,
   "metadata": {},
   "outputs": [],
   "source": [
    "df = pd.read_pickle(f\"{DATA_DIR}/CH13TA01.xz\")\n",
    "df.columns = ['Y', 'X']"
   ]
  },
  {
   "cell_type": "markdown",
   "metadata": {},
   "source": [
    "### Table 13.1 (p 515)\n",
    "\n",
    "Data -- Severley Injured Patients Example"
   ]
  },
  {
   "cell_type": "code",
   "execution_count": 6,
   "metadata": {},
   "outputs": [
    {
     "data": {
      "text/html": [
       "<div>\n",
       "<style scoped>\n",
       "    .dataframe tbody tr th:only-of-type {\n",
       "        vertical-align: middle;\n",
       "    }\n",
       "\n",
       "    .dataframe tbody tr th {\n",
       "        vertical-align: top;\n",
       "    }\n",
       "\n",
       "    .dataframe thead th {\n",
       "        text-align: right;\n",
       "    }\n",
       "</style>\n",
       "<table border=\"1\" class=\"dataframe\">\n",
       "  <thead>\n",
       "    <tr style=\"text-align: right;\">\n",
       "      <th></th>\n",
       "      <th>Days Hospitalized (X)</th>\n",
       "      <th>Prognostic Index (Y)</th>\n",
       "    </tr>\n",
       "  </thead>\n",
       "  <tbody>\n",
       "    <tr>\n",
       "      <th>0</th>\n",
       "      <td>2</td>\n",
       "      <td>54</td>\n",
       "    </tr>\n",
       "    <tr>\n",
       "      <th>1</th>\n",
       "      <td>5</td>\n",
       "      <td>50</td>\n",
       "    </tr>\n",
       "    <tr>\n",
       "      <th>2</th>\n",
       "      <td>7</td>\n",
       "      <td>45</td>\n",
       "    </tr>\n",
       "    <tr>\n",
       "      <th>3</th>\n",
       "      <td>10</td>\n",
       "      <td>37</td>\n",
       "    </tr>\n",
       "    <tr>\n",
       "      <th>4</th>\n",
       "      <td>14</td>\n",
       "      <td>35</td>\n",
       "    </tr>\n",
       "    <tr>\n",
       "      <th>5</th>\n",
       "      <td>19</td>\n",
       "      <td>25</td>\n",
       "    </tr>\n",
       "    <tr>\n",
       "      <th>6</th>\n",
       "      <td>26</td>\n",
       "      <td>20</td>\n",
       "    </tr>\n",
       "    <tr>\n",
       "      <th>7</th>\n",
       "      <td>31</td>\n",
       "      <td>16</td>\n",
       "    </tr>\n",
       "    <tr>\n",
       "      <th>8</th>\n",
       "      <td>34</td>\n",
       "      <td>18</td>\n",
       "    </tr>\n",
       "    <tr>\n",
       "      <th>9</th>\n",
       "      <td>38</td>\n",
       "      <td>13</td>\n",
       "    </tr>\n",
       "    <tr>\n",
       "      <th>10</th>\n",
       "      <td>45</td>\n",
       "      <td>8</td>\n",
       "    </tr>\n",
       "    <tr>\n",
       "      <th>11</th>\n",
       "      <td>52</td>\n",
       "      <td>11</td>\n",
       "    </tr>\n",
       "    <tr>\n",
       "      <th>12</th>\n",
       "      <td>53</td>\n",
       "      <td>8</td>\n",
       "    </tr>\n",
       "    <tr>\n",
       "      <th>13</th>\n",
       "      <td>60</td>\n",
       "      <td>4</td>\n",
       "    </tr>\n",
       "    <tr>\n",
       "      <th>14</th>\n",
       "      <td>65</td>\n",
       "      <td>6</td>\n",
       "    </tr>\n",
       "  </tbody>\n",
       "</table>\n",
       "</div>"
      ],
      "text/plain": [
       "    Days Hospitalized (X)  Prognostic Index (Y)\n",
       "0                       2                    54\n",
       "1                       5                    50\n",
       "2                       7                    45\n",
       "3                      10                    37\n",
       "4                      14                    35\n",
       "5                      19                    25\n",
       "6                      26                    20\n",
       "7                      31                    16\n",
       "8                      34                    18\n",
       "9                      38                    13\n",
       "10                     45                     8\n",
       "11                     52                    11\n",
       "12                     53                     8\n",
       "13                     60                     4\n",
       "14                     65                     6"
      ]
     },
     "execution_count": 6,
     "metadata": {},
     "output_type": "execute_result"
    }
   ],
   "source": [
    "pd.DataFrame({\n",
    "    \"Days Hospitalized (X)\": df.X,\n",
    "    \"Prognostic Index (Y)\": df.Y\n",
    "})"
   ]
  },
  {
   "cell_type": "markdown",
   "metadata": {},
   "source": [
    "### Figure 13.2 (p 515)\n",
    "\n",
    "Scatter Plot and Fitted Nonlinear Regression Function -- Severley Injured Patients Example\n",
    "\n",
    "###### Note\n",
    "\n",
    "Here we make use of the scipy function `curve_fit` to take some observations `x` and determine the optimal coefficients `a` and `b` for an anonymous (lambda) function we define for the response function. The return object is a tuple with first entry fitted coefficients and second entry the covariance matrix. We directly unpack these coeffcients for use. "
   ]
  },
  {
   "cell_type": "code",
   "execution_count": 16,
   "metadata": {
    "scrolled": false
   },
   "outputs": [
    {
     "name": "stdout",
     "output_type": "stream",
     "text": [
      "fitted exponential coefficients (gamma_0, gamma_1): (58.60656622832413, 0.039586452700673055)\n"
     ]
    },
    {
     "name": "stderr",
     "output_type": "stream",
     "text": [
      "C:\\opt\\Anaconda3\\lib\\site-packages\\pandas\\core\\series.py:726: RuntimeWarning: overflow encountered in exp\n",
      "  result = getattr(ufunc, method)(*inputs, **kwargs)\n"
     ]
    },
    {
     "data": {
      "image/png": "[encoded data removed]",
      "text/plain": [
       "<Figure size 432x288 with 1 Axes>"
      ]
     },
     "metadata": {
      "needs_background": "light"
     },
     "output_type": "display_data"
    }
   ],
   "source": [
    "a, b = curve_fit(lambda x, a, b: a*np.exp(-b*x), df.X, df.Y)[0]\n",
    "print(f\"fitted exponential coefficients (gamma_0, gamma_1): ({a}, {b})\")\n",
    "\n",
    "y = a*np.exp(-b*df.X)\n",
    "plt.scatter(df.X, df.Y)\n",
    "plt.plot(df.X, y)\n",
    "plt.xlabel(\"Days Hospitalized\")\n",
    "plt.ylabel(\"Prognostic Index\")\n",
    "plt.show()\n"
   ]
  },
  {
   "cell_type": "markdown",
   "metadata": {},
   "source": [
    "# 13.2 Least Squares Estimation in Nonlinear Regression (p 515)"
   ]
  },
  {
   "cell_type": "markdown",
   "metadata": {},
   "source": [
    "https://docs.scipy.org/doc/scipy/reference/generated/scipy.sparse.linalg.lsmr.html#scipy.sparse.linalg.lsmr\n",
    "\n"
   ]
  },
  {
   "cell_type": "markdown",
   "metadata": {},
   "source": [
    "### Table 13.2 (p 522)\n",
    "\n",
    "$Y^{(0)}$ and $D^{(0)}$ Matrices -- Severly Injured Patients Example\n",
    "\n",
    "In this case we can perform a linear transformation of the nonlinear functional form via \n",
    "\n",
    "$\\quad Y^{`} = log_e(Y) = log_e(\\gamma_0 exp(\\gamma_1 X)) = log_e\\gamma_0 + \\gamma_1X = \\beta_0 + \\beta_1X$\n",
    "\n",
    "While you can use this as a surrogate for the nonlinear model, it changes the error structure and can provide slightly different results, not appropriate in all cases. With other models, it might not even be possible to linearize the functional form. Instead, we use this as a basis for picking initial values for our coefficients in the Gauss-Newton method.\n",
    "\n",
    "###### Note\n",
    "\n",
    "As you can see in the examples, we don't need to do simple transformations of the dataframe for our ols model. Instead, you can put it into the formula using the `I(...)` expression. Then to convert the parameters back to their nonlinear forms, I simply associate (`zip`) functions to each parameter and map them together. In this case, the intercept gets passed to `np.exp` and the slope coefficient is used directly (identity function). "
   ]
  },
  {
   "cell_type": "code",
   "execution_count": 17,
   "metadata": {
    "scrolled": false
   },
   "outputs": [
    {
     "name": "stderr",
     "output_type": "stream",
     "text": [
      "C:\\opt\\Anaconda3\\lib\\site-packages\\scipy\\stats\\stats.py:1603: UserWarning: kurtosistest only valid for n>=20 ... continuing anyway, n=15\n",
      "  warnings.warn(\"kurtosistest only valid for n>=20 ... continuing \"\n"
     ]
    },
    {
     "data": {
      "text/html": [
       "<table class=\"simpletable\">\n",
       "<caption>OLS Regression Results</caption>\n",
       "<tr>\n",
       "  <th>Dep. Variable:</th>      <td>I(np.log(Y))</td>   <th>  R-squared:         </th> <td>   0.955</td>\n",
       "</tr>\n",
       "<tr>\n",
       "  <th>Model:</th>                   <td>OLS</td>       <th>  Adj. R-squared:    </th> <td>   0.952</td>\n",
       "</tr>\n",
       "<tr>\n",
       "  <th>Method:</th>             <td>Least Squares</td>  <th>  F-statistic:       </th> <td>   276.4</td>\n",
       "</tr>\n",
       "<tr>\n",
       "  <th>Date:</th>             <td>Fri, 04 Jun 2021</td> <th>  Prob (F-statistic):</th> <td>3.86e-10</td>\n",
       "</tr>\n",
       "<tr>\n",
       "  <th>Time:</th>                 <td>18:17:23</td>     <th>  Log-Likelihood:    </th> <td>  5.5630</td>\n",
       "</tr>\n",
       "<tr>\n",
       "  <th>No. Observations:</th>      <td>    15</td>      <th>  AIC:               </th> <td>  -7.126</td>\n",
       "</tr>\n",
       "<tr>\n",
       "  <th>Df Residuals:</th>          <td>    13</td>      <th>  BIC:               </th> <td>  -5.710</td>\n",
       "</tr>\n",
       "<tr>\n",
       "  <th>Df Model:</th>              <td>     1</td>      <th>                     </th>     <td> </td>   \n",
       "</tr>\n",
       "<tr>\n",
       "  <th>Covariance Type:</th>      <td>nonrobust</td>    <th>                     </th>     <td> </td>   \n",
       "</tr>\n",
       "</table>\n",
       "<table class=\"simpletable\">\n",
       "<tr>\n",
       "      <td></td>         <th>coef</th>     <th>std err</th>      <th>t</th>      <th>P>|t|</th>  <th>[0.025</th>    <th>0.975]</th>  \n",
       "</tr>\n",
       "<tr>\n",
       "  <th>Intercept</th> <td>    4.0372</td> <td>    0.084</td> <td>   48.002</td> <td> 0.000</td> <td>    3.855</td> <td>    4.219</td>\n",
       "</tr>\n",
       "<tr>\n",
       "  <th>X</th>         <td>   -0.0380</td> <td>    0.002</td> <td>  -16.625</td> <td> 0.000</td> <td>   -0.043</td> <td>   -0.033</td>\n",
       "</tr>\n",
       "</table>\n",
       "<table class=\"simpletable\">\n",
       "<tr>\n",
       "  <th>Omnibus:</th>       <td> 1.294</td> <th>  Durbin-Watson:     </th> <td>   2.706</td>\n",
       "</tr>\n",
       "<tr>\n",
       "  <th>Prob(Omnibus):</th> <td> 0.524</td> <th>  Jarque-Bera (JB):  </th> <td>   0.207</td>\n",
       "</tr>\n",
       "<tr>\n",
       "  <th>Skew:</th>          <td>-0.236</td> <th>  Prob(JB):          </th> <td>   0.902</td>\n",
       "</tr>\n",
       "<tr>\n",
       "  <th>Kurtosis:</th>      <td> 3.328</td> <th>  Cond. No.          </th> <td>    66.9</td>\n",
       "</tr>\n",
       "</table><br/><br/>Notes:<br/>[1] Standard Errors assume that the covariance matrix of the errors is correctly specified."
      ],
      "text/plain": [
       "<class 'statsmodels.iolib.summary.Summary'>\n",
       "\"\"\"\n",
       "                            OLS Regression Results                            \n",
       "==============================================================================\n",
       "Dep. Variable:           I(np.log(Y))   R-squared:                       0.955\n",
       "Model:                            OLS   Adj. R-squared:                  0.952\n",
       "Method:                 Least Squares   F-statistic:                     276.4\n",
       "Date:                Fri, 04 Jun 2021   Prob (F-statistic):           3.86e-10\n",
       "Time:                        18:17:23   Log-Likelihood:                 5.5630\n",
       "No. Observations:                  15   AIC:                            -7.126\n",
       "Df Residuals:                      13   BIC:                            -5.710\n",
       "Df Model:                           1                                         \n",
       "Covariance Type:            nonrobust                                         \n",
       "==============================================================================\n",
       "                 coef    std err          t      P>|t|      [0.025      0.975]\n",
       "------------------------------------------------------------------------------\n",
       "Intercept      4.0372      0.084     48.002      0.000       3.855       4.219\n",
       "X             -0.0380      0.002    -16.625      0.000      -0.043      -0.033\n",
       "==============================================================================\n",
       "Omnibus:                        1.294   Durbin-Watson:                   2.706\n",
       "Prob(Omnibus):                  0.524   Jarque-Bera (JB):                0.207\n",
       "Skew:                          -0.236   Prob(JB):                        0.902\n",
       "Kurtosis:                       3.328   Cond. No.                         66.9\n",
       "==============================================================================\n",
       "\n",
       "Notes:\n",
       "[1] Standard Errors assume that the covariance matrix of the errors is correctly specified.\n",
       "\"\"\""
      ]
     },
     "metadata": {},
     "output_type": "display_data"
    },
    {
     "data": {
      "text/plain": [
       "[56.66512069626944, -0.037974180811865155]"
      ]
     },
     "execution_count": 17,
     "metadata": {},
     "output_type": "execute_result"
    }
   ],
   "source": [
    "model = ols(\"I(np.log(Y)) ~ X\", df).fit()\n",
    "display(model.summary())\n",
    "\n",
    "g = [f(x) for f,x in zip([np.exp, lambda x: x], model.params)]  # Data-Driven Initial Guess\n",
    "g"
   ]
  },
  {
   "cell_type": "markdown",
   "metadata": {},
   "source": [
    "The first iteration $Y^{(0)}$ and $D^{(0)}$ combined into a single dataframe"
   ]
  },
  {
   "cell_type": "code",
   "execution_count": 18,
   "metadata": {
    "scrolled": false
   },
   "outputs": [
    {
     "data": {
      "text/html": [
       "<div>\n",
       "<style scoped>\n",
       "    .dataframe tbody tr th:only-of-type {\n",
       "        vertical-align: middle;\n",
       "    }\n",
       "\n",
       "    .dataframe tbody tr th {\n",
       "        vertical-align: top;\n",
       "    }\n",
       "\n",
       "    .dataframe thead th {\n",
       "        text-align: right;\n",
       "    }\n",
       "</style>\n",
       "<table border=\"1\" class=\"dataframe\">\n",
       "  <thead>\n",
       "    <tr style=\"text-align: right;\">\n",
       "      <th></th>\n",
       "      <th>g1</th>\n",
       "      <th>g2</th>\n",
       "      <th>Y</th>\n",
       "    </tr>\n",
       "  </thead>\n",
       "  <tbody>\n",
       "    <tr>\n",
       "      <th>0</th>\n",
       "      <td>0.926864</td>\n",
       "      <td>105.041728</td>\n",
       "      <td>1.479136</td>\n",
       "    </tr>\n",
       "    <tr>\n",
       "      <th>1</th>\n",
       "      <td>0.827066</td>\n",
       "      <td>234.328945</td>\n",
       "      <td>3.134211</td>\n",
       "    </tr>\n",
       "    <tr>\n",
       "      <th>2</th>\n",
       "      <td>0.766578</td>\n",
       "      <td>304.067510</td>\n",
       "      <td>1.561784</td>\n",
       "    </tr>\n",
       "    <tr>\n",
       "      <th>3</th>\n",
       "      <td>0.684038</td>\n",
       "      <td>387.610958</td>\n",
       "      <td>-1.761096</td>\n",
       "    </tr>\n",
       "    <tr>\n",
       "      <th>4</th>\n",
       "      <td>0.587641</td>\n",
       "      <td>466.182722</td>\n",
       "      <td>1.701234</td>\n",
       "    </tr>\n",
       "    <tr>\n",
       "      <th>5</th>\n",
       "      <td>0.486018</td>\n",
       "      <td>523.265200</td>\n",
       "      <td>-2.540274</td>\n",
       "    </tr>\n",
       "    <tr>\n",
       "      <th>6</th>\n",
       "      <td>0.372571</td>\n",
       "      <td>548.905724</td>\n",
       "      <td>-1.111759</td>\n",
       "    </tr>\n",
       "    <tr>\n",
       "      <th>7</th>\n",
       "      <td>0.308140</td>\n",
       "      <td>541.285283</td>\n",
       "      <td>-1.460816</td>\n",
       "    </tr>\n",
       "    <tr>\n",
       "      <th>8</th>\n",
       "      <td>0.274962</td>\n",
       "      <td>529.745786</td>\n",
       "      <td>2.419242</td>\n",
       "    </tr>\n",
       "    <tr>\n",
       "      <th>9</th>\n",
       "      <td>0.236214</td>\n",
       "      <td>508.632705</td>\n",
       "      <td>-0.385071</td>\n",
       "    </tr>\n",
       "    <tr>\n",
       "      <th>10</th>\n",
       "      <td>0.181076</td>\n",
       "      <td>461.731346</td>\n",
       "      <td>-2.260697</td>\n",
       "    </tr>\n",
       "    <tr>\n",
       "      <th>11</th>\n",
       "      <td>0.138809</td>\n",
       "      <td>409.012281</td>\n",
       "      <td>3.134379</td>\n",
       "    </tr>\n",
       "    <tr>\n",
       "      <th>12</th>\n",
       "      <td>0.133637</td>\n",
       "      <td>401.344113</td>\n",
       "      <td>0.427470</td>\n",
       "    </tr>\n",
       "    <tr>\n",
       "      <th>13</th>\n",
       "      <td>0.102443</td>\n",
       "      <td>348.295961</td>\n",
       "      <td>-1.804933</td>\n",
       "    </tr>\n",
       "    <tr>\n",
       "      <th>14</th>\n",
       "      <td>0.084727</td>\n",
       "      <td>312.069021</td>\n",
       "      <td>1.198938</td>\n",
       "    </tr>\n",
       "  </tbody>\n",
       "</table>\n",
       "</div>"
      ],
      "text/plain": [
       "          g1          g2         Y\n",
       "0   0.926864  105.041728  1.479136\n",
       "1   0.827066  234.328945  3.134211\n",
       "2   0.766578  304.067510  1.561784\n",
       "3   0.684038  387.610958 -1.761096\n",
       "4   0.587641  466.182722  1.701234\n",
       "5   0.486018  523.265200 -2.540274\n",
       "6   0.372571  548.905724 -1.111759\n",
       "7   0.308140  541.285283 -1.460816\n",
       "8   0.274962  529.745786  2.419242\n",
       "9   0.236214  508.632705 -0.385071\n",
       "10  0.181076  461.731346 -2.260697\n",
       "11  0.138809  409.012281  3.134379\n",
       "12  0.133637  401.344113  0.427470\n",
       "13  0.102443  348.295961 -1.804933\n",
       "14  0.084727  312.069021  1.198938"
      ]
     },
     "execution_count": 18,
     "metadata": {},
     "output_type": "execute_result"
    }
   ],
   "source": [
    "D = pd.DataFrame({\n",
    "    \"g1\": np.exp(g[1]*df.X),\n",
    "    \"g2\": g[0]*df.X*np.exp(g[1]*df.X),\n",
    "    \"Y\": df.Y - g[0]*np.exp(g[1]*df.X)\n",
    "})\n",
    "D"
   ]
  },
  {
   "cell_type": "markdown",
   "metadata": {},
   "source": [
    "The 2nd iteration $Y^{(1)}$ and $D^{(1)}$ and associated SSE"
   ]
  },
  {
   "cell_type": "code",
   "execution_count": 19,
   "metadata": {
    "scrolled": false
   },
   "outputs": [
    {
     "data": {
      "text/html": [
       "<div>\n",
       "<style scoped>\n",
       "    .dataframe tbody tr th:only-of-type {\n",
       "        vertical-align: middle;\n",
       "    }\n",
       "\n",
       "    .dataframe tbody tr th {\n",
       "        vertical-align: top;\n",
       "    }\n",
       "\n",
       "    .dataframe thead th {\n",
       "        text-align: right;\n",
       "    }\n",
       "</style>\n",
       "<table border=\"1\" class=\"dataframe\">\n",
       "  <thead>\n",
       "    <tr style=\"text-align: right;\">\n",
       "      <th></th>\n",
       "      <th>g1</th>\n",
       "      <th>g2</th>\n",
       "      <th>Y</th>\n",
       "    </tr>\n",
       "  </thead>\n",
       "  <tbody>\n",
       "    <tr>\n",
       "      <th>0</th>\n",
       "      <td>0.923979</td>\n",
       "      <td>108.212729</td>\n",
       "      <td>-0.106365</td>\n",
       "    </tr>\n",
       "    <tr>\n",
       "      <th>1</th>\n",
       "      <td>0.820644</td>\n",
       "      <td>240.276550</td>\n",
       "      <td>1.944690</td>\n",
       "    </tr>\n",
       "    <tr>\n",
       "      <th>2</th>\n",
       "      <td>0.758258</td>\n",
       "      <td>310.814623</td>\n",
       "      <td>0.597911</td>\n",
       "    </tr>\n",
       "    <tr>\n",
       "      <th>3</th>\n",
       "      <td>0.673457</td>\n",
       "      <td>394.363246</td>\n",
       "      <td>-2.436325</td>\n",
       "    </tr>\n",
       "    <tr>\n",
       "      <th>4</th>\n",
       "      <td>0.574955</td>\n",
       "      <td>471.355422</td>\n",
       "      <td>1.331756</td>\n",
       "    </tr>\n",
       "    <tr>\n",
       "      <th>5</th>\n",
       "      <td>0.471834</td>\n",
       "      <td>524.963515</td>\n",
       "      <td>-2.629659</td>\n",
       "    </tr>\n",
       "    <tr>\n",
       "      <th>6</th>\n",
       "      <td>0.357772</td>\n",
       "      <td>544.710738</td>\n",
       "      <td>-0.950413</td>\n",
       "    </tr>\n",
       "    <tr>\n",
       "      <th>7</th>\n",
       "      <td>0.293604</td>\n",
       "      <td>532.978059</td>\n",
       "      <td>-1.192841</td>\n",
       "    </tr>\n",
       "    <tr>\n",
       "      <th>8</th>\n",
       "      <td>0.260768</td>\n",
       "      <td>519.181948</td>\n",
       "      <td>2.729943</td>\n",
       "    </tr>\n",
       "    <tr>\n",
       "      <th>9</th>\n",
       "      <td>0.222627</td>\n",
       "      <td>495.391216</td>\n",
       "      <td>-0.036611</td>\n",
       "    </tr>\n",
       "    <tr>\n",
       "      <th>10</th>\n",
       "      <td>0.168809</td>\n",
       "      <td>444.830224</td>\n",
       "      <td>-1.885116</td>\n",
       "    </tr>\n",
       "    <tr>\n",
       "      <th>11</th>\n",
       "      <td>0.128001</td>\n",
       "      <td>389.764414</td>\n",
       "      <td>3.504530</td>\n",
       "    </tr>\n",
       "    <tr>\n",
       "      <th>12</th>\n",
       "      <td>0.123039</td>\n",
       "      <td>381.861365</td>\n",
       "      <td>0.795069</td>\n",
       "    </tr>\n",
       "    <tr>\n",
       "      <th>13</th>\n",
       "      <td>0.093295</td>\n",
       "      <td>327.791864</td>\n",
       "      <td>-1.463198</td>\n",
       "    </tr>\n",
       "    <tr>\n",
       "      <th>14</th>\n",
       "      <td>0.076562</td>\n",
       "      <td>291.417297</td>\n",
       "      <td>1.516657</td>\n",
       "    </tr>\n",
       "  </tbody>\n",
       "</table>\n",
       "</div>"
      ],
      "text/plain": [
       "          g1          g2         Y\n",
       "0   0.923979  108.212729 -0.106365\n",
       "1   0.820644  240.276550  1.944690\n",
       "2   0.758258  310.814623  0.597911\n",
       "3   0.673457  394.363246 -2.436325\n",
       "4   0.574955  471.355422  1.331756\n",
       "5   0.471834  524.963515 -2.629659\n",
       "6   0.357772  544.710738 -0.950413\n",
       "7   0.293604  532.978059 -1.192841\n",
       "8   0.260768  519.181948  2.729943\n",
       "9   0.222627  495.391216 -0.036611\n",
       "10  0.168809  444.830224 -1.885116\n",
       "11  0.128001  389.764414  3.504530\n",
       "12  0.123039  381.861365  0.795069\n",
       "13  0.093295  327.791864 -1.463198\n",
       "14  0.076562  291.417297  1.516657"
      ]
     },
     "metadata": {},
     "output_type": "display_data"
    },
    {
     "name": "stdout",
     "output_type": "stream",
     "text": [
      "Change in SSE: 6.61919\n"
     ]
    },
    {
     "data": {
      "text/plain": [
       "49.463792940644204"
      ]
     },
     "execution_count": 19,
     "metadata": {},
     "output_type": "execute_result"
    }
   ],
   "source": [
    "SSE = np.sum(D.Y**2)\n",
    "fit = ols(\"Y ~ 0 + g1 + g2\", D).fit()\n",
    "g += fit.params  # Initial Guess + Least Squareds Estimated Gradient (change)\n",
    "D = pd.DataFrame({\n",
    "    \"g1\": np.exp(g[1]*df.X),\n",
    "    \"g2\": g[0]*df.X*np.exp(g[1]*df.X),\n",
    "    \"Y\": df.Y - g[0]*np.exp(g[1]*df.X)\n",
    "})\n",
    "display(D)\n",
    "print(f\"Change in SSE: {round(SSE - np.sum(D.Y**2), 5)}\")\n",
    "SSE = np.sum(D.Y**2)\n",
    "SSE\n"
   ]
  },
  {
   "cell_type": "markdown",
   "metadata": {},
   "source": [
    "### Table 13.3 (p 524)\n",
    "\n",
    "Gauss-Newton Method Iterations and Final Nonlinear Least Squares Estimates -- Severely Injured Patients Example\n",
    "\n",
    "###### Note\n",
    "\n",
    "Here we create helper functions to perform the calculations done manually above. \n",
    "\n",
    "*  `nls_step` is used for taking an initial estimate `g`, fitted the $D^{(i)}$ and $Y^{(i)}$ matrices, computing the SSE (sum of squares residual in `statsmodels`), and then computing the fitted gradient estimate using matrix algebra $(D^{T}D)^{-1}D^{T}Y$ (13.26)\n",
    "*  `nls` is used for iterating through the process, either going a maximum number of times (`maxiter=100`) or until the change in SSE is less than some tolerance (`tol=1e-16`). Here we make the initial SSE infinite so that we always enter the while loop to test if the 2nd step is worth doing. Then we manually call the first iteration. We compute the likelihood ratio (ratio change in SSE). We use the estimated gradient to update the guess `g`. Then the values of the function are yielded so the result is a generator of the process.Otherwise, we go into the loop, update the step SSE with the new value and step through the process again until convergance or death."
   ]
  },
  {
   "cell_type": "code",
   "execution_count": null,
   "metadata": {},
   "outputs": [],
   "source": [
    "def nls_step(X, Y, g):\n",
    "    g1,g2 = g\n",
    "    D = np.array([\n",
    "        np.exp(g2*X),\n",
    "        g1*X*np.exp(g2*X)\n",
    "    ]).transpose()\n",
    "    Y = np.array(Y - g1*np.exp(g2*X)).reshape(-1,1)\n",
    "    ssr = np.sum(Y**2)\n",
    "    fit = inv(D.transpose().dot(D)).dot(D.transpose()).dot(Y)\n",
    "    return fit.transpose().tolist()[0], ssr, (D, Y)\n",
    "\n",
    "def nls(X, Y, g, tol=1e-16, maxiter=100):\n",
    "    i = 0\n",
    "    ssr_i = np.inf\n",
    "    grad, ssr, D = nls_step(X, Y, g)\n",
    "    llr = abs(ssr_i/ssr)\n",
    "    g = [sum(x) for x in zip(g, grad)]\n",
    "    yield i, g, ssr, llr, D\n",
    "    while (llr >= tol) and (i < maxiter):\n",
    "        i, ssr_i = i+1, ssr\n",
    "        b, ssr, D = nls_step(X, Y, g)\n",
    "        llr = abs(ssr_i-ssr)\n",
    "        g = [sum(x) for x in zip(g, b)]\n",
    "        yield i, g, ssr, llr, D"
   ]
  },
  {
   "cell_type": "markdown",
   "metadata": {},
   "source": [
    "#### Table 13.3(a)"
   ]
  },
  {
   "cell_type": "code",
   "execution_count": 93,
   "metadata": {
    "scrolled": true
   },
   "outputs": [
    {
     "data": {
      "text/html": [
       "<div>\n",
       "<style scoped>\n",
       "    .dataframe tbody tr th:only-of-type {\n",
       "        vertical-align: middle;\n",
       "    }\n",
       "\n",
       "    .dataframe tbody tr th {\n",
       "        vertical-align: top;\n",
       "    }\n",
       "\n",
       "    .dataframe thead th {\n",
       "        text-align: right;\n",
       "    }\n",
       "</style>\n",
       "<table border=\"1\" class=\"dataframe\">\n",
       "  <thead>\n",
       "    <tr style=\"text-align: right;\">\n",
       "      <th></th>\n",
       "      <th>g0</th>\n",
       "      <th>g1</th>\n",
       "      <th>SSE</th>\n",
       "      <th>likelihood</th>\n",
       "    </tr>\n",
       "  </thead>\n",
       "  <tbody>\n",
       "    <tr>\n",
       "      <th>0</th>\n",
       "      <td>58.605490</td>\n",
       "      <td>-0.039585</td>\n",
       "      <td>49.463793</td>\n",
       "      <td>inf</td>\n",
       "    </tr>\n",
       "    <tr>\n",
       "      <th>1</th>\n",
       "      <td>58.606532</td>\n",
       "      <td>-0.039586</td>\n",
       "      <td>49.459304</td>\n",
       "      <td>4.489208e-03</td>\n",
       "    </tr>\n",
       "    <tr>\n",
       "      <th>2</th>\n",
       "      <td>58.606565</td>\n",
       "      <td>-0.039586</td>\n",
       "      <td>49.459300</td>\n",
       "      <td>3.866158e-06</td>\n",
       "    </tr>\n",
       "    <tr>\n",
       "      <th>3</th>\n",
       "      <td>58.606566</td>\n",
       "      <td>-0.039586</td>\n",
       "      <td>49.459300</td>\n",
       "      <td>4.109111e-09</td>\n",
       "    </tr>\n",
       "    <tr>\n",
       "      <th>4</th>\n",
       "      <td>58.606566</td>\n",
       "      <td>-0.039586</td>\n",
       "      <td>49.459300</td>\n",
       "      <td>4.384049e-12</td>\n",
       "    </tr>\n",
       "    <tr>\n",
       "      <th>5</th>\n",
       "      <td>58.606566</td>\n",
       "      <td>-0.039586</td>\n",
       "      <td>49.459300</td>\n",
       "      <td>7.105427e-15</td>\n",
       "    </tr>\n",
       "    <tr>\n",
       "      <th>6</th>\n",
       "      <td>58.606566</td>\n",
       "      <td>-0.039586</td>\n",
       "      <td>49.459300</td>\n",
       "      <td>7.105427e-15</td>\n",
       "    </tr>\n",
       "    <tr>\n",
       "      <th>7</th>\n",
       "      <td>58.606566</td>\n",
       "      <td>-0.039586</td>\n",
       "      <td>49.459300</td>\n",
       "      <td>3.552714e-14</td>\n",
       "    </tr>\n",
       "    <tr>\n",
       "      <th>8</th>\n",
       "      <td>58.606566</td>\n",
       "      <td>-0.039586</td>\n",
       "      <td>49.459300</td>\n",
       "      <td>7.105427e-15</td>\n",
       "    </tr>\n",
       "    <tr>\n",
       "      <th>9</th>\n",
       "      <td>58.606566</td>\n",
       "      <td>-0.039586</td>\n",
       "      <td>49.459300</td>\n",
       "      <td>0.000000e+00</td>\n",
       "    </tr>\n",
       "  </tbody>\n",
       "</table>\n",
       "</div>"
      ],
      "text/plain": [
       "          g0        g1        SSE    likelihood\n",
       "0  58.605490 -0.039585  49.463793           inf\n",
       "1  58.606532 -0.039586  49.459304  4.489208e-03\n",
       "2  58.606565 -0.039586  49.459300  3.866158e-06\n",
       "3  58.606566 -0.039586  49.459300  4.109111e-09\n",
       "4  58.606566 -0.039586  49.459300  4.384049e-12\n",
       "5  58.606566 -0.039586  49.459300  7.105427e-15\n",
       "6  58.606566 -0.039586  49.459300  7.105427e-15\n",
       "7  58.606566 -0.039586  49.459300  3.552714e-14\n",
       "8  58.606566 -0.039586  49.459300  7.105427e-15\n",
       "9  58.606566 -0.039586  49.459300  0.000000e+00"
      ]
     },
     "execution_count": 93,
     "metadata": {},
     "output_type": "execute_result"
    }
   ],
   "source": [
    "model = list(nls(df.X, df.Y, g, 1e-16))\n",
    "pd.DataFrame([(g[0], g[1], sse, llr) for i, g, sse, llr, D in model], columns=[\"g0\", \"g1\", \"SSE\", \"likelihood\"])"
   ]
  },
  {
   "cell_type": "markdown",
   "metadata": {},
   "source": [
    "#### Table 13.3(b) and 13.3(c)\n",
    "\n",
    "Not laid out in a nice table, but all the information is there nonetheless. including the variance-covariance (`cov`) matrix, the standard errors, the MSE, and estimates. "
   ]
  },
  {
   "cell_type": "code",
   "execution_count": 94,
   "metadata": {},
   "outputs": [
    {
     "data": {
      "text/plain": [
       "{'i': 9,\n",
       " 'params': [58.6065663050836, -0.039586452833147996],\n",
       " 'ssr': 49.45929986243336,\n",
       " 'llr': 0.0,\n",
       " 'D': array([[9.23880167e-01, 1.08290888e+02],\n",
       "        [8.20425423e-01, 2.40411585e+02],\n",
       "        [7.57974777e-01, 3.10956093e+02],\n",
       "        [6.73097875e-01, 3.94479553e+02],\n",
       "        [5.74525762e-01, 4.71393751e+02],\n",
       "        [4.71355542e-01, 5.24866067e+02],\n",
       "        [3.57275612e-01, 5.44406117e+02],\n",
       "        [2.93117995e-01, 5.32537815e+02],\n",
       "        [2.60295073e-01, 5.18670015e+02],\n",
       "        [2.22176047e-01, 4.94797058e+02],\n",
       "        [1.68403840e-01, 4.44130685e+02],\n",
       "        [1.27645863e-01, 3.89006057e+02],\n",
       "        [1.22691525e-01, 3.81098037e+02],\n",
       "        [9.29970813e-02, 3.27014377e+02],\n",
       "        [7.62971698e-02, 2.90648484e+02]]),\n",
       " 'Y': array([[-0.14544424],\n",
       "        [ 1.91768302],\n",
       "        [ 0.57770098],\n",
       "        [-2.44795527],\n",
       "        [ 1.32901782],\n",
       "        [-2.62452982],\n",
       "        [-0.93869682],\n",
       "        [-1.17863921],\n",
       "        [ 2.74499956],\n",
       "        [-0.02097522],\n",
       "        [-1.86957079],\n",
       "        [ 3.51911429],\n",
       "        [ 0.809471  ],\n",
       "        [-1.45023961],\n",
       "        [ 1.52848486]]),\n",
       " 'MSE': 3.8045615278794895,\n",
       " 'cov': array([[ 2.16725605e+00, -1.78151573e-03],\n",
       "        [-1.78151573e-03,  2.92852718e-06]]),\n",
       " 'bse': [1.4721603357630446, 0.0017112940065688988]}"
      ]
     },
     "execution_count": 94,
     "metadata": {},
     "output_type": "execute_result"
    }
   ],
   "source": [
    "model = model[-1]\n",
    "model = {\n",
    "    \"i\": model[0],\n",
    "    \"params\": model[1],\n",
    "    \"ssr\": model[2],\n",
    "    \"llr\": model[3],\n",
    "    \"D\": model[4][0],\n",
    "    \"Y\": model[4][1]\n",
    "}\n",
    "model['MSE'] = model['ssr'] / (len(model['D']) - len(model['params']))\n",
    "model['cov'] = model['MSE'] * inv(model['D'].transpose().dot(model['D']))\n",
    "model['bse'] = np.sqrt(model['cov'].diagonal()).tolist()\n",
    "model"
   ]
  },
  {
   "cell_type": "markdown",
   "metadata": {},
   "source": [
    "Here we see how easy it is to use the `curve_fit` function instead to get the same estimates as well as the cov matrix and associated standard errors (square root of the diagonal of cov). The SSE could be recovered by computing the residuals explicitly and thus the MSE can be recovered."
   ]
  },
  {
   "cell_type": "code",
   "execution_count": 7,
   "metadata": {},
   "outputs": [
    {
     "name": "stderr",
     "output_type": "stream",
     "text": [
      "C:\\opt\\Anaconda3\\lib\\site-packages\\pandas\\core\\series.py:726: RuntimeWarning: overflow encountered in exp\n",
      "  result = getattr(ufunc, method)(*inputs, **kwargs)\n"
     ]
    },
    {
     "data": {
      "text/plain": [
       "{'params': [57.33208647728976, 0.044603817630668445, 2.430172775652056],\n",
       " 'bse': [1.828442575741837, 0.004877619457110116, 1.96550903242729],\n",
       " 'cov': array([[ 3.34320225e+00, -2.16435501e-03, -1.94044956e+00],\n",
       "        [-2.16435501e-03,  2.37911716e-05,  8.72015689e-03],\n",
       "        [-1.94044956e+00,  8.72015689e-03,  3.86322576e+00]])}"
      ]
     },
     "execution_count": 7,
     "metadata": {},
     "output_type": "execute_result"
    }
   ],
   "source": [
    "model = curve_fit(lambda x, a, b, c: c+a*np.exp(-b*x), df.X, df.Y)\n",
    "model = {\n",
    "    \"params\": model[0].tolist(), \n",
    "    \"bse\": np.sqrt(model[1].diagonal()).tolist(),\n",
    "    \"cov\": model[1]\n",
    "}\n",
    "model"
   ]
  },
  {
   "cell_type": "markdown",
   "metadata": {},
   "source": [
    "# 13.3 Model Building and Diagnostics (p 526)"
   ]
  },
  {
   "cell_type": "markdown",
   "metadata": {},
   "source": [
    "### Figure 13.3 (p 527)\n",
    "\n",
    "Diagnostic Residual Plots -- Severely Injured Patients Example\n",
    "\n",
    "This section is brief as these plots do not suggest any serious depatures from the model assumptions. Figure 13.3(a) does raise the question whether the error variance may be somewhat larger for cases with small fitted values near the asymptote. The Brown-Forsythe test can be conducted (not shown here). It would generate a p-value of $0.64$ indicating that the residuals are consistent with constancy of the error variance."
   ]
  },
  {
   "cell_type": "code",
   "execution_count": 55,
   "metadata": {},
   "outputs": [
    {
     "data": {
      "image/png": "[encoded data removed]",
      "text/plain": [
       "<Figure size 864x288 with 2 Axes>"
      ]
     },
     "metadata": {
      "needs_background": "light"
     },
     "output_type": "display_data"
    }
   ],
   "source": [
    "a,b = model['params']\n",
    "fitted = a*np.exp(-b*df.X)\n",
    "resid = df.Y - fitted\n",
    "\n",
    "fig, axes = plt.subplots(1, 2, figsize=(12, 4))\n",
    "plt.subplots_adjust(left=0.1, bottom=0.1, right=0.9, top=0.9, wspace=0.4, hspace=0.4)\n",
    "\n",
    "axes[0].scatter(fitted, resid)\n",
    "axes[0].axhline(y=0)\n",
    "\n",
    "qq = stats.probplot(resid, plot=axes[1])\n",
    "\n",
    "axes[0].set_title(\"(a) Residual Plot against \" + yhat)\n",
    "axes[1].set_title(\"(b) Normal Probability Plot\")\n",
    "plt.show()\n"
   ]
  },
  {
   "cell_type": "markdown",
   "metadata": {},
   "source": [
    "# 13.4 Inferences about Nonlinear Regression Parameters (p 527)"
   ]
  },
  {
   "cell_type": "code",
   "execution_count": null,
   "metadata": {},
   "outputs": [],
   "source": []
  },
  {
   "cell_type": "code",
   "execution_count": null,
   "metadata": {},
   "outputs": [],
   "source": []
  },
  {
   "cell_type": "code",
   "execution_count": null,
   "metadata": {},
   "outputs": [],
   "source": []
  },
  {
   "cell_type": "code",
   "execution_count": null,
   "metadata": {},
   "outputs": [],
   "source": []
  },
  {
   "cell_type": "code",
   "execution_count": null,
   "metadata": {},
   "outputs": [],
   "source": []
  },
  {
   "cell_type": "markdown",
   "metadata": {},
   "source": [
    "# 13.5 Learning Curve Example (p 533)"
   ]
  },
  {
   "cell_type": "markdown",
   "metadata": {},
   "source": [
    "# 13.6 Introduction to Neural Network Modeling (p 537)"
   ]
  },
  {
   "cell_type": "code",
   "execution_count": null,
   "metadata": {},
   "outputs": [],
   "source": []
  },
  {
   "cell_type": "code",
   "execution_count": null,
   "metadata": {},
   "outputs": [],
   "source": []
  },
  {
   "cell_type": "code",
   "execution_count": null,
   "metadata": {},
   "outputs": [],
   "source": []
  }
 ],
 "metadata": {
  "kernelspec": {
   "display_name": "Python 3",
   "language": "python",
   "name": "python3"
  },
  "language_info": {
   "codemirror_mode": {
    "name": "ipython",
    "version": 3
   },
   "file_extension": ".py",
   "mimetype": "text/x-python",
   "name": "python",
   "nbconvert_exporter": "python",
   "pygments_lexer": "ipython3",
   "version": "3.8.5"
  }
 },
 "nbformat": 4,
 "nbformat_minor": 4
}
