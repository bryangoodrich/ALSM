{
 "cells": [
  {
   "cell_type": "markdown",
   "metadata": {},
   "source": [
    "# Chapter 4 - Simultaneous Inferences and Other Topics in Regression Analysis"
   ]
  },
  {
   "cell_type": "markdown",
   "metadata": {},
   "source": [
    "# 4.1 Joint Estimationof $\\beta_0$ and $\\beta_1$ (p 154)"
   ]
  },
  {
   "cell_type": "code",
   "execution_count": 33,
   "metadata": {},
   "outputs": [],
   "source": [
    "import pandas as pd\n",
    "import numpy as np\n",
    "import matplotlib.pyplot as plt\n",
    "from statsmodels.stats.api import het_breuschpagan, anova_lm\n",
    "from statsmodels.formula.api import ols\n",
    "from statsmodels.nonparametric.smoothers_lowess import lowess\n",
    "from scipy import stats\n",
    "\n",
    "\n",
    "DATA_DIR = \"../alsm/data\"\n",
    "yhat = '\\u0177'\n",
    "square = '\\u00b2'"
   ]
  },
  {
   "cell_type": "markdown",
   "metadata": {},
   "source": [
    "### Input the Toluca Company Data"
   ]
  },
  {
   "cell_type": "code",
   "execution_count": 34,
   "metadata": {},
   "outputs": [],
   "source": [
    "df = pd.read_pickle(f\"{DATA_DIR}/CH01TA01.xz\")\n",
    "df.columns = ['x', 'y']\n",
    "model = ols(\"y ~ x\", data=df).fit()"
   ]
  },
  {
   "cell_type": "markdown",
   "metadata": {},
   "source": [
    "### Bonferroni Joint Confidence Intervals (p 156)\n",
    "\n",
    "The short of this procedure is that we're just tweaking the alpha value we pass to the confidence interval function (whether `conf_int` in python or `confint` in R). What this section teaches is really the theory around the alpha value we're selecting for the *family* confidence coeficient. \n",
    "\n",
    "For the standard 95 percent confidence level, we choose $\\alpha=0.05$ to produce the standard t statistic $t(1-\\frac{\\alpha}{2}; n-2)=t(0.975; n-2)$. \n",
    "\n",
    "The Bonferroni correction for a 90 percent *family* confidence interval, we adjust the chosen $\\alpha=0.10$ by a factor of $1-\\frac{\\alpha}{2g}$ where g here is the number of parameters in the family (for simple regression this is 2). Thus, by simple math we see that  \n",
    "\n",
    "$1-\\frac{0.1}{2g}=1-\\frac{0.1}{4}=1-0.025=1-\\frac{0.05}{2}=0.975$\n",
    "\n",
    "But this is the same thing as the individual 95 percent confidence interval. Therefore, to generate the corrected value requires no more sophistication than modifying the alpha value to `conf_int`. The 90 percent family confidence level for 2 parameters is equivalent to the individual coefficient 95 percent confidence level. "
   ]
  },
  {
   "cell_type": "code",
   "execution_count": 35,
   "metadata": {
    "scrolled": false
   },
   "outputs": [
    {
     "data": {
      "text/html": [
       "<table class=\"simpletable\">\n",
       "<caption>OLS Regression Results</caption>\n",
       "<tr>\n",
       "  <th>Dep. Variable:</th>            <td>y</td>        <th>  R-squared:         </th> <td>   0.822</td>\n",
       "</tr>\n",
       "<tr>\n",
       "  <th>Model:</th>                   <td>OLS</td>       <th>  Adj. R-squared:    </th> <td>   0.814</td>\n",
       "</tr>\n",
       "<tr>\n",
       "  <th>Method:</th>             <td>Least Squares</td>  <th>  F-statistic:       </th> <td>   105.9</td>\n",
       "</tr>\n",
       "<tr>\n",
       "  <th>Date:</th>             <td>Mon, 26 Apr 2021</td> <th>  Prob (F-statistic):</th> <td>4.45e-10</td>\n",
       "</tr>\n",
       "<tr>\n",
       "  <th>Time:</th>                 <td>20:38:19</td>     <th>  Log-Likelihood:    </th> <td> -131.64</td>\n",
       "</tr>\n",
       "<tr>\n",
       "  <th>No. Observations:</th>      <td>    25</td>      <th>  AIC:               </th> <td>   267.3</td>\n",
       "</tr>\n",
       "<tr>\n",
       "  <th>Df Residuals:</th>          <td>    23</td>      <th>  BIC:               </th> <td>   269.7</td>\n",
       "</tr>\n",
       "<tr>\n",
       "  <th>Df Model:</th>              <td>     1</td>      <th>                     </th>     <td> </td>   \n",
       "</tr>\n",
       "<tr>\n",
       "  <th>Covariance Type:</th>      <td>nonrobust</td>    <th>                     </th>     <td> </td>   \n",
       "</tr>\n",
       "</table>\n",
       "<table class=\"simpletable\">\n",
       "<tr>\n",
       "      <td></td>         <th>coef</th>     <th>std err</th>      <th>t</th>      <th>P>|t|</th>  <th>[0.025</th>    <th>0.975]</th>  \n",
       "</tr>\n",
       "<tr>\n",
       "  <th>Intercept</th> <td>   62.3659</td> <td>   26.177</td> <td>    2.382</td> <td> 0.026</td> <td>    8.214</td> <td>  116.518</td>\n",
       "</tr>\n",
       "<tr>\n",
       "  <th>x</th>         <td>    3.5702</td> <td>    0.347</td> <td>   10.290</td> <td> 0.000</td> <td>    2.852</td> <td>    4.288</td>\n",
       "</tr>\n",
       "</table>\n",
       "<table class=\"simpletable\">\n",
       "<tr>\n",
       "  <th>Omnibus:</th>       <td> 0.608</td> <th>  Durbin-Watson:     </th> <td>   1.432</td>\n",
       "</tr>\n",
       "<tr>\n",
       "  <th>Prob(Omnibus):</th> <td> 0.738</td> <th>  Jarque-Bera (JB):  </th> <td>   0.684</td>\n",
       "</tr>\n",
       "<tr>\n",
       "  <th>Skew:</th>          <td> 0.298</td> <th>  Prob(JB):          </th> <td>   0.710</td>\n",
       "</tr>\n",
       "<tr>\n",
       "  <th>Kurtosis:</th>      <td> 2.450</td> <th>  Cond. No.          </th> <td>    202.</td>\n",
       "</tr>\n",
       "</table><br/><br/>Notes:<br/>[1] Standard Errors assume that the covariance matrix of the errors is correctly specified."
      ],
      "text/plain": [
       "<class 'statsmodels.iolib.summary.Summary'>\n",
       "\"\"\"\n",
       "                            OLS Regression Results                            \n",
       "==============================================================================\n",
       "Dep. Variable:                      y   R-squared:                       0.822\n",
       "Model:                            OLS   Adj. R-squared:                  0.814\n",
       "Method:                 Least Squares   F-statistic:                     105.9\n",
       "Date:                Mon, 26 Apr 2021   Prob (F-statistic):           4.45e-10\n",
       "Time:                        20:38:19   Log-Likelihood:                -131.64\n",
       "No. Observations:                  25   AIC:                             267.3\n",
       "Df Residuals:                      23   BIC:                             269.7\n",
       "Df Model:                           1                                         \n",
       "Covariance Type:            nonrobust                                         \n",
       "==============================================================================\n",
       "                 coef    std err          t      P>|t|      [0.025      0.975]\n",
       "------------------------------------------------------------------------------\n",
       "Intercept     62.3659     26.177      2.382      0.026       8.214     116.518\n",
       "x              3.5702      0.347     10.290      0.000       2.852       4.288\n",
       "==============================================================================\n",
       "Omnibus:                        0.608   Durbin-Watson:                   1.432\n",
       "Prob(Omnibus):                  0.738   Jarque-Bera (JB):                0.684\n",
       "Skew:                           0.298   Prob(JB):                        0.710\n",
       "Kurtosis:                       2.450   Cond. No.                         202.\n",
       "==============================================================================\n",
       "\n",
       "Notes:\n",
       "[1] Standard Errors assume that the covariance matrix of the errors is correctly specified.\n",
       "\"\"\""
      ]
     },
     "metadata": {},
     "output_type": "display_data"
    },
    {
     "data": {
      "text/html": [
       "<div>\n",
       "<style scoped>\n",
       "    .dataframe tbody tr th:only-of-type {\n",
       "        vertical-align: middle;\n",
       "    }\n",
       "\n",
       "    .dataframe tbody tr th {\n",
       "        vertical-align: top;\n",
       "    }\n",
       "\n",
       "    .dataframe thead th {\n",
       "        text-align: right;\n",
       "    }\n",
       "</style>\n",
       "<table border=\"1\" class=\"dataframe\">\n",
       "  <thead>\n",
       "    <tr style=\"text-align: right;\">\n",
       "      <th></th>\n",
       "      <th>0</th>\n",
       "      <th>1</th>\n",
       "    </tr>\n",
       "  </thead>\n",
       "  <tbody>\n",
       "    <tr>\n",
       "      <th>Intercept</th>\n",
       "      <td>8.213711</td>\n",
       "      <td>116.518006</td>\n",
       "    </tr>\n",
       "    <tr>\n",
       "      <th>x</th>\n",
       "      <td>2.852435</td>\n",
       "      <td>4.287969</td>\n",
       "    </tr>\n",
       "  </tbody>\n",
       "</table>\n",
       "</div>"
      ],
      "text/plain": [
       "                  0           1\n",
       "Intercept  8.213711  116.518006\n",
       "x          2.852435    4.287969"
      ]
     },
     "metadata": {},
     "output_type": "display_data"
    }
   ],
   "source": [
    "display(model.summary())\n",
    "display(model.conf_int(alpha = 0.1 / 2))"
   ]
  },
  {
   "cell_type": "markdown",
   "metadata": {},
   "source": [
    "# 4.2 Simultaneous Estimation of Mean Responses (p 157)"
   ]
  },
  {
   "cell_type": "markdown",
   "metadata": {},
   "source": [
    "### Example (p 158-159)\n",
    "\n",
    "Here we revisit the Working-Hotelling Procedure from chapter 2 (p 61) and supply specific values of `x` to estimate."
   ]
  },
  {
   "cell_type": "code",
   "execution_count": 36,
   "metadata": {},
   "outputs": [
    {
     "data": {
      "text/html": [
       "<div>\n",
       "<style scoped>\n",
       "    .dataframe tbody tr th:only-of-type {\n",
       "        vertical-align: middle;\n",
       "    }\n",
       "\n",
       "    .dataframe tbody tr th {\n",
       "        vertical-align: top;\n",
       "    }\n",
       "\n",
       "    .dataframe thead th {\n",
       "        text-align: right;\n",
       "    }\n",
       "</style>\n",
       "<table border=\"1\" class=\"dataframe\">\n",
       "  <thead>\n",
       "    <tr style=\"text-align: right;\">\n",
       "      <th></th>\n",
       "      <th>x</th>\n",
       "      <th>mean</th>\n",
       "      <th>mean_se</th>\n",
       "      <th>mean_ci_lower</th>\n",
       "      <th>mean_ci_upper</th>\n",
       "      <th>obs_ci_lower</th>\n",
       "      <th>obs_ci_upper</th>\n",
       "      <th>wh_ci_lower</th>\n",
       "      <th>wh_ci_upper</th>\n",
       "    </tr>\n",
       "  </thead>\n",
       "  <tbody>\n",
       "    <tr>\n",
       "      <th>0</th>\n",
       "      <td>30</td>\n",
       "      <td>169.471919</td>\n",
       "      <td>16.969741</td>\n",
       "      <td>140.387963</td>\n",
       "      <td>198.555875</td>\n",
       "      <td>80.884691</td>\n",
       "      <td>258.059147</td>\n",
       "      <td>131.154188</td>\n",
       "      <td>207.789651</td>\n",
       "    </tr>\n",
       "    <tr>\n",
       "      <th>1</th>\n",
       "      <td>65</td>\n",
       "      <td>294.428990</td>\n",
       "      <td>9.917579</td>\n",
       "      <td>277.431534</td>\n",
       "      <td>311.426446</td>\n",
       "      <td>209.043195</td>\n",
       "      <td>379.814785</td>\n",
       "      <td>272.035064</td>\n",
       "      <td>316.822916</td>\n",
       "    </tr>\n",
       "    <tr>\n",
       "      <th>2</th>\n",
       "      <td>100</td>\n",
       "      <td>419.386061</td>\n",
       "      <td>14.272328</td>\n",
       "      <td>394.925125</td>\n",
       "      <td>443.846996</td>\n",
       "      <td>332.207177</td>\n",
       "      <td>506.564945</td>\n",
       "      <td>387.159097</td>\n",
       "      <td>451.613024</td>\n",
       "    </tr>\n",
       "  </tbody>\n",
       "</table>\n",
       "</div>"
      ],
      "text/plain": [
       "     x        mean    mean_se  mean_ci_lower  mean_ci_upper  obs_ci_lower  \\\n",
       "0   30  169.471919  16.969741     140.387963     198.555875     80.884691   \n",
       "1   65  294.428990   9.917579     277.431534     311.426446    209.043195   \n",
       "2  100  419.386061  14.272328     394.925125     443.846996    332.207177   \n",
       "\n",
       "   obs_ci_upper  wh_ci_lower  wh_ci_upper  \n",
       "0    258.059147   131.154188   207.789651  \n",
       "1    379.814785   272.035064   316.822916  \n",
       "2    506.564945   387.159097   451.613024  "
      ]
     },
     "metadata": {},
     "output_type": "display_data"
    }
   ],
   "source": [
    "W = np.sqrt(2 * stats.f.ppf(1-0.1, 2, 23))\n",
    "xh = pd.DataFrame({\"x\": [30, 65, 100]})\n",
    "yh = model.get_prediction(xh).summary_frame(alpha=0.1)\n",
    "yh = pd.concat([xh, yh], axis=1)\n",
    "yh[\"wh_ci_lower\"] = yh[\"mean\"] - W*yh.mean_se\n",
    "yh[\"wh_ci_upper\"] = yh[\"mean\"] + W*yh.mean_se\n",
    "display(yh.sort_values(\"x\"))"
   ]
  },
  {
   "cell_type": "markdown",
   "metadata": {},
   "source": [
    "In this instance, we use the Bonferroni correction demonstrated earlier. The same tweak applies, but here $g=3$. So for a 90 percent *family* confidence coefficient, we need to pass our functions an $\\alpha$ value that will produce \n",
    "\n",
    "$1-\\frac{0.10}{2g}=1-\\frac{0.10}{6}=1-0.01666667=0.98333$\n",
    "\n",
    "But notice that what we actually pass in will just be $\\frac{\\alpha}{g}$ because the function will provide the $\\alpha$ to the $1-\\frac{\\alpha}{2}$ confidence level. So to get $1-\\frac{\\alpha}{2}=0.983333$ we just pass in $\\frac{\\alpha}{g}$"
   ]
  },
  {
   "cell_type": "code",
   "execution_count": 37,
   "metadata": {
    "scrolled": true
   },
   "outputs": [
    {
     "data": {
      "text/html": [
       "<div>\n",
       "<style scoped>\n",
       "    .dataframe tbody tr th:only-of-type {\n",
       "        vertical-align: middle;\n",
       "    }\n",
       "\n",
       "    .dataframe tbody tr th {\n",
       "        vertical-align: top;\n",
       "    }\n",
       "\n",
       "    .dataframe thead th {\n",
       "        text-align: right;\n",
       "    }\n",
       "</style>\n",
       "<table border=\"1\" class=\"dataframe\">\n",
       "  <thead>\n",
       "    <tr style=\"text-align: right;\">\n",
       "      <th></th>\n",
       "      <th>x</th>\n",
       "      <th>mean</th>\n",
       "      <th>mean_se</th>\n",
       "      <th>mean_ci_lower</th>\n",
       "      <th>mean_ci_upper</th>\n",
       "      <th>obs_ci_lower</th>\n",
       "      <th>obs_ci_upper</th>\n",
       "    </tr>\n",
       "  </thead>\n",
       "  <tbody>\n",
       "    <tr>\n",
       "      <th>0</th>\n",
       "      <td>30</td>\n",
       "      <td>169.471919</td>\n",
       "      <td>16.969741</td>\n",
       "      <td>131.057035</td>\n",
       "      <td>207.886803</td>\n",
       "      <td>52.463487</td>\n",
       "      <td>286.480351</td>\n",
       "    </tr>\n",
       "    <tr>\n",
       "      <th>1</th>\n",
       "      <td>65</td>\n",
       "      <td>294.428990</td>\n",
       "      <td>9.917579</td>\n",
       "      <td>271.978286</td>\n",
       "      <td>316.879694</td>\n",
       "      <td>181.649099</td>\n",
       "      <td>407.208881</td>\n",
       "    </tr>\n",
       "    <tr>\n",
       "      <th>2</th>\n",
       "      <td>100</td>\n",
       "      <td>419.386061</td>\n",
       "      <td>14.272328</td>\n",
       "      <td>387.077388</td>\n",
       "      <td>451.694733</td>\n",
       "      <td>304.237808</td>\n",
       "      <td>534.534313</td>\n",
       "    </tr>\n",
       "  </tbody>\n",
       "</table>\n",
       "</div>"
      ],
      "text/plain": [
       "     x        mean    mean_se  mean_ci_lower  mean_ci_upper  obs_ci_lower  \\\n",
       "0   30  169.471919  16.969741     131.057035     207.886803     52.463487   \n",
       "1   65  294.428990   9.917579     271.978286     316.879694    181.649099   \n",
       "2  100  419.386061  14.272328     387.077388     451.694733    304.237808   \n",
       "\n",
       "   obs_ci_upper  \n",
       "0    286.480351  \n",
       "1    407.208881  \n",
       "2    534.534313  "
      ]
     },
     "metadata": {},
     "output_type": "display_data"
    }
   ],
   "source": [
    "family_alpha = 0.10\n",
    "xh = pd.DataFrame({\"x\": [30, 65, 100]})\n",
    "g = len(xh)\n",
    "yh = model.get_prediction(xh).summary_frame(alpha=family_alpha/g)\n",
    "display(pd.concat([xh, yh], axis=1))"
   ]
  },
  {
   "cell_type": "markdown",
   "metadata": {},
   "source": [
    "# 4.3 Simultaneous Prediction Intervals for New Observations (p 160)"
   ]
  },
  {
   "cell_type": "markdown",
   "metadata": {},
   "source": [
    "### Example (p 160)\n",
    "\n",
    "There is no direct calculation to produce these results, but between the `stats` package and the moel object, computing these values is pretty easy. I leave it to the interested reader to wrap these common adjustments into a single package!\n",
    "\n",
    "Notice, the `obs_ci_lower` and `obs_ci_upper` correspond exactly to the Bonferroni corrected limits at this 95 percent family confidence interval. Is that by chance? "
   ]
  },
  {
   "cell_type": "code",
   "execution_count": 38,
   "metadata": {},
   "outputs": [
    {
     "data": {
      "text/html": [
       "<div>\n",
       "<style scoped>\n",
       "    .dataframe tbody tr th:only-of-type {\n",
       "        vertical-align: middle;\n",
       "    }\n",
       "\n",
       "    .dataframe tbody tr th {\n",
       "        vertical-align: top;\n",
       "    }\n",
       "\n",
       "    .dataframe thead th {\n",
       "        text-align: right;\n",
       "    }\n",
       "</style>\n",
       "<table border=\"1\" class=\"dataframe\">\n",
       "  <thead>\n",
       "    <tr style=\"text-align: right;\">\n",
       "      <th></th>\n",
       "      <th>Multipliers</th>\n",
       "    </tr>\n",
       "  </thead>\n",
       "  <tbody>\n",
       "    <tr>\n",
       "      <th>Bonferroni</th>\n",
       "      <td>2.397875</td>\n",
       "    </tr>\n",
       "    <tr>\n",
       "      <th>Scheffe</th>\n",
       "      <td>2.616155</td>\n",
       "    </tr>\n",
       "  </tbody>\n",
       "</table>\n",
       "</div>"
      ],
      "text/plain": [
       "            Multipliers\n",
       "Bonferroni     2.397875\n",
       "Scheffe        2.616155"
      ]
     },
     "metadata": {},
     "output_type": "display_data"
    },
    {
     "data": {
      "text/html": [
       "<div>\n",
       "<style scoped>\n",
       "    .dataframe tbody tr th:only-of-type {\n",
       "        vertical-align: middle;\n",
       "    }\n",
       "\n",
       "    .dataframe tbody tr th {\n",
       "        vertical-align: top;\n",
       "    }\n",
       "\n",
       "    .dataframe thead th {\n",
       "        text-align: right;\n",
       "    }\n",
       "</style>\n",
       "<table border=\"1\" class=\"dataframe\">\n",
       "  <thead>\n",
       "    <tr style=\"text-align: right;\">\n",
       "      <th></th>\n",
       "      <th>x</th>\n",
       "      <th>mean</th>\n",
       "      <th>mean_se</th>\n",
       "      <th>mean_ci_lower</th>\n",
       "      <th>mean_ci_upper</th>\n",
       "      <th>obs_ci_lower</th>\n",
       "      <th>obs_ci_upper</th>\n",
       "      <th>bon_ci_lower</th>\n",
       "      <th>bon_ci_upper</th>\n",
       "    </tr>\n",
       "  </thead>\n",
       "  <tbody>\n",
       "    <tr>\n",
       "      <th>0</th>\n",
       "      <td>80</td>\n",
       "      <td>347.982020</td>\n",
       "      <td>10.362798</td>\n",
       "      <td>323.133324</td>\n",
       "      <td>372.830716</td>\n",
       "      <td>228.301791</td>\n",
       "      <td>467.662249</td>\n",
       "      <td>228.301791</td>\n",
       "      <td>467.662249</td>\n",
       "    </tr>\n",
       "    <tr>\n",
       "      <th>1</th>\n",
       "      <td>100</td>\n",
       "      <td>419.386061</td>\n",
       "      <td>14.272328</td>\n",
       "      <td>385.162802</td>\n",
       "      <td>453.609319</td>\n",
       "      <td>297.414216</td>\n",
       "      <td>541.357906</td>\n",
       "      <td>297.414216</td>\n",
       "      <td>541.357906</td>\n",
       "    </tr>\n",
       "  </tbody>\n",
       "</table>\n",
       "</div>"
      ],
      "text/plain": [
       "     x        mean    mean_se  mean_ci_lower  mean_ci_upper  obs_ci_lower  \\\n",
       "0   80  347.982020  10.362798     323.133324     372.830716    228.301791   \n",
       "1  100  419.386061  14.272328     385.162802     453.609319    297.414216   \n",
       "\n",
       "   obs_ci_upper  bon_ci_lower  bon_ci_upper  \n",
       "0    467.662249    228.301791    467.662249  \n",
       "1    541.357906    297.414216    541.357906  "
      ]
     },
     "execution_count": 38,
     "metadata": {},
     "output_type": "execute_result"
    }
   ],
   "source": [
    "xh = pd.DataFrame({\"x\": [80, 100]})\n",
    "family_alpha = 0.05\n",
    "g = len(xh)\n",
    "yh = model.get_prediction(xh).summary_frame(alpha=0.05/g)\n",
    "yh = pd.concat([xh, yh], axis=1)\n",
    "\n",
    "spred = np.sqrt(model.mse_resid + yh.mean_se**2)\n",
    "B = stats.t.ppf(1-family_alpha/(2*g), model.nobs-2)\n",
    "S = np.sqrt(g*stats.f.ppf(1-family_alpha, g, model.nobs-2))\n",
    "display(pd.DataFrame({\"Multipliers\": [B, S]}, index=['Bonferroni', 'Scheffe']))\n",
    "\n",
    "yh[\"bon_ci_lower\"] = yh[\"mean\"]-B*spred\n",
    "yh[\"bon_ci_upper\"] = yh[\"mean\"]+B*spred\n",
    "yh"
   ]
  },
  {
   "cell_type": "markdown",
   "metadata": {},
   "source": [
    "### Input the Warehouse Data"
   ]
  },
  {
   "cell_type": "markdown",
   "metadata": {},
   "source": [
    "# 4.4 Regression through Origin (p 161)"
   ]
  },
  {
   "cell_type": "code",
   "execution_count": 39,
   "metadata": {},
   "outputs": [],
   "source": [
    "df = pd.read_pickle(f\"{DATA_DIR}/CH04TA02.xz\")\n",
    "df.columns = ['x', 'y']\n",
    "model_std = ols(\"y ~ x\", data=df).fit()\n",
    "model = ols(\"y ~ 0 + x\", data=df).fit()"
   ]
  },
  {
   "cell_type": "markdown",
   "metadata": {},
   "source": [
    "### Table 4.2 (p 163)\n",
    "\n",
    "Regression through Origin -- Warehouse Example"
   ]
  },
  {
   "cell_type": "code",
   "execution_count": 40,
   "metadata": {},
   "outputs": [
    {
     "data": {
      "text/html": [
       "<div>\n",
       "<style scoped>\n",
       "    .dataframe tbody tr th:only-of-type {\n",
       "        vertical-align: middle;\n",
       "    }\n",
       "\n",
       "    .dataframe tbody tr th {\n",
       "        vertical-align: top;\n",
       "    }\n",
       "\n",
       "    .dataframe thead th {\n",
       "        text-align: right;\n",
       "    }\n",
       "</style>\n",
       "<table border=\"1\" class=\"dataframe\">\n",
       "  <thead>\n",
       "    <tr style=\"text-align: right;\">\n",
       "      <th></th>\n",
       "      <th>Work Units Performed (x)</th>\n",
       "      <th>Variable Labor Costs (y)</th>\n",
       "      <th>XiYi</th>\n",
       "      <th>Xi2</th>\n",
       "      <th>ŷ</th>\n",
       "      <th>ei</th>\n",
       "    </tr>\n",
       "  </thead>\n",
       "  <tbody>\n",
       "    <tr>\n",
       "      <th>0</th>\n",
       "      <td>20</td>\n",
       "      <td>114</td>\n",
       "      <td>2280</td>\n",
       "      <td>400</td>\n",
       "      <td>93.705482</td>\n",
       "      <td>20.294518</td>\n",
       "    </tr>\n",
       "    <tr>\n",
       "      <th>1</th>\n",
       "      <td>196</td>\n",
       "      <td>921</td>\n",
       "      <td>180516</td>\n",
       "      <td>38416</td>\n",
       "      <td>918.313726</td>\n",
       "      <td>2.686274</td>\n",
       "    </tr>\n",
       "    <tr>\n",
       "      <th>2</th>\n",
       "      <td>115</td>\n",
       "      <td>560</td>\n",
       "      <td>64400</td>\n",
       "      <td>13225</td>\n",
       "      <td>538.806523</td>\n",
       "      <td>21.193477</td>\n",
       "    </tr>\n",
       "    <tr>\n",
       "      <th>3</th>\n",
       "      <td>50</td>\n",
       "      <td>245</td>\n",
       "      <td>12250</td>\n",
       "      <td>2500</td>\n",
       "      <td>234.263706</td>\n",
       "      <td>10.736294</td>\n",
       "    </tr>\n",
       "    <tr>\n",
       "      <th>4</th>\n",
       "      <td>122</td>\n",
       "      <td>575</td>\n",
       "      <td>70150</td>\n",
       "      <td>14884</td>\n",
       "      <td>571.603442</td>\n",
       "      <td>3.396558</td>\n",
       "    </tr>\n",
       "    <tr>\n",
       "      <th>5</th>\n",
       "      <td>100</td>\n",
       "      <td>475</td>\n",
       "      <td>47500</td>\n",
       "      <td>10000</td>\n",
       "      <td>468.527411</td>\n",
       "      <td>6.472589</td>\n",
       "    </tr>\n",
       "    <tr>\n",
       "      <th>6</th>\n",
       "      <td>33</td>\n",
       "      <td>138</td>\n",
       "      <td>4554</td>\n",
       "      <td>1089</td>\n",
       "      <td>154.614046</td>\n",
       "      <td>-16.614046</td>\n",
       "    </tr>\n",
       "    <tr>\n",
       "      <th>7</th>\n",
       "      <td>154</td>\n",
       "      <td>727</td>\n",
       "      <td>111958</td>\n",
       "      <td>23716</td>\n",
       "      <td>721.532213</td>\n",
       "      <td>5.467787</td>\n",
       "    </tr>\n",
       "    <tr>\n",
       "      <th>8</th>\n",
       "      <td>80</td>\n",
       "      <td>375</td>\n",
       "      <td>30000</td>\n",
       "      <td>6400</td>\n",
       "      <td>374.821929</td>\n",
       "      <td>0.178071</td>\n",
       "    </tr>\n",
       "    <tr>\n",
       "      <th>9</th>\n",
       "      <td>147</td>\n",
       "      <td>670</td>\n",
       "      <td>98490</td>\n",
       "      <td>21609</td>\n",
       "      <td>688.735294</td>\n",
       "      <td>-18.735294</td>\n",
       "    </tr>\n",
       "    <tr>\n",
       "      <th>10</th>\n",
       "      <td>182</td>\n",
       "      <td>828</td>\n",
       "      <td>150696</td>\n",
       "      <td>33124</td>\n",
       "      <td>852.719888</td>\n",
       "      <td>-24.719888</td>\n",
       "    </tr>\n",
       "    <tr>\n",
       "      <th>11</th>\n",
       "      <td>160</td>\n",
       "      <td>762</td>\n",
       "      <td>121920</td>\n",
       "      <td>25600</td>\n",
       "      <td>749.643858</td>\n",
       "      <td>12.356142</td>\n",
       "    </tr>\n",
       "  </tbody>\n",
       "</table>\n",
       "</div>"
      ],
      "text/plain": [
       "    Work Units Performed (x)  Variable Labor Costs (y)    XiYi    Xi2  \\\n",
       "0                         20                       114    2280    400   \n",
       "1                        196                       921  180516  38416   \n",
       "2                        115                       560   64400  13225   \n",
       "3                         50                       245   12250   2500   \n",
       "4                        122                       575   70150  14884   \n",
       "5                        100                       475   47500  10000   \n",
       "6                         33                       138    4554   1089   \n",
       "7                        154                       727  111958  23716   \n",
       "8                         80                       375   30000   6400   \n",
       "9                        147                       670   98490  21609   \n",
       "10                       182                       828  150696  33124   \n",
       "11                       160                       762  121920  25600   \n",
       "\n",
       "             ŷ         ei  \n",
       "0    93.705482  20.294518  \n",
       "1   918.313726   2.686274  \n",
       "2   538.806523  21.193477  \n",
       "3   234.263706  10.736294  \n",
       "4   571.603442   3.396558  \n",
       "5   468.527411   6.472589  \n",
       "6   154.614046 -16.614046  \n",
       "7   721.532213   5.467787  \n",
       "8   374.821929   0.178071  \n",
       "9   688.735294 -18.735294  \n",
       "10  852.719888 -24.719888  \n",
       "11  749.643858  12.356142  "
      ]
     },
     "execution_count": 40,
     "metadata": {},
     "output_type": "execute_result"
    }
   ],
   "source": [
    "pd.DataFrame({\n",
    "    \"Work Units Performed (x)\": df.x,\n",
    "    \"Variable Labor Costs (y)\": df.y,\n",
    "    \"XiYi\": df.x*df.y,\n",
    "    \"Xi2\": df.x**2,\n",
    "    yhat: model.fittedvalues,\n",
    "    \"ei\": model.resid\n",
    "})"
   ]
  },
  {
   "cell_type": "markdown",
   "metadata": {},
   "source": [
    "### Figure 4.1 (p 163)\n",
    "\n",
    "Scatter Plot and Fitted Regression through Origin -- Warehouse Example"
   ]
  },
  {
   "cell_type": "code",
   "execution_count": 41,
   "metadata": {},
   "outputs": [
    {
     "data": {
      "text/plain": [
       "[<matplotlib.lines.Line2D at 0x1dcd58c2b50>]"
      ]
     },
     "execution_count": 41,
     "metadata": {},
     "output_type": "execute_result"
    },
    {
     "data": {
      "image/png": "[encoded data removed]",
      "text/plain": [
       "<Figure size 432x288 with 1 Axes>"
      ]
     },
     "metadata": {
      "needs_background": "light"
     },
     "output_type": "display_data"
    }
   ],
   "source": [
    "df.plot.scatter('x', 'y')\n",
    "plt.plot(df.x, model.fittedvalues)"
   ]
  },
  {
   "cell_type": "markdown",
   "metadata": {},
   "source": [
    "For comparison, I present a model with a separate intercept term, but all book calculations are directly observable from the summary or ANOVA output. Calculations can be done pretty easily using the model components. For details on that, see [statsmodels.regression.linear_model.RegressionResults](https://www.statsmodels.org/v0.12.1/generated/statsmodels.regression.linear_model.RegressionResults.html)"
   ]
  },
  {
   "cell_type": "code",
   "execution_count": 42,
   "metadata": {},
   "outputs": [
    {
     "name": "stderr",
     "output_type": "stream",
     "text": [
      "C:\\opt\\Anaconda3\\lib\\site-packages\\scipy\\stats\\stats.py:1603: UserWarning: kurtosistest only valid for n>=20 ... continuing anyway, n=12\n",
      "  warnings.warn(\"kurtosistest only valid for n>=20 ... continuing \"\n"
     ]
    },
    {
     "data": {
      "text/html": [
       "<table class=\"simpletable\">\n",
       "<caption>OLS Regression Results</caption>\n",
       "<tr>\n",
       "  <th>Dep. Variable:</th>            <td>y</td>        <th>  R-squared (uncentered):</th>      <td>   0.999</td> \n",
       "</tr>\n",
       "<tr>\n",
       "  <th>Model:</th>                   <td>OLS</td>       <th>  Adj. R-squared (uncentered):</th> <td>   0.999</td> \n",
       "</tr>\n",
       "<tr>\n",
       "  <th>Method:</th>             <td>Least Squares</td>  <th>  F-statistic:       </th>          <td>1.876e+04</td>\n",
       "</tr>\n",
       "<tr>\n",
       "  <th>Date:</th>             <td>Mon, 26 Apr 2021</td> <th>  Prob (F-statistic):</th>          <td>3.93e-19</td> \n",
       "</tr>\n",
       "<tr>\n",
       "  <th>Time:</th>                 <td>20:38:20</td>     <th>  Log-Likelihood:    </th>          <td> -48.960</td> \n",
       "</tr>\n",
       "<tr>\n",
       "  <th>No. Observations:</th>      <td>    12</td>      <th>  AIC:               </th>          <td>   99.92</td> \n",
       "</tr>\n",
       "<tr>\n",
       "  <th>Df Residuals:</th>          <td>    11</td>      <th>  BIC:               </th>          <td>   100.4</td> \n",
       "</tr>\n",
       "<tr>\n",
       "  <th>Df Model:</th>              <td>     1</td>      <th>                     </th>              <td> </td>    \n",
       "</tr>\n",
       "<tr>\n",
       "  <th>Covariance Type:</th>      <td>nonrobust</td>    <th>                     </th>              <td> </td>    \n",
       "</tr>\n",
       "</table>\n",
       "<table class=\"simpletable\">\n",
       "<tr>\n",
       "  <td></td>     <th>coef</th>     <th>std err</th>      <th>t</th>      <th>P>|t|</th>  <th>[0.025</th>    <th>0.975]</th>  \n",
       "</tr>\n",
       "<tr>\n",
       "  <th>x</th> <td>    4.6853</td> <td>    0.034</td> <td>  136.976</td> <td> 0.000</td> <td>    4.610</td> <td>    4.761</td>\n",
       "</tr>\n",
       "</table>\n",
       "<table class=\"simpletable\">\n",
       "<tr>\n",
       "  <th>Omnibus:</th>       <td> 1.104</td> <th>  Durbin-Watson:     </th> <td>   1.482</td>\n",
       "</tr>\n",
       "<tr>\n",
       "  <th>Prob(Omnibus):</th> <td> 0.576</td> <th>  Jarque-Bera (JB):  </th> <td>   0.902</td>\n",
       "</tr>\n",
       "<tr>\n",
       "  <th>Skew:</th>          <td>-0.542</td> <th>  Prob(JB):          </th> <td>   0.637</td>\n",
       "</tr>\n",
       "<tr>\n",
       "  <th>Kurtosis:</th>      <td> 2.207</td> <th>  Cond. No.          </th> <td>    1.00</td>\n",
       "</tr>\n",
       "</table><br/><br/>Notes:<br/>[1] R² is computed without centering (uncentered) since the model does not contain a constant.<br/>[2] Standard Errors assume that the covariance matrix of the errors is correctly specified."
      ],
      "text/plain": [
       "<class 'statsmodels.iolib.summary.Summary'>\n",
       "\"\"\"\n",
       "                                 OLS Regression Results                                \n",
       "=======================================================================================\n",
       "Dep. Variable:                      y   R-squared (uncentered):                   0.999\n",
       "Model:                            OLS   Adj. R-squared (uncentered):              0.999\n",
       "Method:                 Least Squares   F-statistic:                          1.876e+04\n",
       "Date:                Mon, 26 Apr 2021   Prob (F-statistic):                    3.93e-19\n",
       "Time:                        20:38:20   Log-Likelihood:                         -48.960\n",
       "No. Observations:                  12   AIC:                                      99.92\n",
       "Df Residuals:                      11   BIC:                                      100.4\n",
       "Df Model:                           1                                                  \n",
       "Covariance Type:            nonrobust                                                  \n",
       "==============================================================================\n",
       "                 coef    std err          t      P>|t|      [0.025      0.975]\n",
       "------------------------------------------------------------------------------\n",
       "x              4.6853      0.034    136.976      0.000       4.610       4.761\n",
       "==============================================================================\n",
       "Omnibus:                        1.104   Durbin-Watson:                   1.482\n",
       "Prob(Omnibus):                  0.576   Jarque-Bera (JB):                0.902\n",
       "Skew:                          -0.542   Prob(JB):                        0.637\n",
       "Kurtosis:                       2.207   Cond. No.                         1.00\n",
       "==============================================================================\n",
       "\n",
       "Notes:\n",
       "[1] R² is computed without centering (uncentered) since the model does not contain a constant.\n",
       "[2] Standard Errors assume that the covariance matrix of the errors is correctly specified.\n",
       "\"\"\""
      ]
     },
     "metadata": {},
     "output_type": "display_data"
    },
    {
     "data": {
      "text/html": [
       "<div>\n",
       "<style scoped>\n",
       "    .dataframe tbody tr th:only-of-type {\n",
       "        vertical-align: middle;\n",
       "    }\n",
       "\n",
       "    .dataframe tbody tr th {\n",
       "        vertical-align: top;\n",
       "    }\n",
       "\n",
       "    .dataframe thead th {\n",
       "        text-align: right;\n",
       "    }\n",
       "</style>\n",
       "<table border=\"1\" class=\"dataframe\">\n",
       "  <thead>\n",
       "    <tr style=\"text-align: right;\">\n",
       "      <th></th>\n",
       "      <th>df</th>\n",
       "      <th>sum_sq</th>\n",
       "      <th>mean_sq</th>\n",
       "      <th>F</th>\n",
       "      <th>PR(&gt;F)</th>\n",
       "    </tr>\n",
       "  </thead>\n",
       "  <tbody>\n",
       "    <tr>\n",
       "      <th>x</th>\n",
       "      <td>1.0</td>\n",
       "      <td>4.191980e+06</td>\n",
       "      <td>4.191980e+06</td>\n",
       "      <td>18762.479912</td>\n",
       "      <td>3.932403e-19</td>\n",
       "    </tr>\n",
       "    <tr>\n",
       "      <th>Residual</th>\n",
       "      <td>11.0</td>\n",
       "      <td>2.457659e+03</td>\n",
       "      <td>2.234236e+02</td>\n",
       "      <td>NaN</td>\n",
       "      <td>NaN</td>\n",
       "    </tr>\n",
       "  </tbody>\n",
       "</table>\n",
       "</div>"
      ],
      "text/plain": [
       "            df        sum_sq       mean_sq             F        PR(>F)\n",
       "x          1.0  4.191980e+06  4.191980e+06  18762.479912  3.932403e-19\n",
       "Residual  11.0  2.457659e+03  2.234236e+02           NaN           NaN"
      ]
     },
     "metadata": {},
     "output_type": "display_data"
    }
   ],
   "source": [
    "display(model.summary())\n",
    "display(anova_lm(model, typ=1))"
   ]
  },
  {
   "cell_type": "code",
   "execution_count": 43,
   "metadata": {
    "scrolled": false
   },
   "outputs": [
    {
     "name": "stderr",
     "output_type": "stream",
     "text": [
      "C:\\opt\\Anaconda3\\lib\\site-packages\\scipy\\stats\\stats.py:1603: UserWarning: kurtosistest only valid for n>=20 ... continuing anyway, n=12\n",
      "  warnings.warn(\"kurtosistest only valid for n>=20 ... continuing \"\n"
     ]
    },
    {
     "data": {
      "text/html": [
       "<table class=\"simpletable\">\n",
       "<caption>OLS Regression Results</caption>\n",
       "<tr>\n",
       "  <th>Dep. Variable:</th>            <td>y</td>        <th>  R-squared:         </th> <td>   0.997</td>\n",
       "</tr>\n",
       "<tr>\n",
       "  <th>Model:</th>                   <td>OLS</td>       <th>  Adj. R-squared:    </th> <td>   0.997</td>\n",
       "</tr>\n",
       "<tr>\n",
       "  <th>Method:</th>             <td>Least Squares</td>  <th>  F-statistic:       </th> <td>   3531.</td>\n",
       "</tr>\n",
       "<tr>\n",
       "  <th>Date:</th>             <td>Mon, 26 Apr 2021</td> <th>  Prob (F-statistic):</th> <td>4.43e-14</td>\n",
       "</tr>\n",
       "<tr>\n",
       "  <th>Time:</th>                 <td>20:38:20</td>     <th>  Log-Likelihood:    </th> <td> -48.393</td>\n",
       "</tr>\n",
       "<tr>\n",
       "  <th>No. Observations:</th>      <td>    12</td>      <th>  AIC:               </th> <td>   100.8</td>\n",
       "</tr>\n",
       "<tr>\n",
       "  <th>Df Residuals:</th>          <td>    10</td>      <th>  BIC:               </th> <td>   101.8</td>\n",
       "</tr>\n",
       "<tr>\n",
       "  <th>Df Model:</th>              <td>     1</td>      <th>                     </th>     <td> </td>   \n",
       "</tr>\n",
       "<tr>\n",
       "  <th>Covariance Type:</th>      <td>nonrobust</td>    <th>                     </th>     <td> </td>   \n",
       "</tr>\n",
       "</table>\n",
       "<table class=\"simpletable\">\n",
       "<tr>\n",
       "      <td></td>         <th>coef</th>     <th>std err</th>      <th>t</th>      <th>P>|t|</th>  <th>[0.025</th>    <th>0.975]</th>  \n",
       "</tr>\n",
       "<tr>\n",
       "  <th>Intercept</th> <td>    9.7537</td> <td>    9.799</td> <td>    0.995</td> <td> 0.343</td> <td>  -12.081</td> <td>   31.588</td>\n",
       "</tr>\n",
       "<tr>\n",
       "  <th>x</th>         <td>    4.6159</td> <td>    0.078</td> <td>   59.420</td> <td> 0.000</td> <td>    4.443</td> <td>    4.789</td>\n",
       "</tr>\n",
       "</table>\n",
       "<table class=\"simpletable\">\n",
       "<tr>\n",
       "  <th>Omnibus:</th>       <td> 1.455</td> <th>  Durbin-Watson:     </th> <td>   1.661</td>\n",
       "</tr>\n",
       "<tr>\n",
       "  <th>Prob(Omnibus):</th> <td> 0.483</td> <th>  Jarque-Bera (JB):  </th> <td>   1.116</td>\n",
       "</tr>\n",
       "<tr>\n",
       "  <th>Skew:</th>          <td>-0.598</td> <th>  Prob(JB):          </th> <td>   0.572</td>\n",
       "</tr>\n",
       "<tr>\n",
       "  <th>Kurtosis:</th>      <td> 2.106</td> <th>  Cond. No.          </th> <td>    286.</td>\n",
       "</tr>\n",
       "</table><br/><br/>Notes:<br/>[1] Standard Errors assume that the covariance matrix of the errors is correctly specified."
      ],
      "text/plain": [
       "<class 'statsmodels.iolib.summary.Summary'>\n",
       "\"\"\"\n",
       "                            OLS Regression Results                            \n",
       "==============================================================================\n",
       "Dep. Variable:                      y   R-squared:                       0.997\n",
       "Model:                            OLS   Adj. R-squared:                  0.997\n",
       "Method:                 Least Squares   F-statistic:                     3531.\n",
       "Date:                Mon, 26 Apr 2021   Prob (F-statistic):           4.43e-14\n",
       "Time:                        20:38:20   Log-Likelihood:                -48.393\n",
       "No. Observations:                  12   AIC:                             100.8\n",
       "Df Residuals:                      10   BIC:                             101.8\n",
       "Df Model:                           1                                         \n",
       "Covariance Type:            nonrobust                                         \n",
       "==============================================================================\n",
       "                 coef    std err          t      P>|t|      [0.025      0.975]\n",
       "------------------------------------------------------------------------------\n",
       "Intercept      9.7537      9.799      0.995      0.343     -12.081      31.588\n",
       "x              4.6159      0.078     59.420      0.000       4.443       4.789\n",
       "==============================================================================\n",
       "Omnibus:                        1.455   Durbin-Watson:                   1.661\n",
       "Prob(Omnibus):                  0.483   Jarque-Bera (JB):                1.116\n",
       "Skew:                          -0.598   Prob(JB):                        0.572\n",
       "Kurtosis:                       2.106   Cond. No.                         286.\n",
       "==============================================================================\n",
       "\n",
       "Notes:\n",
       "[1] Standard Errors assume that the covariance matrix of the errors is correctly specified.\n",
       "\"\"\""
      ]
     },
     "metadata": {},
     "output_type": "display_data"
    },
    {
     "data": {
      "text/html": [
       "<div>\n",
       "<style scoped>\n",
       "    .dataframe tbody tr th:only-of-type {\n",
       "        vertical-align: middle;\n",
       "    }\n",
       "\n",
       "    .dataframe tbody tr th {\n",
       "        vertical-align: top;\n",
       "    }\n",
       "\n",
       "    .dataframe thead th {\n",
       "        text-align: right;\n",
       "    }\n",
       "</style>\n",
       "<table border=\"1\" class=\"dataframe\">\n",
       "  <thead>\n",
       "    <tr style=\"text-align: right;\">\n",
       "      <th></th>\n",
       "      <th>df</th>\n",
       "      <th>sum_sq</th>\n",
       "      <th>mean_sq</th>\n",
       "      <th>F</th>\n",
       "      <th>PR(&gt;F)</th>\n",
       "    </tr>\n",
       "  </thead>\n",
       "  <tbody>\n",
       "    <tr>\n",
       "      <th>x</th>\n",
       "      <td>1.0</td>\n",
       "      <td>789526.872316</td>\n",
       "      <td>789526.872316</td>\n",
       "      <td>3530.777235</td>\n",
       "      <td>4.427099e-14</td>\n",
       "    </tr>\n",
       "    <tr>\n",
       "      <th>Residual</th>\n",
       "      <td>10.0</td>\n",
       "      <td>2236.127684</td>\n",
       "      <td>223.612768</td>\n",
       "      <td>NaN</td>\n",
       "      <td>NaN</td>\n",
       "    </tr>\n",
       "  </tbody>\n",
       "</table>\n",
       "</div>"
      ],
      "text/plain": [
       "            df         sum_sq        mean_sq            F        PR(>F)\n",
       "x          1.0  789526.872316  789526.872316  3530.777235  4.427099e-14\n",
       "Residual  10.0    2236.127684     223.612768          NaN           NaN"
      ]
     },
     "metadata": {},
     "output_type": "display_data"
    }
   ],
   "source": [
    "display(model_std.summary())\n",
    "display(anova_lm(model_std, typ=1))"
   ]
  },
  {
   "cell_type": "markdown",
   "metadata": {},
   "source": [
    "# 4.5 Effects of Measurement Errors (p 165)"
   ]
  },
  {
   "cell_type": "markdown",
   "metadata": {},
   "source": [
    "# 4.6 Inverse Predictions (p 168)"
   ]
  },
  {
   "cell_type": "markdown",
   "metadata": {},
   "source": [
    "# 4.7 Choice of X Levels (p 170)"
   ]
  },
  {
   "cell_type": "markdown",
   "metadata": {},
   "source": [
    "# References\n",
    "\n",
    "[Linear Model Regression Results (statsmodels)](https://www.statsmodels.org/v0.12.1/generated/statsmodels.regression.linear_model.RegressionResults.html)\n",
    "\n",
    "[Contrast Coding (statsmodels)](https://www.statsmodels.org/stable/examples/notebooks/generated/contrasts.html)\n",
    "\n",
    "[QQ Plot or Normal Probability Plot (scipy)](https://docs.scipy.org/doc/scipy/reference/generated/scipy.stats.probplot.html)\n",
    "\n",
    "[Levene or Brown-Forsythe Test (scipy)](https://docs.scipy.org/doc/scipy/reference/generated/scipy.stats.levene.html)\n",
    "\n",
    "[Z-Score Transformation (scipy)](https://docs.scipy.org/doc/scipy/reference/generated/scipy.stats.zscore.html)\n",
    "\n",
    "[Box Cox Transformations (scipy)](https://docs.scipy.org/doc/scipy/reference/generated/scipy.stats.boxcox.html)\n",
    "\n",
    "### Graphics\n",
    "\n",
    "[Pandas Plotting](https://pandas.pydata.org/pandas-docs/stable/reference/plotting.html)\n",
    "\n",
    "[Matplotlib Color Maps](https://matplotlib.org/stable/tutorials/colors/colormaps.html)"
   ]
  }
 ],
 "metadata": {
  "kernelspec": {
   "display_name": "Python 3",
   "language": "python",
   "name": "python3"
  },
  "language_info": {
   "codemirror_mode": {
    "name": "ipython",
    "version": 3
   },
   "file_extension": ".py",
   "mimetype": "text/x-python",
   "name": "python",
   "nbconvert_exporter": "python",
   "pygments_lexer": "ipython3",
   "version": "3.8.5"
  }
 },
 "nbformat": 4,
 "nbformat_minor": 4
}
