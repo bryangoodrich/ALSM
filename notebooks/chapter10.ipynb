{
 "cells": [
  {
   "cell_type": "markdown",
   "metadata": {},
   "source": [
    "# Chapter 10 - Building the Regression Model II: Diagnostics"
   ]
  },
  {
   "cell_type": "code",
   "execution_count": 50,
   "metadata": {},
   "outputs": [],
   "source": [
    "import pandas as pd\n",
    "import numpy as np\n",
    "import matplotlib.pyplot as plt\n",
    "import statsmodels.api as sm\n",
    "from statsmodels.stats.api import het_breuschpagan, anova_lm\n",
    "from statsmodels.stats.outliers_influence import variance_inflation_factor\n",
    "from statsmodels.formula.api import ols\n",
    "from statsmodels.nonparametric.smoothers_lowess import lowess\n",
    "from scipy import stats\n",
    "\n",
    "DATA_DIR = \"../alsm/data\"\n",
    "yhat = '\\u0177'\n",
    "square = '\\u00b2'"
   ]
  },
  {
   "cell_type": "markdown",
   "metadata": {},
   "source": [
    "# 10.1 Model Adequacy for a Predictor Variable -- Added Variable Plots (p 384)"
   ]
  },
  {
   "cell_type": "markdown",
   "metadata": {},
   "source": [
    "### Input Life Insurance Data"
   ]
  },
  {
   "cell_type": "code",
   "execution_count": 2,
   "metadata": {},
   "outputs": [],
   "source": [
    "df = pd.read_pickle(f\"{DATA_DIR}/CH10TA01.xz\")\n",
    "df.columns = ['X1', 'X2', \"Y\"]\n",
    "model = ols(\"Y ~ X1 + X2\", df).fit()\n",
    "model2 = ols(\"Y ~ X2\", df).fit()\n",
    "model1_2 = ols(\"X1 ~ X2\", df).fit()"
   ]
  },
  {
   "cell_type": "markdown",
   "metadata": {},
   "source": [
    "### Table 10.1 (p 387)\n",
    "\n",
    "Basic Data -- Life Insurance Example"
   ]
  },
  {
   "cell_type": "code",
   "execution_count": 3,
   "metadata": {},
   "outputs": [
    {
     "data": {
      "text/html": [
       "<div>\n",
       "<style scoped>\n",
       "    .dataframe tbody tr th:only-of-type {\n",
       "        vertical-align: middle;\n",
       "    }\n",
       "\n",
       "    .dataframe tbody tr th {\n",
       "        vertical-align: top;\n",
       "    }\n",
       "\n",
       "    .dataframe thead th {\n",
       "        text-align: right;\n",
       "    }\n",
       "</style>\n",
       "<table border=\"1\" class=\"dataframe\">\n",
       "  <thead>\n",
       "    <tr style=\"text-align: right;\">\n",
       "      <th></th>\n",
       "      <th>Average Annual Income</th>\n",
       "      <th>Risk Aversion Score</th>\n",
       "      <th>Life Insurance Carried</th>\n",
       "    </tr>\n",
       "  </thead>\n",
       "  <tbody>\n",
       "    <tr>\n",
       "      <th>0</th>\n",
       "      <td>45.010</td>\n",
       "      <td>6</td>\n",
       "      <td>91</td>\n",
       "    </tr>\n",
       "    <tr>\n",
       "      <th>1</th>\n",
       "      <td>57.204</td>\n",
       "      <td>4</td>\n",
       "      <td>162</td>\n",
       "    </tr>\n",
       "    <tr>\n",
       "      <th>2</th>\n",
       "      <td>26.852</td>\n",
       "      <td>5</td>\n",
       "      <td>11</td>\n",
       "    </tr>\n",
       "    <tr>\n",
       "      <th>3</th>\n",
       "      <td>66.290</td>\n",
       "      <td>7</td>\n",
       "      <td>240</td>\n",
       "    </tr>\n",
       "    <tr>\n",
       "      <th>4</th>\n",
       "      <td>40.964</td>\n",
       "      <td>5</td>\n",
       "      <td>73</td>\n",
       "    </tr>\n",
       "    <tr>\n",
       "      <th>5</th>\n",
       "      <td>72.996</td>\n",
       "      <td>10</td>\n",
       "      <td>311</td>\n",
       "    </tr>\n",
       "    <tr>\n",
       "      <th>6</th>\n",
       "      <td>79.380</td>\n",
       "      <td>1</td>\n",
       "      <td>316</td>\n",
       "    </tr>\n",
       "    <tr>\n",
       "      <th>7</th>\n",
       "      <td>52.766</td>\n",
       "      <td>8</td>\n",
       "      <td>154</td>\n",
       "    </tr>\n",
       "    <tr>\n",
       "      <th>8</th>\n",
       "      <td>55.916</td>\n",
       "      <td>6</td>\n",
       "      <td>164</td>\n",
       "    </tr>\n",
       "    <tr>\n",
       "      <th>9</th>\n",
       "      <td>38.122</td>\n",
       "      <td>4</td>\n",
       "      <td>54</td>\n",
       "    </tr>\n",
       "    <tr>\n",
       "      <th>10</th>\n",
       "      <td>35.840</td>\n",
       "      <td>6</td>\n",
       "      <td>53</td>\n",
       "    </tr>\n",
       "    <tr>\n",
       "      <th>11</th>\n",
       "      <td>75.796</td>\n",
       "      <td>9</td>\n",
       "      <td>326</td>\n",
       "    </tr>\n",
       "    <tr>\n",
       "      <th>12</th>\n",
       "      <td>37.408</td>\n",
       "      <td>5</td>\n",
       "      <td>55</td>\n",
       "    </tr>\n",
       "    <tr>\n",
       "      <th>13</th>\n",
       "      <td>54.376</td>\n",
       "      <td>2</td>\n",
       "      <td>130</td>\n",
       "    </tr>\n",
       "    <tr>\n",
       "      <th>14</th>\n",
       "      <td>46.186</td>\n",
       "      <td>7</td>\n",
       "      <td>112</td>\n",
       "    </tr>\n",
       "    <tr>\n",
       "      <th>15</th>\n",
       "      <td>46.130</td>\n",
       "      <td>4</td>\n",
       "      <td>91</td>\n",
       "    </tr>\n",
       "    <tr>\n",
       "      <th>16</th>\n",
       "      <td>30.366</td>\n",
       "      <td>3</td>\n",
       "      <td>14</td>\n",
       "    </tr>\n",
       "    <tr>\n",
       "      <th>17</th>\n",
       "      <td>39.060</td>\n",
       "      <td>5</td>\n",
       "      <td>63</td>\n",
       "    </tr>\n",
       "  </tbody>\n",
       "</table>\n",
       "</div>"
      ],
      "text/plain": [
       "    Average Annual Income  Risk Aversion Score  Life Insurance Carried\n",
       "0                  45.010                    6                      91\n",
       "1                  57.204                    4                     162\n",
       "2                  26.852                    5                      11\n",
       "3                  66.290                    7                     240\n",
       "4                  40.964                    5                      73\n",
       "5                  72.996                   10                     311\n",
       "6                  79.380                    1                     316\n",
       "7                  52.766                    8                     154\n",
       "8                  55.916                    6                     164\n",
       "9                  38.122                    4                      54\n",
       "10                 35.840                    6                      53\n",
       "11                 75.796                    9                     326\n",
       "12                 37.408                    5                      55\n",
       "13                 54.376                    2                     130\n",
       "14                 46.186                    7                     112\n",
       "15                 46.130                    4                      91\n",
       "16                 30.366                    3                      14\n",
       "17                 39.060                    5                      63"
      ]
     },
     "execution_count": 3,
     "metadata": {},
     "output_type": "execute_result"
    }
   ],
   "source": [
    "pd.DataFrame({\n",
    "    \"Average Annual Income\": df.X1,\n",
    "    \"Risk Aversion Score\": df.X2,\n",
    "    \"Life Insurance Carried\": df.Y\n",
    "})"
   ]
  },
  {
   "cell_type": "markdown",
   "metadata": {},
   "source": [
    "### Figure 10.3  (p 387)\n",
    "\n",
    "Residual Plot and Added-Variable Plot -- Life Insurance Example"
   ]
  },
  {
   "cell_type": "code",
   "execution_count": 4,
   "metadata": {},
   "outputs": [
    {
     "data": {
      "image/png": "[encoded data removed]",
      "text/plain": [
       "<Figure size 864x432 with 2 Axes>"
      ]
     },
     "metadata": {
      "needs_background": "light"
     },
     "output_type": "display_data"
    }
   ],
   "source": [
    "fig, axes = plt.subplots(1, 2, figsize=(12, 6))\n",
    "plt.subplots_adjust(left=0.1, bottom=0.1, right=0.9, top=0.9, wspace=0.4, hspace=0.4)\n",
    "\n",
    "axes[0].scatter(df.X1, model.resid)\n",
    "axes[0].axhline(y=0, c=\"grey\", ls=\"--\")\n",
    "\n",
    "axes[1].scatter(model1_2.resid, model2.resid)\n",
    "axes[1].axhline(y=0, c=\"grey\", ls=\"--\")\n",
    "\n",
    "axes[0].set_title(\"(a) Residual Plot against X1\")\n",
    "axes[1].set_title(\"(b) Added-Variable Plot for X1\")\n",
    "plt.show()"
   ]
  },
  {
   "cell_type": "markdown",
   "metadata": {},
   "source": [
    "### Input the Body Fat Data"
   ]
  },
  {
   "cell_type": "code",
   "execution_count": 5,
   "metadata": {
    "scrolled": false
   },
   "outputs": [],
   "source": [
    "df = pd.read_pickle(f\"{DATA_DIR}/CH07TA01.xz\")\n",
    "df.columns = ['X1', 'X2', 'X3', 'Y']\n",
    "model = ols(\"Y ~ X1 + X2\", df).fit()"
   ]
  },
  {
   "cell_type": "markdown",
   "metadata": {},
   "source": [
    "### Figure 10.4 (p 389)\n",
    "\n",
    "Residual Plots and Added-Variable Plots -- Body Fat Example with Two Predicator Variables\n",
    "\n",
    "##### Note\n",
    "\n",
    "Here we make use of the [partial regression plots](https://www.statsmodels.org/stable/generated/statsmodels.graphics.regressionplots.plot_partregress.html) (statsmodels) so as not to define 4 new models to reproduce these results."
   ]
  },
  {
   "cell_type": "code",
   "execution_count": 6,
   "metadata": {
    "scrolled": false
   },
   "outputs": [
    {
     "data": {
      "image/png": "[encoded data removed]",
      "text/plain": [
       "<Figure size 864x720 with 4 Axes>"
      ]
     },
     "metadata": {
      "needs_background": "light"
     },
     "output_type": "display_data"
    }
   ],
   "source": [
    "fig, axes = plt.subplots(2, 2, figsize=(12, 10))\n",
    "plt.subplots_adjust(left=0.1, bottom=0.1, right=0.9, top=0.9, wspace=0.4, hspace=0.4)\n",
    "\n",
    "axes[0][0].scatter(df.X1, model.resid)\n",
    "axes[0][0].axhline(y=0, c=\"grey\", ls=\"--\")\n",
    "\n",
    "_ = sm.graphics.plot_partregress(\"Y\", \"X1\", [\"X2\"], df, obs_labels=False, ax=axes[0][1])\n",
    "axes[0][1].axhline(y=0, c=\"grey\", ls=\"--\")\n",
    "\n",
    "axes[1][0].scatter(df.X2, model.resid)\n",
    "axes[1][0].axhline(y=0, c=\"grey\", ls=\"--\")\n",
    "\n",
    "_ = sm.graphics.plot_partregress(\"Y\", \"X2\", [\"X1\"], df, obs_labels=False, ax=axes[1][1])\n",
    "axes[1][1].axhline(y=0, c=\"grey\", ls=\"--\")\n",
    "\n",
    "axes[0][0].set_title(\"(a) Residual Plot against X1\")\n",
    "axes[0][1].set_title(\"(b) Added-Variable Plot for X1\")\n",
    "axes[1][0].set_title(\"(c) Residual Plot against X2\")\n",
    "axes[1][1].set_title(\"(d) Added-Variable Plot for X2\")\n",
    "plt.show()"
   ]
  },
  {
   "cell_type": "markdown",
   "metadata": {},
   "source": [
    "# 10.2 Identifying Outlying Y Observations -- Studentized Deleted Residuals (p 390)"
   ]
  },
  {
   "cell_type": "code",
   "execution_count": 7,
   "metadata": {},
   "outputs": [],
   "source": [
    "df = pd.DataFrame({\"X1\": [14, 19, 12, 11], \"X2\": [25, 32, 22, 15], \"Y\": [301, 327, 246, 187]})\n",
    "model = ols(\"Y ~ X1 + X2\", df).fit()"
   ]
  },
  {
   "cell_type": "markdown",
   "metadata": {},
   "source": [
    "### Table 10.2 (p 393)\n",
    "\n",
    "Illustration of Hat Matrix"
   ]
  },
  {
   "cell_type": "markdown",
   "metadata": {},
   "source": [
    "### (a) Data and Basic Results"
   ]
  },
  {
   "cell_type": "code",
   "execution_count": 8,
   "metadata": {},
   "outputs": [
    {
     "data": {
      "text/html": [
       "<div>\n",
       "<style scoped>\n",
       "    .dataframe tbody tr th:only-of-type {\n",
       "        vertical-align: middle;\n",
       "    }\n",
       "\n",
       "    .dataframe tbody tr th {\n",
       "        vertical-align: top;\n",
       "    }\n",
       "\n",
       "    .dataframe thead th {\n",
       "        text-align: right;\n",
       "    }\n",
       "</style>\n",
       "<table border=\"1\" class=\"dataframe\">\n",
       "  <thead>\n",
       "    <tr style=\"text-align: right;\">\n",
       "      <th></th>\n",
       "      <th>X1</th>\n",
       "      <th>X2</th>\n",
       "      <th>Y</th>\n",
       "      <th>ŷ</th>\n",
       "      <th>e</th>\n",
       "      <th>h</th>\n",
       "      <th>s^2{e}</th>\n",
       "    </tr>\n",
       "  </thead>\n",
       "  <tbody>\n",
       "    <tr>\n",
       "      <th>0</th>\n",
       "      <td>14</td>\n",
       "      <td>25</td>\n",
       "      <td>301</td>\n",
       "      <td>282.237923</td>\n",
       "      <td>18.762077</td>\n",
       "      <td>0.387681</td>\n",
       "      <td>1408.062178</td>\n",
       "    </tr>\n",
       "    <tr>\n",
       "      <th>1</th>\n",
       "      <td>19</td>\n",
       "      <td>32</td>\n",
       "      <td>327</td>\n",
       "      <td>332.291868</td>\n",
       "      <td>-5.291868</td>\n",
       "      <td>0.951288</td>\n",
       "      <td>112.015466</td>\n",
       "    </tr>\n",
       "    <tr>\n",
       "      <th>2</th>\n",
       "      <td>12</td>\n",
       "      <td>22</td>\n",
       "      <td>246</td>\n",
       "      <td>259.951288</td>\n",
       "      <td>-13.951288</td>\n",
       "      <td>0.661433</td>\n",
       "      <td>778.553775</td>\n",
       "    </tr>\n",
       "    <tr>\n",
       "      <th>3</th>\n",
       "      <td>11</td>\n",
       "      <td>15</td>\n",
       "      <td>187</td>\n",
       "      <td>186.518921</td>\n",
       "      <td>0.481079</td>\n",
       "      <td>0.999597</td>\n",
       "      <td>0.925748</td>\n",
       "    </tr>\n",
       "  </tbody>\n",
       "</table>\n",
       "</div>"
      ],
      "text/plain": [
       "   X1  X2    Y           ŷ          e         h       s^2{e}\n",
       "0  14  25  301  282.237923  18.762077  0.387681  1408.062178\n",
       "1  19  32  327  332.291868  -5.291868  0.951288   112.015466\n",
       "2  12  22  246  259.951288 -13.951288  0.661433   778.553775\n",
       "3  11  15  187  186.518921   0.481079  0.999597     0.925748"
      ]
     },
     "execution_count": 8,
     "metadata": {},
     "output_type": "execute_result"
    }
   ],
   "source": [
    "model.HC1_se # needed for `het_scale` to be generated\n",
    "pd.DataFrame({\n",
    "    \"X1\": df.X1,\n",
    "    \"X2\": df.X2,\n",
    "    \"Y\": df.Y,\n",
    "    yhat: model.fittedvalues,\n",
    "    \"e\": model.resid,\n",
    "    \"h\": model.get_influence().hat_matrix_diag,\n",
    "    \"s^2{e}\": model.het_scale\n",
    "})"
   ]
  },
  {
   "cell_type": "markdown",
   "metadata": {},
   "source": [
    "### (b) Hat Matrix\n",
    "\n",
    "Here we compute the hat matrix by (10.10) defined as \n",
    "\n",
    "$H = X(X'X)^{-1}X'$"
   ]
  },
  {
   "cell_type": "code",
   "execution_count": 9,
   "metadata": {
    "scrolled": false
   },
   "outputs": [
    {
     "data": {
      "text/plain": [
       "array([[ 0.3877,  0.1727,  0.4553, -0.0157],\n",
       "       [ 0.1727,  0.9513, -0.1284,  0.0044],\n",
       "       [ 0.4553, -0.1284,  0.6614,  0.0117],\n",
       "       [-0.0157,  0.0044,  0.0117,  0.9996]])"
      ]
     },
     "execution_count": 9,
     "metadata": {},
     "output_type": "execute_result"
    }
   ],
   "source": [
    "X = model.model.exog\n",
    "H = X.dot(np.linalg.inv(X.transpose().dot(X))).dot(X.transpose())\n",
    "H.round(4)"
   ]
  },
  {
   "cell_type": "markdown",
   "metadata": {},
   "source": [
    "### (c) Residual Variance-Covariance Matrix $S^2\\{e\\}$"
   ]
  },
  {
   "cell_type": "code",
   "execution_count": 10,
   "metadata": {},
   "outputs": [
    {
     "data": {
      "text/plain": [
       "array([[ 352. ,  -99.3, -261.8,    9. ],\n",
       "       [ -99.3,   28. ,   73.8,   -2.5],\n",
       "       [-261.8,   73.8,  194.6,   -6.7],\n",
       "       [   9. ,   -2.5,   -6.7,    0.2]])"
      ]
     },
     "execution_count": 10,
     "metadata": {},
     "output_type": "execute_result"
    }
   ],
   "source": [
    "np.set_printoptions(suppress=True)\n",
    "S = model.mse_resid * (np.identity(len(H)) - H)\n",
    "S.round(1)"
   ]
  },
  {
   "cell_type": "markdown",
   "metadata": {},
   "source": [
    "### Reload the Body Fat Data"
   ]
  },
  {
   "cell_type": "code",
   "execution_count": 11,
   "metadata": {},
   "outputs": [],
   "source": [
    "df = pd.read_pickle(f\"{DATA_DIR}/CH07TA01.xz\")\n",
    "df.columns = ['X1', 'X2', 'X3', 'Y']\n",
    "model = ols(\"Y ~ X1 + X2\", df).fit()"
   ]
  },
  {
   "cell_type": "markdown",
   "metadata": {},
   "source": [
    "### Table 10.3 (p 397)\n",
    "\n",
    "Residuals, Diagonal Elements of the Hat Matrix, and Studentized Deleted Residuals -- Body Fat Example with Two Predictor Variables\n",
    "\n",
    "##### Note\n",
    "\n",
    "The influence object ([statsmodels](https://www.statsmodels.org/stable/generated/statsmodels.stats.outliers_influence.OLSInfluence.html)) contains numerous useful metrics, including multiple studentized residuals. The external ones use the leave-one-observation-out (LOOO) variance, which is what we want for the deleted studentized residuals."
   ]
  },
  {
   "cell_type": "code",
   "execution_count": 12,
   "metadata": {},
   "outputs": [
    {
     "data": {
      "text/html": [
       "<div>\n",
       "<style scoped>\n",
       "    .dataframe tbody tr th:only-of-type {\n",
       "        vertical-align: middle;\n",
       "    }\n",
       "\n",
       "    .dataframe tbody tr th {\n",
       "        vertical-align: top;\n",
       "    }\n",
       "\n",
       "    .dataframe thead th {\n",
       "        text-align: right;\n",
       "    }\n",
       "</style>\n",
       "<table border=\"1\" class=\"dataframe\">\n",
       "  <thead>\n",
       "    <tr style=\"text-align: right;\">\n",
       "      <th></th>\n",
       "      <th>e</th>\n",
       "      <th>h</th>\n",
       "      <th>t</th>\n",
       "    </tr>\n",
       "  </thead>\n",
       "  <tbody>\n",
       "    <tr>\n",
       "      <th>0</th>\n",
       "      <td>-1.683</td>\n",
       "      <td>0.201</td>\n",
       "      <td>-0.730</td>\n",
       "    </tr>\n",
       "    <tr>\n",
       "      <th>1</th>\n",
       "      <td>3.643</td>\n",
       "      <td>0.059</td>\n",
       "      <td>1.534</td>\n",
       "    </tr>\n",
       "    <tr>\n",
       "      <th>2</th>\n",
       "      <td>-3.176</td>\n",
       "      <td>0.372</td>\n",
       "      <td>-1.654</td>\n",
       "    </tr>\n",
       "    <tr>\n",
       "      <th>3</th>\n",
       "      <td>-3.158</td>\n",
       "      <td>0.111</td>\n",
       "      <td>-1.348</td>\n",
       "    </tr>\n",
       "    <tr>\n",
       "      <th>4</th>\n",
       "      <td>-0.000</td>\n",
       "      <td>0.248</td>\n",
       "      <td>-0.000</td>\n",
       "    </tr>\n",
       "    <tr>\n",
       "      <th>5</th>\n",
       "      <td>-0.361</td>\n",
       "      <td>0.129</td>\n",
       "      <td>-0.148</td>\n",
       "    </tr>\n",
       "    <tr>\n",
       "      <th>6</th>\n",
       "      <td>0.716</td>\n",
       "      <td>0.156</td>\n",
       "      <td>0.298</td>\n",
       "    </tr>\n",
       "    <tr>\n",
       "      <th>7</th>\n",
       "      <td>4.015</td>\n",
       "      <td>0.096</td>\n",
       "      <td>1.760</td>\n",
       "    </tr>\n",
       "    <tr>\n",
       "      <th>8</th>\n",
       "      <td>2.655</td>\n",
       "      <td>0.115</td>\n",
       "      <td>1.118</td>\n",
       "    </tr>\n",
       "    <tr>\n",
       "      <th>9</th>\n",
       "      <td>-2.475</td>\n",
       "      <td>0.110</td>\n",
       "      <td>-1.034</td>\n",
       "    </tr>\n",
       "    <tr>\n",
       "      <th>10</th>\n",
       "      <td>0.336</td>\n",
       "      <td>0.120</td>\n",
       "      <td>0.137</td>\n",
       "    </tr>\n",
       "    <tr>\n",
       "      <th>11</th>\n",
       "      <td>2.226</td>\n",
       "      <td>0.109</td>\n",
       "      <td>0.923</td>\n",
       "    </tr>\n",
       "    <tr>\n",
       "      <th>12</th>\n",
       "      <td>-3.947</td>\n",
       "      <td>0.178</td>\n",
       "      <td>-1.826</td>\n",
       "    </tr>\n",
       "    <tr>\n",
       "      <th>13</th>\n",
       "      <td>3.447</td>\n",
       "      <td>0.148</td>\n",
       "      <td>1.525</td>\n",
       "    </tr>\n",
       "    <tr>\n",
       "      <th>14</th>\n",
       "      <td>0.571</td>\n",
       "      <td>0.333</td>\n",
       "      <td>0.267</td>\n",
       "    </tr>\n",
       "    <tr>\n",
       "      <th>15</th>\n",
       "      <td>0.642</td>\n",
       "      <td>0.095</td>\n",
       "      <td>0.258</td>\n",
       "    </tr>\n",
       "    <tr>\n",
       "      <th>16</th>\n",
       "      <td>-0.851</td>\n",
       "      <td>0.106</td>\n",
       "      <td>-0.345</td>\n",
       "    </tr>\n",
       "    <tr>\n",
       "      <th>17</th>\n",
       "      <td>-0.783</td>\n",
       "      <td>0.197</td>\n",
       "      <td>-0.334</td>\n",
       "    </tr>\n",
       "    <tr>\n",
       "      <th>18</th>\n",
       "      <td>-2.857</td>\n",
       "      <td>0.067</td>\n",
       "      <td>-1.176</td>\n",
       "    </tr>\n",
       "    <tr>\n",
       "      <th>19</th>\n",
       "      <td>1.040</td>\n",
       "      <td>0.050</td>\n",
       "      <td>0.409</td>\n",
       "    </tr>\n",
       "  </tbody>\n",
       "</table>\n",
       "</div>"
      ],
      "text/plain": [
       "        e      h      t\n",
       "0  -1.683  0.201 -0.730\n",
       "1   3.643  0.059  1.534\n",
       "2  -3.176  0.372 -1.654\n",
       "3  -3.158  0.111 -1.348\n",
       "4  -0.000  0.248 -0.000\n",
       "5  -0.361  0.129 -0.148\n",
       "6   0.716  0.156  0.298\n",
       "7   4.015  0.096  1.760\n",
       "8   2.655  0.115  1.118\n",
       "9  -2.475  0.110 -1.034\n",
       "10  0.336  0.120  0.137\n",
       "11  2.226  0.109  0.923\n",
       "12 -3.947  0.178 -1.826\n",
       "13  3.447  0.148  1.525\n",
       "14  0.571  0.333  0.267\n",
       "15  0.642  0.095  0.258\n",
       "16 -0.851  0.106 -0.345\n",
       "17 -0.783  0.197 -0.334\n",
       "18 -2.857  0.067 -1.176\n",
       "19  1.040  0.050  0.409"
      ]
     },
     "execution_count": 12,
     "metadata": {},
     "output_type": "execute_result"
    }
   ],
   "source": [
    "pd.DataFrame({\n",
    "    \"e\": model.resid,\n",
    "    \"h\": model.get_influence().hat_matrix_diag,\n",
    "    \"t\": model.get_influence().resid_studentized_external\n",
    "}).round(3)"
   ]
  },
  {
   "cell_type": "markdown",
   "metadata": {},
   "source": [
    "# 10.3 Identifying Outlying X Observations -- Hat Matrix Leverage Values (p 398)"
   ]
  },
  {
   "cell_type": "markdown",
   "metadata": {},
   "source": [
    "## Figure 10.6 (p 398)\n",
    "\n",
    "Illustration of Leverage Values as Distance Measures -- Table 10.2 Example"
   ]
  },
  {
   "cell_type": "code",
   "execution_count": 13,
   "metadata": {
    "scrolled": false
   },
   "outputs": [
    {
     "data": {
      "image/png": "[encoded data removed]",
      "text/plain": [
       "<Figure size 576x576 with 1 Axes>"
      ]
     },
     "metadata": {
      "needs_background": "light"
     },
     "output_type": "display_data"
    }
   ],
   "source": [
    "df10_2 = pd.DataFrame({\"X1\": [14, 19, 12, 11], \"X2\": [25, 32, 22, 15], \"Y\": [301, 327, 246, 187]})\n",
    "model = ols(\"Y ~ X1 + X2\", df10_2).fit()\n",
    "H = np.array([str(round(h, 4)) for h in model.get_influence().hat_matrix_diag])\n",
    "df10_2.plot.scatter(\"X1\", \"X2\", figsize=(8,8))\n",
    "\n",
    "for i, h in enumerate(H):\n",
    "    plt.text(df10_2.X1[i]+0.1, df10_2.X2[i], h)"
   ]
  },
  {
   "cell_type": "markdown",
   "metadata": {},
   "source": [
    "### Figure 10.7 (p 399)\n",
    "\n",
    "Scatter Plot of Thigh Circumference against Triceps Skinfold Thickness -- Body Fat Example with Two Predicator Variables.\n",
    "\n",
    "##### Note\n",
    "\n",
    "While a bit more cluttered, it is easier than trying to refer back to Table 10.2 to identify each case number h value. Instead, I plot them against their case number. "
   ]
  },
  {
   "cell_type": "code",
   "execution_count": 19,
   "metadata": {},
   "outputs": [
    {
     "data": {
      "image/png": "[encoded data removed]",
      "text/plain": [
       "<Figure size 576x576 with 1 Axes>"
      ]
     },
     "metadata": {
      "needs_background": "light"
     },
     "output_type": "display_data"
    }
   ],
   "source": [
    "model = ols(\"Y ~ X1 + X2\", df).fit()\n",
    "H = np.array([str(round(h, 4)) for h in model.get_influence().hat_matrix_diag])\n",
    "df.plot.scatter(\"X1\", \"X2\", figsize=(8,8))\n",
    "\n",
    "for i, h in enumerate(H):\n",
    "    plt.text(df.X1[i]+0.1, df.X2[i], (h, i+1))"
   ]
  },
  {
   "cell_type": "markdown",
   "metadata": {},
   "source": [
    "# 10.4 Identifying Influential Cases -- DFFITS, Cook's Distance, and DFBETAS Measures (p 400)"
   ]
  },
  {
   "cell_type": "markdown",
   "metadata": {},
   "source": [
    "### Table 10.4 (p 401)\n",
    "\n",
    "DFFITS, Cook's Distances, and DFBETAS -- Body Fat Example with Two Predictor Variables\n",
    "\n",
    "##### Note\n",
    "\n",
    "One of the easiest tables to model, this comes directly out of the model object's `get_influence` method, returned as a dataframe. For details, see the documentation [here](https://www.statsmodels.org/stable/generated/statsmodels.stats.outliers_influence.OLSInfluence.html)"
   ]
  },
  {
   "cell_type": "code",
   "execution_count": 34,
   "metadata": {},
   "outputs": [
    {
     "data": {
      "text/html": [
       "<div>\n",
       "<style scoped>\n",
       "    .dataframe tbody tr th:only-of-type {\n",
       "        vertical-align: middle;\n",
       "    }\n",
       "\n",
       "    .dataframe tbody tr th {\n",
       "        vertical-align: top;\n",
       "    }\n",
       "\n",
       "    .dataframe thead th {\n",
       "        text-align: right;\n",
       "    }\n",
       "</style>\n",
       "<table border=\"1\" class=\"dataframe\">\n",
       "  <thead>\n",
       "    <tr style=\"text-align: right;\">\n",
       "      <th></th>\n",
       "      <th>dfb_Intercept</th>\n",
       "      <th>dfb_X1</th>\n",
       "      <th>dfb_X2</th>\n",
       "      <th>cooks_d</th>\n",
       "      <th>standard_resid</th>\n",
       "      <th>hat_diag</th>\n",
       "      <th>dffits_internal</th>\n",
       "      <th>student_resid</th>\n",
       "      <th>dffits</th>\n",
       "    </tr>\n",
       "  </thead>\n",
       "  <tbody>\n",
       "    <tr>\n",
       "      <th>0</th>\n",
       "      <td>-0.305</td>\n",
       "      <td>-0.131</td>\n",
       "      <td>0.232</td>\n",
       "      <td>0.046</td>\n",
       "      <td>-0.740</td>\n",
       "      <td>0.201</td>\n",
       "      <td>-0.371</td>\n",
       "      <td>-0.730</td>\n",
       "      <td>-0.366</td>\n",
       "    </tr>\n",
       "    <tr>\n",
       "      <th>1</th>\n",
       "      <td>0.173</td>\n",
       "      <td>0.115</td>\n",
       "      <td>-0.143</td>\n",
       "      <td>0.045</td>\n",
       "      <td>1.477</td>\n",
       "      <td>0.059</td>\n",
       "      <td>0.369</td>\n",
       "      <td>1.534</td>\n",
       "      <td>0.384</td>\n",
       "    </tr>\n",
       "    <tr>\n",
       "      <th>2</th>\n",
       "      <td>-0.847</td>\n",
       "      <td>-1.183</td>\n",
       "      <td>1.067</td>\n",
       "      <td>0.490</td>\n",
       "      <td>-1.576</td>\n",
       "      <td>0.372</td>\n",
       "      <td>-1.213</td>\n",
       "      <td>-1.654</td>\n",
       "      <td>-1.273</td>\n",
       "    </tr>\n",
       "    <tr>\n",
       "      <th>3</th>\n",
       "      <td>-0.102</td>\n",
       "      <td>-0.294</td>\n",
       "      <td>0.196</td>\n",
       "      <td>0.072</td>\n",
       "      <td>-1.317</td>\n",
       "      <td>0.111</td>\n",
       "      <td>-0.465</td>\n",
       "      <td>-1.348</td>\n",
       "      <td>-0.476</td>\n",
       "    </tr>\n",
       "    <tr>\n",
       "      <th>4</th>\n",
       "      <td>-0.000</td>\n",
       "      <td>-0.000</td>\n",
       "      <td>0.000</td>\n",
       "      <td>0.000</td>\n",
       "      <td>-0.000</td>\n",
       "      <td>0.248</td>\n",
       "      <td>-0.000</td>\n",
       "      <td>-0.000</td>\n",
       "      <td>-0.000</td>\n",
       "    </tr>\n",
       "    <tr>\n",
       "      <th>5</th>\n",
       "      <td>0.040</td>\n",
       "      <td>0.040</td>\n",
       "      <td>-0.044</td>\n",
       "      <td>0.001</td>\n",
       "      <td>-0.152</td>\n",
       "      <td>0.129</td>\n",
       "      <td>-0.058</td>\n",
       "      <td>-0.148</td>\n",
       "      <td>-0.057</td>\n",
       "    </tr>\n",
       "    <tr>\n",
       "      <th>6</th>\n",
       "      <td>-0.078</td>\n",
       "      <td>-0.016</td>\n",
       "      <td>0.054</td>\n",
       "      <td>0.006</td>\n",
       "      <td>0.306</td>\n",
       "      <td>0.156</td>\n",
       "      <td>0.132</td>\n",
       "      <td>0.298</td>\n",
       "      <td>0.128</td>\n",
       "    </tr>\n",
       "    <tr>\n",
       "      <th>7</th>\n",
       "      <td>0.261</td>\n",
       "      <td>0.391</td>\n",
       "      <td>-0.332</td>\n",
       "      <td>0.098</td>\n",
       "      <td>1.661</td>\n",
       "      <td>0.096</td>\n",
       "      <td>0.542</td>\n",
       "      <td>1.760</td>\n",
       "      <td>0.575</td>\n",
       "    </tr>\n",
       "    <tr>\n",
       "      <th>8</th>\n",
       "      <td>-0.151</td>\n",
       "      <td>-0.295</td>\n",
       "      <td>0.247</td>\n",
       "      <td>0.053</td>\n",
       "      <td>1.110</td>\n",
       "      <td>0.115</td>\n",
       "      <td>0.399</td>\n",
       "      <td>1.118</td>\n",
       "      <td>0.402</td>\n",
       "    </tr>\n",
       "    <tr>\n",
       "      <th>9</th>\n",
       "      <td>0.238</td>\n",
       "      <td>0.245</td>\n",
       "      <td>-0.269</td>\n",
       "      <td>0.044</td>\n",
       "      <td>-1.032</td>\n",
       "      <td>0.110</td>\n",
       "      <td>-0.363</td>\n",
       "      <td>-1.034</td>\n",
       "      <td>-0.364</td>\n",
       "    </tr>\n",
       "    <tr>\n",
       "      <th>10</th>\n",
       "      <td>-0.009</td>\n",
       "      <td>0.017</td>\n",
       "      <td>-0.002</td>\n",
       "      <td>0.001</td>\n",
       "      <td>0.141</td>\n",
       "      <td>0.120</td>\n",
       "      <td>0.052</td>\n",
       "      <td>0.137</td>\n",
       "      <td>0.051</td>\n",
       "    </tr>\n",
       "    <tr>\n",
       "      <th>11</th>\n",
       "      <td>-0.130</td>\n",
       "      <td>0.022</td>\n",
       "      <td>0.070</td>\n",
       "      <td>0.035</td>\n",
       "      <td>0.927</td>\n",
       "      <td>0.109</td>\n",
       "      <td>0.325</td>\n",
       "      <td>0.923</td>\n",
       "      <td>0.323</td>\n",
       "    </tr>\n",
       "    <tr>\n",
       "      <th>12</th>\n",
       "      <td>0.119</td>\n",
       "      <td>0.592</td>\n",
       "      <td>-0.389</td>\n",
       "      <td>0.212</td>\n",
       "      <td>-1.712</td>\n",
       "      <td>0.178</td>\n",
       "      <td>-0.798</td>\n",
       "      <td>-1.826</td>\n",
       "      <td>-0.851</td>\n",
       "    </tr>\n",
       "    <tr>\n",
       "      <th>13</th>\n",
       "      <td>0.452</td>\n",
       "      <td>0.113</td>\n",
       "      <td>-0.298</td>\n",
       "      <td>0.125</td>\n",
       "      <td>1.469</td>\n",
       "      <td>0.148</td>\n",
       "      <td>0.612</td>\n",
       "      <td>1.525</td>\n",
       "      <td>0.636</td>\n",
       "    </tr>\n",
       "    <tr>\n",
       "      <th>14</th>\n",
       "      <td>-0.003</td>\n",
       "      <td>-0.125</td>\n",
       "      <td>0.069</td>\n",
       "      <td>0.013</td>\n",
       "      <td>0.275</td>\n",
       "      <td>0.333</td>\n",
       "      <td>0.194</td>\n",
       "      <td>0.267</td>\n",
       "      <td>0.189</td>\n",
       "    </tr>\n",
       "    <tr>\n",
       "      <th>15</th>\n",
       "      <td>0.009</td>\n",
       "      <td>0.043</td>\n",
       "      <td>-0.025</td>\n",
       "      <td>0.002</td>\n",
       "      <td>0.266</td>\n",
       "      <td>0.095</td>\n",
       "      <td>0.086</td>\n",
       "      <td>0.258</td>\n",
       "      <td>0.084</td>\n",
       "    </tr>\n",
       "    <tr>\n",
       "      <th>16</th>\n",
       "      <td>0.080</td>\n",
       "      <td>0.055</td>\n",
       "      <td>-0.076</td>\n",
       "      <td>0.005</td>\n",
       "      <td>-0.354</td>\n",
       "      <td>0.106</td>\n",
       "      <td>-0.122</td>\n",
       "      <td>-0.345</td>\n",
       "      <td>-0.118</td>\n",
       "    </tr>\n",
       "    <tr>\n",
       "      <th>17</th>\n",
       "      <td>0.132</td>\n",
       "      <td>0.075</td>\n",
       "      <td>-0.116</td>\n",
       "      <td>0.010</td>\n",
       "      <td>-0.344</td>\n",
       "      <td>0.197</td>\n",
       "      <td>-0.170</td>\n",
       "      <td>-0.334</td>\n",
       "      <td>-0.166</td>\n",
       "    </tr>\n",
       "    <tr>\n",
       "      <th>18</th>\n",
       "      <td>-0.130</td>\n",
       "      <td>-0.004</td>\n",
       "      <td>0.064</td>\n",
       "      <td>0.032</td>\n",
       "      <td>-1.163</td>\n",
       "      <td>0.067</td>\n",
       "      <td>-0.312</td>\n",
       "      <td>-1.176</td>\n",
       "      <td>-0.315</td>\n",
       "    </tr>\n",
       "    <tr>\n",
       "      <th>19</th>\n",
       "      <td>0.010</td>\n",
       "      <td>0.002</td>\n",
       "      <td>-0.003</td>\n",
       "      <td>0.003</td>\n",
       "      <td>0.420</td>\n",
       "      <td>0.050</td>\n",
       "      <td>0.096</td>\n",
       "      <td>0.409</td>\n",
       "      <td>0.094</td>\n",
       "    </tr>\n",
       "  </tbody>\n",
       "</table>\n",
       "</div>"
      ],
      "text/plain": [
       "    dfb_Intercept  dfb_X1  dfb_X2  cooks_d  standard_resid  hat_diag  \\\n",
       "0          -0.305  -0.131   0.232    0.046          -0.740     0.201   \n",
       "1           0.173   0.115  -0.143    0.045           1.477     0.059   \n",
       "2          -0.847  -1.183   1.067    0.490          -1.576     0.372   \n",
       "3          -0.102  -0.294   0.196    0.072          -1.317     0.111   \n",
       "4          -0.000  -0.000   0.000    0.000          -0.000     0.248   \n",
       "5           0.040   0.040  -0.044    0.001          -0.152     0.129   \n",
       "6          -0.078  -0.016   0.054    0.006           0.306     0.156   \n",
       "7           0.261   0.391  -0.332    0.098           1.661     0.096   \n",
       "8          -0.151  -0.295   0.247    0.053           1.110     0.115   \n",
       "9           0.238   0.245  -0.269    0.044          -1.032     0.110   \n",
       "10         -0.009   0.017  -0.002    0.001           0.141     0.120   \n",
       "11         -0.130   0.022   0.070    0.035           0.927     0.109   \n",
       "12          0.119   0.592  -0.389    0.212          -1.712     0.178   \n",
       "13          0.452   0.113  -0.298    0.125           1.469     0.148   \n",
       "14         -0.003  -0.125   0.069    0.013           0.275     0.333   \n",
       "15          0.009   0.043  -0.025    0.002           0.266     0.095   \n",
       "16          0.080   0.055  -0.076    0.005          -0.354     0.106   \n",
       "17          0.132   0.075  -0.116    0.010          -0.344     0.197   \n",
       "18         -0.130  -0.004   0.064    0.032          -1.163     0.067   \n",
       "19          0.010   0.002  -0.003    0.003           0.420     0.050   \n",
       "\n",
       "    dffits_internal  student_resid  dffits  \n",
       "0            -0.371         -0.730  -0.366  \n",
       "1             0.369          1.534   0.384  \n",
       "2            -1.213         -1.654  -1.273  \n",
       "3            -0.465         -1.348  -0.476  \n",
       "4            -0.000         -0.000  -0.000  \n",
       "5            -0.058         -0.148  -0.057  \n",
       "6             0.132          0.298   0.128  \n",
       "7             0.542          1.760   0.575  \n",
       "8             0.399          1.118   0.402  \n",
       "9            -0.363         -1.034  -0.364  \n",
       "10            0.052          0.137   0.051  \n",
       "11            0.325          0.923   0.323  \n",
       "12           -0.798         -1.826  -0.851  \n",
       "13            0.612          1.525   0.636  \n",
       "14            0.194          0.267   0.189  \n",
       "15            0.086          0.258   0.084  \n",
       "16           -0.122         -0.345  -0.118  \n",
       "17           -0.170         -0.334  -0.166  \n",
       "18           -0.312         -1.176  -0.315  \n",
       "19            0.096          0.409   0.094  "
      ]
     },
     "execution_count": 34,
     "metadata": {},
     "output_type": "execute_result"
    }
   ],
   "source": [
    "influence = model.get_influence()\n",
    "influence.summary_frame().round(3)"
   ]
  },
  {
   "cell_type": "markdown",
   "metadata": {},
   "source": [
    "### Figure 10.8 (p 404)\n",
    "\n",
    "Proportional Influence Plot (Points Proportional in Size to Cook's Distnce Measure) and Index Influence Plot -- Body Fat Example with Two Predictor Variables.\n",
    "\n",
    "##### Note\n",
    "\n",
    "I use the built-in `influence_plot` that provides similar information. See documentation [here](https://www.statsmodels.org/stable/generated/statsmodels.stats.outliers_influence.OLSInfluence.plot_influence.html)"
   ]
  },
  {
   "cell_type": "code",
   "execution_count": 43,
   "metadata": {},
   "outputs": [
    {
     "data": {
      "image/png": "[encoded data removed]",
      "text/plain": [
       "<Figure size 864x432 with 2 Axes>"
      ]
     },
     "metadata": {
      "needs_background": "light"
     },
     "output_type": "display_data"
    }
   ],
   "source": [
    "\n",
    "fig, axes = plt.subplots(1, 2, figsize=(12, 6))\n",
    "plt.subplots_adjust(left=0.1, bottom=0.1, right=0.9, top=0.9, wspace=0.4, hspace=0.4)\n",
    "\n",
    "axes[0].scatter(model.fittedvalues, model.resid, s=influence.cooks_distance[0]*1000)\n",
    "axes[0].axhline(y=0, c=\"grey\", ls=\"--\")\n",
    "\n",
    "axes[1].plot(range(0, len(df)), model.get_influence().cooks_distance[0])\n",
    "\n",
    "axes[0].set_title(\"(a) Proportional Influence Plot\")\n",
    "axes[1].set_title(\"(b) Index Influence Plot\")\n",
    "plt.show()"
   ]
  },
  {
   "cell_type": "code",
   "execution_count": 29,
   "metadata": {},
   "outputs": [
    {
     "data": {
      "image/png": "[encoded data removed]",
      "text/plain": [
       "<Figure size 432x288 with 1 Axes>"
      ]
     },
     "metadata": {
      "needs_background": "light"
     },
     "output_type": "display_data"
    }
   ],
   "source": [
    "_ = sm.graphics.influence_plot(model)"
   ]
  },
  {
   "cell_type": "markdown",
   "metadata": {},
   "source": [
    "# 10.5 Multicollinearity Diagnostics -- Variance Inflation Factor (p 406)"
   ]
  },
  {
   "cell_type": "markdown",
   "metadata": {},
   "source": [
    "### Table 10.5 (p 409)\n",
    "\n",
    "Variance Inflation Factors -- Body Fat Example with Three Predicator Variables"
   ]
  },
  {
   "cell_type": "code",
   "execution_count": 74,
   "metadata": {},
   "outputs": [
    {
     "data": {
      "text/html": [
       "<div>\n",
       "<style scoped>\n",
       "    .dataframe tbody tr th:only-of-type {\n",
       "        vertical-align: middle;\n",
       "    }\n",
       "\n",
       "    .dataframe tbody tr th {\n",
       "        vertical-align: top;\n",
       "    }\n",
       "\n",
       "    .dataframe thead th {\n",
       "        text-align: right;\n",
       "    }\n",
       "</style>\n",
       "<table border=\"1\" class=\"dataframe\">\n",
       "  <thead>\n",
       "    <tr style=\"text-align: right;\">\n",
       "      <th></th>\n",
       "      <th>vif</th>\n",
       "    </tr>\n",
       "  </thead>\n",
       "  <tbody>\n",
       "    <tr>\n",
       "      <th>X1</th>\n",
       "      <td>708.842914</td>\n",
       "    </tr>\n",
       "    <tr>\n",
       "      <th>X2</th>\n",
       "      <td>564.343386</td>\n",
       "    </tr>\n",
       "    <tr>\n",
       "      <th>X3</th>\n",
       "      <td>104.606005</td>\n",
       "    </tr>\n",
       "  </tbody>\n",
       "</table>\n",
       "</div>"
      ],
      "text/plain": [
       "           vif\n",
       "X1  708.842914\n",
       "X2  564.343386\n",
       "X3  104.606005"
      ]
     },
     "metadata": {},
     "output_type": "display_data"
    },
    {
     "data": {
      "text/plain": [
       "vif    459.264102\n",
       "dtype: float64"
      ]
     },
     "metadata": {},
     "output_type": "display_data"
    }
   ],
   "source": [
    "model = ols(\"Y ~ X1 + X2 + X3\", df).fit()\n",
    "vif = pd.DataFrame({\n",
    "    \"vif\": [variance_inflation_factor(model.model.data.exog, i) for i in range(1, model.model.data.exog.shape[1])]\n",
    "}, index=model.params.index[1:])\n",
    "display(vif)\n",
    "display(vif.mean())"
   ]
  },
  {
   "cell_type": "markdown",
   "metadata": {},
   "source": [
    "# 10.6 Surgical Unit Example -- Continued (p 410)"
   ]
  },
  {
   "cell_type": "markdown",
   "metadata": {},
   "source": [
    "### Input the Surgical Unit Data"
   ]
  },
  {
   "cell_type": "code",
   "execution_count": 76,
   "metadata": {},
   "outputs": [],
   "source": [
    "df = pd.read_pickle(f\"{DATA_DIR}/CH09TA01.xz\")\n",
    "df.columns = ['X1', 'X2', 'X3', 'X4', 'X5', 'X6', 'X7', 'X8', 'Y', 'lnY']\n",
    "model = ols(\"lnY ~ X1 + X2 + X3 + X8\", df).fit()"
   ]
  },
  {
   "cell_type": "markdown",
   "metadata": {},
   "source": [
    "To examine interaction terms, added-variable plots are explained (p 410), but it is not clear how to assess those for indications of strong interactions in this instance. Instead, a partial F test is conducted by fitting the model with the additional interaction terms. The P-value of 0.35 indicating that interaction effects are not present."
   ]
  },
  {
   "cell_type": "code",
   "execution_count": 137,
   "metadata": {},
   "outputs": [
    {
     "data": {
      "text/html": [
       "<div>\n",
       "<style scoped>\n",
       "    .dataframe tbody tr th:only-of-type {\n",
       "        vertical-align: middle;\n",
       "    }\n",
       "\n",
       "    .dataframe tbody tr th {\n",
       "        vertical-align: top;\n",
       "    }\n",
       "\n",
       "    .dataframe thead th {\n",
       "        text-align: right;\n",
       "    }\n",
       "</style>\n",
       "<table border=\"1\" class=\"dataframe\">\n",
       "  <thead>\n",
       "    <tr style=\"text-align: right;\">\n",
       "      <th></th>\n",
       "      <th>df_resid</th>\n",
       "      <th>ssr</th>\n",
       "      <th>df_diff</th>\n",
       "      <th>ss_diff</th>\n",
       "      <th>F</th>\n",
       "      <th>Pr(&gt;F)</th>\n",
       "    </tr>\n",
       "  </thead>\n",
       "  <tbody>\n",
       "    <tr>\n",
       "      <th>0</th>\n",
       "      <td>49.0</td>\n",
       "      <td>2.178799</td>\n",
       "      <td>0.0</td>\n",
       "      <td>NaN</td>\n",
       "      <td>NaN</td>\n",
       "      <td>NaN</td>\n",
       "    </tr>\n",
       "    <tr>\n",
       "      <th>1</th>\n",
       "      <td>43.0</td>\n",
       "      <td>1.875780</td>\n",
       "      <td>6.0</td>\n",
       "      <td>0.303018</td>\n",
       "      <td>1.157722</td>\n",
       "      <td>0.346488</td>\n",
       "    </tr>\n",
       "  </tbody>\n",
       "</table>\n",
       "</div>"
      ],
      "text/plain": [
       "   df_resid       ssr  df_diff   ss_diff         F    Pr(>F)\n",
       "0      49.0  2.178799      0.0       NaN       NaN       NaN\n",
       "1      43.0  1.875780      6.0  0.303018  1.157722  0.346488"
      ]
     },
     "execution_count": 137,
     "metadata": {},
     "output_type": "execute_result"
    }
   ],
   "source": [
    "anova_lm(model, ols(\"lnY ~ X1 + X2 + X3 + X8 + X1*X2 + X1*X3 + X1*X8 + X2*X3 + X2*X8 + X3*X8\", df).fit())"
   ]
  },
  {
   "cell_type": "markdown",
   "metadata": {},
   "source": [
    "### Figure 10.9 (p 411)\n",
    "\n",
    "Residual and Added-Variable Plots for Surgical Unit Example -- Regression Model (10.45)"
   ]
  },
  {
   "cell_type": "code",
   "execution_count": 120,
   "metadata": {},
   "outputs": [
    {
     "data": {
      "image/png": "[encoded data removed]",
      "text/plain": [
       "<Figure size 864x720 with 4 Axes>"
      ]
     },
     "metadata": {
      "needs_background": "light"
     },
     "output_type": "display_data"
    }
   ],
   "source": [
    "fig, axes = plt.subplots(2, 2, figsize=(12, 10))\n",
    "plt.subplots_adjust(left=0.1, bottom=0.1, right=0.9, top=0.9, wspace=0.4, hspace=0.4)\n",
    "\n",
    "axes[0][0].scatter(model.fittedvalues, model.resid)\n",
    "axes[0][0].axhline(y=0, c=\"grey\", ls=\"--\")\n",
    "\n",
    "axes[0][1].scatter(df.X5, model.resid)\n",
    "axes[0][1].axhline(y=0, c=\"grey\", ls=\"--\")\n",
    "\n",
    "_ = sm.graphics.plot_partregress(\"Y\", \"X5\", [\"X1\", \"X2\", \"X3\", \"X8\"], df, obs_labels=False, ax=axes[1][0])\n",
    "axes[0][1].axhline(y=0, c=\"grey\", ls=\"--\")\n",
    "\n",
    "qq = stats.probplot(model.resid, plot=axes[1][1])\n",
    "\n",
    "axes[0][0].set_title(f\"(a) Residual Plot against {yhat}\")\n",
    "axes[0][1].set_title(\"(b) Residual Plot against X5\")\n",
    "axes[1][0].set_title(\"(c) Added-Variable Plot for X5\")\n",
    "axes[1][1].set_title(\"(d) Normal Probability Plot\")\n",
    "plt.show()"
   ]
  },
  {
   "cell_type": "markdown",
   "metadata": {},
   "source": [
    "Multicollinearity was also studied (p 412)"
   ]
  },
  {
   "cell_type": "code",
   "execution_count": 79,
   "metadata": {},
   "outputs": [
    {
     "data": {
      "text/html": [
       "<div>\n",
       "<style scoped>\n",
       "    .dataframe tbody tr th:only-of-type {\n",
       "        vertical-align: middle;\n",
       "    }\n",
       "\n",
       "    .dataframe tbody tr th {\n",
       "        vertical-align: top;\n",
       "    }\n",
       "\n",
       "    .dataframe thead th {\n",
       "        text-align: right;\n",
       "    }\n",
       "</style>\n",
       "<table border=\"1\" class=\"dataframe\">\n",
       "  <thead>\n",
       "    <tr style=\"text-align: right;\">\n",
       "      <th></th>\n",
       "      <th>vif</th>\n",
       "    </tr>\n",
       "  </thead>\n",
       "  <tbody>\n",
       "    <tr>\n",
       "      <th>X1</th>\n",
       "      <td>1.102590</td>\n",
       "    </tr>\n",
       "    <tr>\n",
       "      <th>X2</th>\n",
       "      <td>1.019925</td>\n",
       "    </tr>\n",
       "    <tr>\n",
       "      <th>X3</th>\n",
       "      <td>1.048708</td>\n",
       "    </tr>\n",
       "    <tr>\n",
       "      <th>X8</th>\n",
       "      <td>1.091860</td>\n",
       "    </tr>\n",
       "  </tbody>\n",
       "</table>\n",
       "</div>"
      ],
      "text/plain": [
       "         vif\n",
       "X1  1.102590\n",
       "X2  1.019925\n",
       "X3  1.048708\n",
       "X8  1.091860"
      ]
     },
     "metadata": {},
     "output_type": "display_data"
    },
    {
     "data": {
      "text/plain": [
       "vif    1.065771\n",
       "dtype: float64"
      ]
     },
     "metadata": {},
     "output_type": "display_data"
    }
   ],
   "source": [
    "vif = pd.DataFrame({\n",
    "    \"vif\": [variance_inflation_factor(model.model.data.exog, i) for i in range(1, model.model.data.exog.shape[1])]\n",
    "}, index=model.params.index[1:])\n",
    "display(vif)\n",
    "display(vif.mean())"
   ]
  },
  {
   "cell_type": "markdown",
   "metadata": {},
   "source": [
    "### Figure 10.10 (p 413)\n",
    "\n",
    "Diagnostic Plots for Surgical Unit Example -- Regression Model (10.45)"
   ]
  },
  {
   "cell_type": "code",
   "execution_count": 127,
   "metadata": {},
   "outputs": [
    {
     "data": {
      "image/png": "[encoded data removed]",
      "text/plain": [
       "<Figure size 864x720 with 4 Axes>"
      ]
     },
     "metadata": {
      "needs_background": "light"
     },
     "output_type": "display_data"
    }
   ],
   "source": [
    "influence = model.get_influence().summary_frame()\n",
    "x = range(1, len(df)+1)\n",
    "\n",
    "fig, axes = plt.subplots(2, 2, figsize=(12, 10))\n",
    "plt.subplots_adjust(left=0.1, bottom=0.1, right=0.9, top=0.9, wspace=0.4, hspace=0.4)\n",
    "\n",
    "axes[0][0].plot(x, influence.student_resid)\n",
    "axes[0][0].text(17, influence.student_resid[17-1], 17)\n",
    "\n",
    "axes[0][1].plot(x, influence.hat_diag)\n",
    "axes[0][1].text(28, influence.hat_diag[28-1], 28)\n",
    "axes[0][1].text(38, influence.hat_diag[38-1], 38)\n",
    "\n",
    "axes[1][0].plot(x, influence.cooks_d)\n",
    "axes[1][0].text(17, influence.cooks_d[17-1], 17)\n",
    "\n",
    "axes[1][1].plot(x, influence.dffits)\n",
    "axes[1][1].text(17, influence.dffits[17-1], 17)\n",
    "\n",
    "axes[0][0].set_title(\"(a) Studentized Deleted Residuals\")\n",
    "axes[0][1].set_title(\"(b) Leverage Values\")\n",
    "axes[1][0].set_title(\"(c) Cook's Distance\")\n",
    "axes[1][1].set_title(\"(d) DFFITS Values\")\n",
    "plt.show()"
   ]
  },
  {
   "cell_type": "markdown",
   "metadata": {},
   "source": [
    "### Table 10.6 (p 413)\n",
    "\n",
    "Various Dignostics for Outlying Cases -- Surgical Unit Example, Regression Model (10.45)\n",
    "\n",
    "##### Note\n",
    "\n",
    "Since python is zero-indexed, the case numbers of interest are $(i-1)$ in code"
   ]
  },
  {
   "cell_type": "code",
   "execution_count": 117,
   "metadata": {},
   "outputs": [
    {
     "data": {
      "text/html": [
       "<div>\n",
       "<style scoped>\n",
       "    .dataframe tbody tr th:only-of-type {\n",
       "        vertical-align: middle;\n",
       "    }\n",
       "\n",
       "    .dataframe tbody tr th {\n",
       "        vertical-align: top;\n",
       "    }\n",
       "\n",
       "    .dataframe thead th {\n",
       "        text-align: right;\n",
       "    }\n",
       "</style>\n",
       "<table border=\"1\" class=\"dataframe\">\n",
       "  <thead>\n",
       "    <tr style=\"text-align: right;\">\n",
       "      <th></th>\n",
       "      <th>dfb_Intercept</th>\n",
       "      <th>dfb_X1</th>\n",
       "      <th>dfb_X2</th>\n",
       "      <th>dfb_X3</th>\n",
       "      <th>dfb_X8</th>\n",
       "      <th>cooks_d</th>\n",
       "      <th>standard_resid</th>\n",
       "      <th>hat_diag</th>\n",
       "      <th>dffits_internal</th>\n",
       "      <th>student_resid</th>\n",
       "      <th>dffits</th>\n",
       "    </tr>\n",
       "  </thead>\n",
       "  <tbody>\n",
       "    <tr>\n",
       "      <th>16</th>\n",
       "      <td>0.443734</td>\n",
       "      <td>-0.153797</td>\n",
       "      <td>0.626130</td>\n",
       "      <td>-1.140518</td>\n",
       "      <td>-0.010283</td>\n",
       "      <td>0.330619</td>\n",
       "      <td>3.061615</td>\n",
       "      <td>0.149919</td>\n",
       "      <td>1.285727</td>\n",
       "      <td>3.369599</td>\n",
       "      <td>1.415065</td>\n",
       "    </tr>\n",
       "    <tr>\n",
       "      <th>22</th>\n",
       "      <td>0.322193</td>\n",
       "      <td>0.048649</td>\n",
       "      <td>-0.465980</td>\n",
       "      <td>-0.148416</td>\n",
       "      <td>0.418894</td>\n",
       "      <td>0.100059</td>\n",
       "      <td>1.467492</td>\n",
       "      <td>0.188519</td>\n",
       "      <td>0.707317</td>\n",
       "      <td>1.485450</td>\n",
       "      <td>0.715972</td>\n",
       "    </tr>\n",
       "    <tr>\n",
       "      <th>27</th>\n",
       "      <td>-0.201114</td>\n",
       "      <td>0.241413</td>\n",
       "      <td>0.047507</td>\n",
       "      <td>0.073481</td>\n",
       "      <td>0.099894</td>\n",
       "      <td>0.020024</td>\n",
       "      <td>0.493451</td>\n",
       "      <td>0.291371</td>\n",
       "      <td>0.316416</td>\n",
       "      <td>0.489608</td>\n",
       "      <td>0.313951</td>\n",
       "    </tr>\n",
       "    <tr>\n",
       "      <th>31</th>\n",
       "      <td>-0.294476</td>\n",
       "      <td>-0.408486</td>\n",
       "      <td>0.324442</td>\n",
       "      <td>0.527579</td>\n",
       "      <td>0.167095</td>\n",
       "      <td>0.133329</td>\n",
       "      <td>-1.536299</td>\n",
       "      <td>0.220243</td>\n",
       "      <td>-0.816483</td>\n",
       "      <td>-1.558541</td>\n",
       "      <td>-0.828303</td>\n",
       "    </tr>\n",
       "    <tr>\n",
       "      <th>37</th>\n",
       "      <td>-0.224362</td>\n",
       "      <td>0.023964</td>\n",
       "      <td>0.699242</td>\n",
       "      <td>-0.416571</td>\n",
       "      <td>0.196143</td>\n",
       "      <td>0.147249</td>\n",
       "      <td>-1.292465</td>\n",
       "      <td>0.305914</td>\n",
       "      <td>-0.858048</td>\n",
       "      <td>-1.301587</td>\n",
       "      <td>-0.864104</td>\n",
       "    </tr>\n",
       "    <tr>\n",
       "      <th>41</th>\n",
       "      <td>-0.040245</td>\n",
       "      <td>0.039410</td>\n",
       "      <td>0.043536</td>\n",
       "      <td>-0.011868</td>\n",
       "      <td>-0.054288</td>\n",
       "      <td>0.001565</td>\n",
       "      <td>-0.163605</td>\n",
       "      <td>0.226227</td>\n",
       "      <td>-0.088463</td>\n",
       "      <td>-0.161971</td>\n",
       "      <td>-0.087580</td>\n",
       "    </tr>\n",
       "    <tr>\n",
       "      <th>51</th>\n",
       "      <td>-0.070680</td>\n",
       "      <td>0.070977</td>\n",
       "      <td>-0.171746</td>\n",
       "      <td>0.236438</td>\n",
       "      <td>-0.284998</td>\n",
       "      <td>0.031202</td>\n",
       "      <td>-0.739253</td>\n",
       "      <td>0.222076</td>\n",
       "      <td>-0.394981</td>\n",
       "      <td>-0.735785</td>\n",
       "      <td>-0.393128</td>\n",
       "    </tr>\n",
       "  </tbody>\n",
       "</table>\n",
       "</div>"
      ],
      "text/plain": [
       "    dfb_Intercept    dfb_X1    dfb_X2    dfb_X3    dfb_X8   cooks_d  \\\n",
       "16       0.443734 -0.153797  0.626130 -1.140518 -0.010283  0.330619   \n",
       "22       0.322193  0.048649 -0.465980 -0.148416  0.418894  0.100059   \n",
       "27      -0.201114  0.241413  0.047507  0.073481  0.099894  0.020024   \n",
       "31      -0.294476 -0.408486  0.324442  0.527579  0.167095  0.133329   \n",
       "37      -0.224362  0.023964  0.699242 -0.416571  0.196143  0.147249   \n",
       "41      -0.040245  0.039410  0.043536 -0.011868 -0.054288  0.001565   \n",
       "51      -0.070680  0.070977 -0.171746  0.236438 -0.284998  0.031202   \n",
       "\n",
       "    standard_resid  hat_diag  dffits_internal  student_resid    dffits  \n",
       "16        3.061615  0.149919         1.285727       3.369599  1.415065  \n",
       "22        1.467492  0.188519         0.707317       1.485450  0.715972  \n",
       "27        0.493451  0.291371         0.316416       0.489608  0.313951  \n",
       "31       -1.536299  0.220243        -0.816483      -1.558541 -0.828303  \n",
       "37       -1.292465  0.305914        -0.858048      -1.301587 -0.864104  \n",
       "41       -0.163605  0.226227        -0.088463      -0.161971 -0.087580  \n",
       "51       -0.739253  0.222076        -0.394981      -0.735785 -0.393128  "
      ]
     },
     "execution_count": 117,
     "metadata": {},
     "output_type": "execute_result"
    }
   ],
   "source": [
    "cases = [16, 22, 27, 31, 37, 41, 51]\n",
    "model.get_influence().summary_frame().loc[cases]"
   ]
  },
  {
   "cell_type": "markdown",
   "metadata": {},
   "source": [
    "As a direct measure of influence (p 412-413), we fit  model when case 17 is excluded from the model. We take the absolute percentage difference and also compare the average. The influence is negligable. "
   ]
  },
  {
   "cell_type": "code",
   "execution_count": 119,
   "metadata": {
    "scrolled": true
   },
   "outputs": [
    {
     "data": {
      "text/plain": [
       "0     0.059064\n",
       "1     0.440662\n",
       "2     0.090144\n",
       "3     1.217622\n",
       "4     0.615692\n",
       "5     0.074255\n",
       "6     0.256565\n",
       "7     0.278953\n",
       "8     0.101077\n",
       "9     0.101602\n",
       "10    0.348424\n",
       "11    0.836610\n",
       "12    0.108636\n",
       "13    0.245970\n",
       "14    0.309645\n",
       "15    0.501643\n",
       "17    1.072805\n",
       "18    0.281176\n",
       "19    0.111992\n",
       "20    0.084397\n",
       "21    1.209298\n",
       "22    0.221377\n",
       "23    0.059510\n",
       "24    0.381500\n",
       "25    0.267831\n",
       "26    0.147224\n",
       "27    0.107532\n",
       "28    0.615181\n",
       "29    0.826673\n",
       "30    0.636950\n",
       "31    1.197392\n",
       "32    0.274057\n",
       "33    0.028493\n",
       "34    0.312725\n",
       "35    0.451570\n",
       "36    0.300204\n",
       "37    1.600240\n",
       "38    0.241964\n",
       "39    0.200104\n",
       "40    0.132720\n",
       "41    0.753321\n",
       "42    0.166196\n",
       "43    0.067036\n",
       "44    0.150611\n",
       "45    0.349417\n",
       "46    0.228542\n",
       "47    0.038775\n",
       "48    0.294883\n",
       "49    0.012738\n",
       "50    1.131637\n",
       "51    1.320906\n",
       "52    0.063641\n",
       "53    0.402365\n",
       "dtype: float64"
      ]
     },
     "metadata": {},
     "output_type": "display_data"
    },
    {
     "data": {
      "text/plain": [
       "0.4024443183812225"
      ]
     },
     "metadata": {},
     "output_type": "display_data"
    }
   ],
   "source": [
    "exclude = df.index.isin([16])\n",
    "model17 = ols(model.model.formula, df[~exclude]).fit()\n",
    "influence = abs((model17.fittedvalues - model.fittedvalues[~exclude]) / model.fittedvalues[~exclude]) * 100\n",
    "display(influence)\n",
    "display(influence.mean())"
   ]
  }
 ],
 "metadata": {
  "kernelspec": {
   "display_name": "Python 3",
   "language": "python",
   "name": "python3"
  },
  "language_info": {
   "codemirror_mode": {
    "name": "ipython",
    "version": 3
   },
   "file_extension": ".py",
   "mimetype": "text/x-python",
   "name": "python",
   "nbconvert_exporter": "python",
   "pygments_lexer": "ipython3",
   "version": "3.8.5"
  }
 },
 "nbformat": 4,
 "nbformat_minor": 4
}
