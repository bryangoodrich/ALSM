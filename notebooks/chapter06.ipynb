{
 "cells": [
  {
   "cell_type": "markdown",
   "metadata": {},
   "source": [
    "# Chapter 6 - Multiple Regression I"
   ]
  },
  {
   "cell_type": "code",
   "execution_count": 1,
   "metadata": {},
   "outputs": [],
   "source": [
    "import pandas as pd\n",
    "import matplotlib.pyplot as plt\n",
    "from statsmodels.stats.api import het_breuschpagan, anova_lm\n",
    "from statsmodels.formula.api import ols\n",
    "from statsmodels.nonparametric.smoothers_lowess import lowess\n",
    "from scipy import stats\n",
    "import numpy as np\n",
    "\n",
    "DATA_DIR = \"../data\"\n",
    "yhat = '\\u0177'\n",
    "square = '\\u00b2'"
   ]
  },
  {
   "cell_type": "markdown",
   "metadata": {},
   "source": [
    "# 6.1 Multiple Regression Models (p 214)"
   ]
  },
  {
   "cell_type": "markdown",
   "metadata": {},
   "source": [
    "This lengthy section is mostly abstract discussion of various multiple regressions and their forms.\n",
    "\n",
    "##### Topics\n",
    "\n",
    "Need for Several Predictor Variables\n",
    "\n",
    "First-Order Model with Two Predicator Variables\n",
    "\n",
    "First-Order Model with More than Two Predicator Variables\n",
    "\n",
    "General Linear Regression Model\n",
    "\n",
    "Qualitative Predictor Variables\n",
    "\n",
    "Polynomial Regression\n",
    "\n",
    "Transformed Variables\n",
    "\n",
    "Interaction Effects\n",
    "\n",
    "Combination of Cases\n",
    "\n",
    "Meaning of Linear in General Linear Regression Model \n",
    "\n",
    "> It should be clear from the various examples that general linear regression model (6.7) is not restricted to linear response surfaces. The term *linear model* refers to the fact that model (6.7) is linear in the parameters; it does not refer to the shape of the response surface\n",
    "\n",
    "Example of non-linear models (see chapter 13) includes forms like $y = x\\exp^{\\frac{1}{x}}$. While you may be able to transform this to a linear version, that is not always the case. Furthermore, doing so changes the structure of your errors and what you are modeling. This will be more apparent later (see chapter 12 as well).\n"
   ]
  },
  {
   "cell_type": "markdown",
   "metadata": {},
   "source": [
    "# 6.2 General Linear Regression Model in Matrix Terms"
   ]
  },
  {
   "cell_type": "markdown",
   "metadata": {},
   "source": [
    "This short section is a discussion and setup for the subsequent sections discussing the matrix algebra regarding least squares estimators."
   ]
  },
  {
   "cell_type": "markdown",
   "metadata": {},
   "source": [
    "# 6.3 Estimation of Regression Coefficients (p 223)"
   ]
  },
  {
   "cell_type": "markdown",
   "metadata": {},
   "source": [
    "This short section covers the matrix algebra regarding least squares estimators."
   ]
  },
  {
   "cell_type": "markdown",
   "metadata": {},
   "source": [
    "# 6.4 Fitted Values and Residuals (p 224)"
   ]
  },
  {
   "cell_type": "markdown",
   "metadata": {},
   "source": [
    "This short section covers a number of equations for the matrix algebra regarding fitted values and residuals."
   ]
  },
  {
   "cell_type": "markdown",
   "metadata": {},
   "source": [
    "# 6.5 Analysis of Variance Results (p 225)"
   ]
  },
  {
   "cell_type": "markdown",
   "metadata": {},
   "source": [
    "##### Topics\n",
    "\n",
    "Sums of Squares and Mean Squares\n",
    "\n",
    "$F$ Test for Regression Relation\n",
    "\n",
    "Coefficient of Multiple Determination\n",
    "\n",
    "Coefficient of Multiple Correlation"
   ]
  },
  {
   "cell_type": "markdown",
   "metadata": {},
   "source": [
    "# 6.6 Inferences about Regression (p 227)"
   ]
  },
  {
   "cell_type": "markdown",
   "metadata": {},
   "source": [
    "#### Topics\n",
    "\n",
    "Interval Estimation of $\\beta_k$\n",
    "\n",
    "Tests for $\\beta_k$\n",
    "\n",
    "Join Inferences"
   ]
  },
  {
   "cell_type": "markdown",
   "metadata": {},
   "source": [
    "# 6.7 Estimation of Mean Response and Prediction of New Observation (p 229)"
   ]
  },
  {
   "cell_type": "markdown",
   "metadata": {},
   "source": [
    "##### Topics\n",
    "\n",
    "Interval Estimation of $E\\{Y_h\\}$\n",
    "\n",
    "Confidence Region for Regression Surface\n",
    "\n",
    "Simultaneous Confidence Intervals for Several Mean Responses\n",
    "\n",
    "Prediction of New Observation $Y_{h(new)}$\n",
    "\n",
    "Prediction of Mean of $m$ New Observations at $X_h$\n",
    "\n",
    "Predictions of $g$ New Observations\n",
    "\n",
    "Caution about Hidden Extrapolations"
   ]
  },
  {
   "cell_type": "markdown",
   "metadata": {},
   "source": [
    "# 6.8 Diagnostics and Remedial Measures (p 232)"
   ]
  },
  {
   "cell_type": "markdown",
   "metadata": {},
   "source": [
    "### Input the Dwaine Studios Data"
   ]
  },
  {
   "cell_type": "code",
   "execution_count": 2,
   "metadata": {},
   "outputs": [],
   "source": [
    "df = pd.read_pickle(f\"{DATA_DIR}/CH06FI05.xz\")\n",
    "df.columns = ['x1', 'x2', 'y']\n",
    "model = ols(\"y ~ x1 + x2\", data=df).fit()"
   ]
  },
  {
   "cell_type": "markdown",
   "metadata": {},
   "source": [
    "### Figure 6.4 (p 232)\n",
    "\n",
    "Scatter Plot Matrix and Correlation Matrix -- Dwaine Studios Example\n",
    "\n",
    "###### Note\n",
    "\n",
    "The color coding can be customized using various options. See [maplotplib colormaps](https://matplotlib.org/stable/tutorials/colors/colormaps.html) for more.\n",
    "\n",
    "The pandas `scatter_matrix` produces extra information, like the variable histogram. See [documentation](https://pandas.pydata.org/pandas-docs/stable/reference/api/pandas.plotting.scatter_matrix.html) or [References](#References) for more."
   ]
  },
  {
   "cell_type": "code",
   "execution_count": 3,
   "metadata": {},
   "outputs": [
    {
     "data": {
      "text/html": [
       "<style  type=\"text/css\" >\n",
       "#T_1554a898_a708_11eb_9c6d_f48c505fbf03row0_col0,#T_1554a898_a708_11eb_9c6d_f48c505fbf03row1_col1,#T_1554a898_a708_11eb_9c6d_f48c505fbf03row2_col2{\n",
       "            background-color:  #b40426;\n",
       "            color:  #f1f1f1;\n",
       "        }#T_1554a898_a708_11eb_9c6d_f48c505fbf03row0_col1,#T_1554a898_a708_11eb_9c6d_f48c505fbf03row1_col0,#T_1554a898_a708_11eb_9c6d_f48c505fbf03row1_col2{\n",
       "            background-color:  #3b4cc0;\n",
       "            color:  #f1f1f1;\n",
       "        }#T_1554a898_a708_11eb_9c6d_f48c505fbf03row0_col2{\n",
       "            background-color:  #f7b99e;\n",
       "            color:  #000000;\n",
       "        }#T_1554a898_a708_11eb_9c6d_f48c505fbf03row2_col0{\n",
       "            background-color:  #f49a7b;\n",
       "            color:  #000000;\n",
       "        }#T_1554a898_a708_11eb_9c6d_f48c505fbf03row2_col1{\n",
       "            background-color:  #8caffe;\n",
       "            color:  #000000;\n",
       "        }</style><table id=\"T_1554a898_a708_11eb_9c6d_f48c505fbf03\" ><thead>    <tr>        <th class=\"blank level0\" ></th>        <th class=\"col_heading level0 col0\" >x1</th>        <th class=\"col_heading level0 col1\" >x2</th>        <th class=\"col_heading level0 col2\" >y</th>    </tr></thead><tbody>\n",
       "                <tr>\n",
       "                        <th id=\"T_1554a898_a708_11eb_9c6d_f48c505fbf03level0_row0\" class=\"row_heading level0 row0\" >x1</th>\n",
       "                        <td id=\"T_1554a898_a708_11eb_9c6d_f48c505fbf03row0_col0\" class=\"data row0 col0\" >1.000000</td>\n",
       "                        <td id=\"T_1554a898_a708_11eb_9c6d_f48c505fbf03row0_col1\" class=\"data row0 col1\" >0.781299</td>\n",
       "                        <td id=\"T_1554a898_a708_11eb_9c6d_f48c505fbf03row0_col2\" class=\"data row0 col2\" >0.944554</td>\n",
       "            </tr>\n",
       "            <tr>\n",
       "                        <th id=\"T_1554a898_a708_11eb_9c6d_f48c505fbf03level0_row1\" class=\"row_heading level0 row1\" >x2</th>\n",
       "                        <td id=\"T_1554a898_a708_11eb_9c6d_f48c505fbf03row1_col0\" class=\"data row1 col0\" >0.781299</td>\n",
       "                        <td id=\"T_1554a898_a708_11eb_9c6d_f48c505fbf03row1_col1\" class=\"data row1 col1\" >1.000000</td>\n",
       "                        <td id=\"T_1554a898_a708_11eb_9c6d_f48c505fbf03row1_col2\" class=\"data row1 col2\" >0.835802</td>\n",
       "            </tr>\n",
       "            <tr>\n",
       "                        <th id=\"T_1554a898_a708_11eb_9c6d_f48c505fbf03level0_row2\" class=\"row_heading level0 row2\" >y</th>\n",
       "                        <td id=\"T_1554a898_a708_11eb_9c6d_f48c505fbf03row2_col0\" class=\"data row2 col0\" >0.944554</td>\n",
       "                        <td id=\"T_1554a898_a708_11eb_9c6d_f48c505fbf03row2_col1\" class=\"data row2 col1\" >0.835802</td>\n",
       "                        <td id=\"T_1554a898_a708_11eb_9c6d_f48c505fbf03row2_col2\" class=\"data row2 col2\" >1.000000</td>\n",
       "            </tr>\n",
       "    </tbody></table>"
      ],
      "text/plain": [
       "<pandas.io.formats.style.Styler at 0x1d95d968100>"
      ]
     },
     "metadata": {},
     "output_type": "display_data"
    },
    {
     "data": {
      "text/plain": [
       "array([[<AxesSubplot:xlabel='x1', ylabel='x1'>,\n",
       "        <AxesSubplot:xlabel='x2', ylabel='x1'>,\n",
       "        <AxesSubplot:xlabel='y', ylabel='x1'>],\n",
       "       [<AxesSubplot:xlabel='x1', ylabel='x2'>,\n",
       "        <AxesSubplot:xlabel='x2', ylabel='x2'>,\n",
       "        <AxesSubplot:xlabel='y', ylabel='x2'>],\n",
       "       [<AxesSubplot:xlabel='x1', ylabel='y'>,\n",
       "        <AxesSubplot:xlabel='x2', ylabel='y'>,\n",
       "        <AxesSubplot:xlabel='y', ylabel='y'>]], dtype=object)"
      ]
     },
     "metadata": {},
     "output_type": "display_data"
    },
    {
     "data": {
      "image/png": "[encoded data removed]",
      "text/plain": [
       "<Figure size 864x576 with 9 Axes>"
      ]
     },
     "metadata": {
      "needs_background": "light"
     },
     "output_type": "display_data"
    }
   ],
   "source": [
    "display(df.corr().style.background_gradient(cmap=\"coolwarm\"))\n",
    "display(pd.plotting.scatter_matrix(df, figsize=(12, 8)))"
   ]
  },
  {
   "cell_type": "markdown",
   "metadata": {},
   "source": [
    "# 6.9 An Example -- Multiple Regression with Two Predictor Variables (p 236)"
   ]
  },
  {
   "cell_type": "markdown",
   "metadata": {},
   "source": [
    "### Figure 6.5 (p 237)\n",
    "\n",
    "Multiple Regression Output and Basic Data -- Dwaine Studios Example"
   ]
  },
  {
   "cell_type": "code",
   "execution_count": 4,
   "metadata": {},
   "outputs": [
    {
     "data": {
      "text/html": [
       "<div>\n",
       "<style scoped>\n",
       "    .dataframe tbody tr th:only-of-type {\n",
       "        vertical-align: middle;\n",
       "    }\n",
       "\n",
       "    .dataframe tbody tr th {\n",
       "        vertical-align: top;\n",
       "    }\n",
       "\n",
       "    .dataframe thead th {\n",
       "        text-align: right;\n",
       "    }\n",
       "</style>\n",
       "<table border=\"1\" class=\"dataframe\">\n",
       "  <thead>\n",
       "    <tr style=\"text-align: right;\">\n",
       "      <th></th>\n",
       "      <th>TARGETPOP (X1)</th>\n",
       "      <th>DISPOINC (X2)</th>\n",
       "      <th>SALES (Y)</th>\n",
       "      <th>FITTED</th>\n",
       "      <th>RESIDUAL</th>\n",
       "    </tr>\n",
       "  </thead>\n",
       "  <tbody>\n",
       "    <tr>\n",
       "      <th>0</th>\n",
       "      <td>68.5</td>\n",
       "      <td>16.7</td>\n",
       "      <td>174.4</td>\n",
       "      <td>187.18</td>\n",
       "      <td>-12.78</td>\n",
       "    </tr>\n",
       "    <tr>\n",
       "      <th>1</th>\n",
       "      <td>45.2</td>\n",
       "      <td>16.8</td>\n",
       "      <td>164.4</td>\n",
       "      <td>154.23</td>\n",
       "      <td>10.17</td>\n",
       "    </tr>\n",
       "    <tr>\n",
       "      <th>2</th>\n",
       "      <td>91.3</td>\n",
       "      <td>18.2</td>\n",
       "      <td>244.2</td>\n",
       "      <td>234.40</td>\n",
       "      <td>9.80</td>\n",
       "    </tr>\n",
       "    <tr>\n",
       "      <th>3</th>\n",
       "      <td>47.8</td>\n",
       "      <td>16.3</td>\n",
       "      <td>154.6</td>\n",
       "      <td>153.33</td>\n",
       "      <td>1.27</td>\n",
       "    </tr>\n",
       "    <tr>\n",
       "      <th>4</th>\n",
       "      <td>46.9</td>\n",
       "      <td>17.3</td>\n",
       "      <td>181.6</td>\n",
       "      <td>161.38</td>\n",
       "      <td>20.22</td>\n",
       "    </tr>\n",
       "    <tr>\n",
       "      <th>5</th>\n",
       "      <td>66.1</td>\n",
       "      <td>18.2</td>\n",
       "      <td>207.5</td>\n",
       "      <td>197.74</td>\n",
       "      <td>9.76</td>\n",
       "    </tr>\n",
       "    <tr>\n",
       "      <th>6</th>\n",
       "      <td>49.5</td>\n",
       "      <td>15.9</td>\n",
       "      <td>152.8</td>\n",
       "      <td>152.06</td>\n",
       "      <td>0.74</td>\n",
       "    </tr>\n",
       "    <tr>\n",
       "      <th>7</th>\n",
       "      <td>52.0</td>\n",
       "      <td>17.2</td>\n",
       "      <td>163.2</td>\n",
       "      <td>167.87</td>\n",
       "      <td>-4.67</td>\n",
       "    </tr>\n",
       "    <tr>\n",
       "      <th>8</th>\n",
       "      <td>48.9</td>\n",
       "      <td>16.6</td>\n",
       "      <td>145.4</td>\n",
       "      <td>157.74</td>\n",
       "      <td>-12.34</td>\n",
       "    </tr>\n",
       "    <tr>\n",
       "      <th>9</th>\n",
       "      <td>38.4</td>\n",
       "      <td>16.0</td>\n",
       "      <td>137.2</td>\n",
       "      <td>136.85</td>\n",
       "      <td>0.35</td>\n",
       "    </tr>\n",
       "    <tr>\n",
       "      <th>10</th>\n",
       "      <td>87.9</td>\n",
       "      <td>18.3</td>\n",
       "      <td>241.9</td>\n",
       "      <td>230.39</td>\n",
       "      <td>11.51</td>\n",
       "    </tr>\n",
       "    <tr>\n",
       "      <th>11</th>\n",
       "      <td>72.8</td>\n",
       "      <td>17.1</td>\n",
       "      <td>191.1</td>\n",
       "      <td>197.18</td>\n",
       "      <td>-6.08</td>\n",
       "    </tr>\n",
       "    <tr>\n",
       "      <th>12</th>\n",
       "      <td>88.4</td>\n",
       "      <td>17.4</td>\n",
       "      <td>232.0</td>\n",
       "      <td>222.69</td>\n",
       "      <td>9.31</td>\n",
       "    </tr>\n",
       "    <tr>\n",
       "      <th>13</th>\n",
       "      <td>42.9</td>\n",
       "      <td>15.8</td>\n",
       "      <td>145.3</td>\n",
       "      <td>141.52</td>\n",
       "      <td>3.78</td>\n",
       "    </tr>\n",
       "    <tr>\n",
       "      <th>14</th>\n",
       "      <td>52.5</td>\n",
       "      <td>17.8</td>\n",
       "      <td>161.1</td>\n",
       "      <td>174.21</td>\n",
       "      <td>-13.11</td>\n",
       "    </tr>\n",
       "    <tr>\n",
       "      <th>15</th>\n",
       "      <td>85.7</td>\n",
       "      <td>18.4</td>\n",
       "      <td>209.7</td>\n",
       "      <td>228.12</td>\n",
       "      <td>-18.42</td>\n",
       "    </tr>\n",
       "    <tr>\n",
       "      <th>16</th>\n",
       "      <td>41.3</td>\n",
       "      <td>16.5</td>\n",
       "      <td>146.4</td>\n",
       "      <td>145.75</td>\n",
       "      <td>0.65</td>\n",
       "    </tr>\n",
       "    <tr>\n",
       "      <th>17</th>\n",
       "      <td>51.7</td>\n",
       "      <td>16.3</td>\n",
       "      <td>144.0</td>\n",
       "      <td>159.00</td>\n",
       "      <td>-15.00</td>\n",
       "    </tr>\n",
       "    <tr>\n",
       "      <th>18</th>\n",
       "      <td>89.6</td>\n",
       "      <td>18.1</td>\n",
       "      <td>232.6</td>\n",
       "      <td>230.99</td>\n",
       "      <td>1.61</td>\n",
       "    </tr>\n",
       "    <tr>\n",
       "      <th>19</th>\n",
       "      <td>82.7</td>\n",
       "      <td>19.1</td>\n",
       "      <td>224.1</td>\n",
       "      <td>230.32</td>\n",
       "      <td>-6.22</td>\n",
       "    </tr>\n",
       "    <tr>\n",
       "      <th>20</th>\n",
       "      <td>52.3</td>\n",
       "      <td>16.0</td>\n",
       "      <td>166.5</td>\n",
       "      <td>157.06</td>\n",
       "      <td>9.44</td>\n",
       "    </tr>\n",
       "  </tbody>\n",
       "</table>\n",
       "</div>"
      ],
      "text/plain": [
       "    TARGETPOP (X1)  DISPOINC (X2)  SALES (Y)  FITTED  RESIDUAL\n",
       "0             68.5           16.7      174.4  187.18    -12.78\n",
       "1             45.2           16.8      164.4  154.23     10.17\n",
       "2             91.3           18.2      244.2  234.40      9.80\n",
       "3             47.8           16.3      154.6  153.33      1.27\n",
       "4             46.9           17.3      181.6  161.38     20.22\n",
       "5             66.1           18.2      207.5  197.74      9.76\n",
       "6             49.5           15.9      152.8  152.06      0.74\n",
       "7             52.0           17.2      163.2  167.87     -4.67\n",
       "8             48.9           16.6      145.4  157.74    -12.34\n",
       "9             38.4           16.0      137.2  136.85      0.35\n",
       "10            87.9           18.3      241.9  230.39     11.51\n",
       "11            72.8           17.1      191.1  197.18     -6.08\n",
       "12            88.4           17.4      232.0  222.69      9.31\n",
       "13            42.9           15.8      145.3  141.52      3.78\n",
       "14            52.5           17.8      161.1  174.21    -13.11\n",
       "15            85.7           18.4      209.7  228.12    -18.42\n",
       "16            41.3           16.5      146.4  145.75      0.65\n",
       "17            51.7           16.3      144.0  159.00    -15.00\n",
       "18            89.6           18.1      232.6  230.99      1.61\n",
       "19            82.7           19.1      224.1  230.32     -6.22\n",
       "20            52.3           16.0      166.5  157.06      9.44"
      ]
     },
     "execution_count": 4,
     "metadata": {},
     "output_type": "execute_result"
    }
   ],
   "source": [
    "pd.DataFrame({\n",
    "    \"TARGETPOP (X1)\": df.x1,\n",
    "    \"DISPOINC (X2)\": df.x2,\n",
    "    \"SALES (Y)\": df.y,\n",
    "    \"FITTED\": model.fittedvalues,\n",
    "    \"RESIDUAL\": model.resid\n",
    "}).round(2)"
   ]
  },
  {
   "cell_type": "code",
   "execution_count": 5,
   "metadata": {},
   "outputs": [
    {
     "data": {
      "text/html": [
       "<table class=\"simpletable\">\n",
       "<caption>OLS Regression Results</caption>\n",
       "<tr>\n",
       "  <th>Dep. Variable:</th>            <td>y</td>        <th>  R-squared:         </th> <td>   0.917</td>\n",
       "</tr>\n",
       "<tr>\n",
       "  <th>Model:</th>                   <td>OLS</td>       <th>  Adj. R-squared:    </th> <td>   0.907</td>\n",
       "</tr>\n",
       "<tr>\n",
       "  <th>Method:</th>             <td>Least Squares</td>  <th>  F-statistic:       </th> <td>   99.10</td>\n",
       "</tr>\n",
       "<tr>\n",
       "  <th>Date:</th>             <td>Mon, 26 Apr 2021</td> <th>  Prob (F-statistic):</th> <td>1.92e-10</td>\n",
       "</tr>\n",
       "<tr>\n",
       "  <th>Time:</th>                 <td>20:24:33</td>     <th>  Log-Likelihood:    </th> <td> -78.549</td>\n",
       "</tr>\n",
       "<tr>\n",
       "  <th>No. Observations:</th>      <td>    21</td>      <th>  AIC:               </th> <td>   163.1</td>\n",
       "</tr>\n",
       "<tr>\n",
       "  <th>Df Residuals:</th>          <td>    18</td>      <th>  BIC:               </th> <td>   166.2</td>\n",
       "</tr>\n",
       "<tr>\n",
       "  <th>Df Model:</th>              <td>     2</td>      <th>                     </th>     <td> </td>   \n",
       "</tr>\n",
       "<tr>\n",
       "  <th>Covariance Type:</th>      <td>nonrobust</td>    <th>                     </th>     <td> </td>   \n",
       "</tr>\n",
       "</table>\n",
       "<table class=\"simpletable\">\n",
       "<tr>\n",
       "      <td></td>         <th>coef</th>     <th>std err</th>      <th>t</th>      <th>P>|t|</th>  <th>[0.025</th>    <th>0.975]</th>  \n",
       "</tr>\n",
       "<tr>\n",
       "  <th>Intercept</th> <td>  -68.8571</td> <td>   60.017</td> <td>   -1.147</td> <td> 0.266</td> <td> -194.948</td> <td>   57.234</td>\n",
       "</tr>\n",
       "<tr>\n",
       "  <th>x1</th>        <td>    1.4546</td> <td>    0.212</td> <td>    6.868</td> <td> 0.000</td> <td>    1.010</td> <td>    1.899</td>\n",
       "</tr>\n",
       "<tr>\n",
       "  <th>x2</th>        <td>    9.3655</td> <td>    4.064</td> <td>    2.305</td> <td> 0.033</td> <td>    0.827</td> <td>   17.904</td>\n",
       "</tr>\n",
       "</table>\n",
       "<table class=\"simpletable\">\n",
       "<tr>\n",
       "  <th>Omnibus:</th>       <td> 0.845</td> <th>  Durbin-Watson:     </th> <td>   1.653</td>\n",
       "</tr>\n",
       "<tr>\n",
       "  <th>Prob(Omnibus):</th> <td> 0.655</td> <th>  Jarque-Bera (JB):  </th> <td>   0.722</td>\n",
       "</tr>\n",
       "<tr>\n",
       "  <th>Skew:</th>          <td>-0.090</td> <th>  Prob(JB):          </th> <td>   0.697</td>\n",
       "</tr>\n",
       "<tr>\n",
       "  <th>Kurtosis:</th>      <td> 2.110</td> <th>  Cond. No.          </th> <td>1.67e+03</td>\n",
       "</tr>\n",
       "</table><br/><br/>Notes:<br/>[1] Standard Errors assume that the covariance matrix of the errors is correctly specified.<br/>[2] The condition number is large, 1.67e+03. This might indicate that there are<br/>strong multicollinearity or other numerical problems."
      ],
      "text/plain": [
       "<class 'statsmodels.iolib.summary.Summary'>\n",
       "\"\"\"\n",
       "                            OLS Regression Results                            \n",
       "==============================================================================\n",
       "Dep. Variable:                      y   R-squared:                       0.917\n",
       "Model:                            OLS   Adj. R-squared:                  0.907\n",
       "Method:                 Least Squares   F-statistic:                     99.10\n",
       "Date:                Mon, 26 Apr 2021   Prob (F-statistic):           1.92e-10\n",
       "Time:                        20:24:33   Log-Likelihood:                -78.549\n",
       "No. Observations:                  21   AIC:                             163.1\n",
       "Df Residuals:                      18   BIC:                             166.2\n",
       "Df Model:                           2                                         \n",
       "Covariance Type:            nonrobust                                         \n",
       "==============================================================================\n",
       "                 coef    std err          t      P>|t|      [0.025      0.975]\n",
       "------------------------------------------------------------------------------\n",
       "Intercept    -68.8571     60.017     -1.147      0.266    -194.948      57.234\n",
       "x1             1.4546      0.212      6.868      0.000       1.010       1.899\n",
       "x2             9.3655      4.064      2.305      0.033       0.827      17.904\n",
       "==============================================================================\n",
       "Omnibus:                        0.845   Durbin-Watson:                   1.653\n",
       "Prob(Omnibus):                  0.655   Jarque-Bera (JB):                0.722\n",
       "Skew:                          -0.090   Prob(JB):                        0.697\n",
       "Kurtosis:                       2.110   Cond. No.                     1.67e+03\n",
       "==============================================================================\n",
       "\n",
       "Notes:\n",
       "[1] Standard Errors assume that the covariance matrix of the errors is correctly specified.\n",
       "[2] The condition number is large, 1.67e+03. This might indicate that there are\n",
       "strong multicollinearity or other numerical problems.\n",
       "\"\"\""
      ]
     },
     "metadata": {},
     "output_type": "display_data"
    },
    {
     "data": {
      "text/html": [
       "<div>\n",
       "<style scoped>\n",
       "    .dataframe tbody tr th:only-of-type {\n",
       "        vertical-align: middle;\n",
       "    }\n",
       "\n",
       "    .dataframe tbody tr th {\n",
       "        vertical-align: top;\n",
       "    }\n",
       "\n",
       "    .dataframe thead th {\n",
       "        text-align: right;\n",
       "    }\n",
       "</style>\n",
       "<table border=\"1\" class=\"dataframe\">\n",
       "  <thead>\n",
       "    <tr style=\"text-align: right;\">\n",
       "      <th></th>\n",
       "      <th>df</th>\n",
       "      <th>sum_sq</th>\n",
       "      <th>mean_sq</th>\n",
       "      <th>F</th>\n",
       "      <th>PR(&gt;F)</th>\n",
       "    </tr>\n",
       "  </thead>\n",
       "  <tbody>\n",
       "    <tr>\n",
       "      <th>x1</th>\n",
       "      <td>1.0</td>\n",
       "      <td>23371.806303</td>\n",
       "      <td>23371.806303</td>\n",
       "      <td>192.896156</td>\n",
       "      <td>4.639557e-11</td>\n",
       "    </tr>\n",
       "    <tr>\n",
       "      <th>x2</th>\n",
       "      <td>1.0</td>\n",
       "      <td>643.475809</td>\n",
       "      <td>643.475809</td>\n",
       "      <td>5.310844</td>\n",
       "      <td>3.332136e-02</td>\n",
       "    </tr>\n",
       "    <tr>\n",
       "      <th>Residual</th>\n",
       "      <td>18.0</td>\n",
       "      <td>2180.927411</td>\n",
       "      <td>121.162634</td>\n",
       "      <td>NaN</td>\n",
       "      <td>NaN</td>\n",
       "    </tr>\n",
       "  </tbody>\n",
       "</table>\n",
       "</div>"
      ],
      "text/plain": [
       "            df        sum_sq       mean_sq           F        PR(>F)\n",
       "x1         1.0  23371.806303  23371.806303  192.896156  4.639557e-11\n",
       "x2         1.0    643.475809    643.475809    5.310844  3.332136e-02\n",
       "Residual  18.0   2180.927411    121.162634         NaN           NaN"
      ]
     },
     "metadata": {},
     "output_type": "display_data"
    }
   ],
   "source": [
    "display(model.summary())\n",
    "display(anova_lm(model, typ=1))"
   ]
  },
  {
   "cell_type": "markdown",
   "metadata": {},
   "source": [
    "### Figure 6.6 (p 238) and Figure 6.7 (p 240)\n",
    "\n",
    "Three-Dimensional Plots\n",
    "\n",
    "###### Note\n",
    "\n",
    "This example will not be included. The use of viewing a 3D version of what the scatter plot matrix provides is next to useless. Maybe in rare cases it can provide novel insights, but it only works in this one case. Most data will be more dimensions, in which case you would revert back to the scatter plot matrix. Therefore, avoid it. \n",
    "\n",
    "The interested reader can how it is done in [plotly](https://plotly.com/python/3d-scatter-plots/). There are also [3D planes](https://matplotlib.org/stable/gallery/mplot3d/surface3d.html) in matplotlib."
   ]
  },
  {
   "cell_type": "markdown",
   "metadata": {},
   "source": [
    "### Figure 6.8 (p 242)\n",
    "\n",
    "Diagnostic Plots -- Dwaine Studios Example"
   ]
  },
  {
   "cell_type": "code",
   "execution_count": 6,
   "metadata": {},
   "outputs": [
    {
     "data": {
      "image/png": "[encoded data removed]",
      "text/plain": [
       "<Figure size 864x576 with 4 Axes>"
      ]
     },
     "metadata": {
      "needs_background": "light"
     },
     "output_type": "display_data"
    }
   ],
   "source": [
    "fig, axes = plt.subplots(2, 2, figsize=(12, 8))\n",
    "plt.subplots_adjust(left=0.1, bottom=0.1, right=0.9, top=0.9, wspace=0.4, hspace=0.4)\n",
    "axes[0][0].set_title(\"(a) Residual Plot against Y\")\n",
    "axes[0][1].set_title(\"(b) Residual Plot against X1\")\n",
    "axes[1][0].set_title(\"(c) Residual Plot against X2\")\n",
    "axes[1][1].set_title(\"(d) Residual Plot against X1*X2\")\n",
    "\n",
    "axes[0][0].scatter(df.y, model.resid)\n",
    "axes[0][0].axhline(y=0)\n",
    "\n",
    "axes[0][1].scatter(df.x1, model.resid)\n",
    "axes[0][1].axhline(y=0)\n",
    "\n",
    "axes[1][0].scatter(df.x2, model.resid)\n",
    "axes[1][0].axhline(y=0)\n",
    "\n",
    "axes[1][1].scatter(df.x1*df.x2, model.resid)\n",
    "axes[1][1].axhline(y=0)\n",
    "\n",
    "plt.show()"
   ]
  },
  {
   "cell_type": "markdown",
   "metadata": {},
   "source": [
    "### Figure 6.9 (p 243)\n",
    "\n",
    "Additional Diagnostic Plots -- Dwaine Studios Example"
   ]
  },
  {
   "cell_type": "code",
   "execution_count": 7,
   "metadata": {},
   "outputs": [
    {
     "data": {
      "image/png": "[encoded data removed]",
      "text/plain": [
       "<Figure size 864x288 with 2 Axes>"
      ]
     },
     "metadata": {
      "needs_background": "light"
     },
     "output_type": "display_data"
    }
   ],
   "source": [
    "fig, axes = plt.subplots(1, 2, figsize=(12, 4))\n",
    "plt.subplots_adjust(left=0.1, bottom=0.1, right=0.9, top=0.9, wspace=0.4, hspace=0.4)\n",
    "\n",
    "axes[0].scatter(model.fittedvalues, abs(model.resid))\n",
    "stats.probplot(model.resid, plot=axes[1])\n",
    "\n",
    "axes[0].set_title(f\"(a) Plot of Absolute Residuals against {yhat}\")\n",
    "axes[1].set_title(\"(b) Normal Probability Plot\")\n",
    "plt.show()"
   ]
  },
  {
   "cell_type": "markdown",
   "metadata": {},
   "source": [
    "### Estimation of Regression Parameters\n",
    "\n",
    "Recall from chapter 4 that the 90 percent family confidence interval for $g=2$ parameters is equivalent to asking for the 95 percent confidence interval. In particular,\n",
    "\n",
    "$B = t(1-\\frac{\\alpha}{2g}, n-2) = t(1-\\frac{0.10}{4}, 18) = t(1-\\frac{0.05}{2}, 18) = t(0.975, 18) = 2.101$\n",
    "\n",
    "##### Note\n",
    "\n",
    "The interested reader can try to manually compute these using `model.cov_params` (6.78)"
   ]
  },
  {
   "cell_type": "code",
   "execution_count": 8,
   "metadata": {},
   "outputs": [
    {
     "data": {
      "text/html": [
       "<div>\n",
       "<style scoped>\n",
       "    .dataframe tbody tr th:only-of-type {\n",
       "        vertical-align: middle;\n",
       "    }\n",
       "\n",
       "    .dataframe tbody tr th {\n",
       "        vertical-align: top;\n",
       "    }\n",
       "\n",
       "    .dataframe thead th {\n",
       "        text-align: right;\n",
       "    }\n",
       "</style>\n",
       "<table border=\"1\" class=\"dataframe\">\n",
       "  <thead>\n",
       "    <tr style=\"text-align: right;\">\n",
       "      <th></th>\n",
       "      <th>0</th>\n",
       "      <th>1</th>\n",
       "    </tr>\n",
       "  </thead>\n",
       "  <tbody>\n",
       "    <tr>\n",
       "      <th>Intercept</th>\n",
       "      <td>-194.948013</td>\n",
       "      <td>57.233867</td>\n",
       "    </tr>\n",
       "    <tr>\n",
       "      <th>x1</th>\n",
       "      <td>1.009623</td>\n",
       "      <td>1.899497</td>\n",
       "    </tr>\n",
       "    <tr>\n",
       "      <th>x2</th>\n",
       "      <td>0.827441</td>\n",
       "      <td>17.903560</td>\n",
       "    </tr>\n",
       "  </tbody>\n",
       "</table>\n",
       "</div>"
      ],
      "text/plain": [
       "                    0          1\n",
       "Intercept -194.948013  57.233867\n",
       "x1           1.009623   1.899497\n",
       "x2           0.827441  17.903560"
      ]
     },
     "execution_count": 8,
     "metadata": {},
     "output_type": "execute_result"
    }
   ],
   "source": [
    "model.conf_int()"
   ]
  },
  {
   "cell_type": "markdown",
   "metadata": {},
   "source": [
    "### Estimation of Mean Response (p 246)"
   ]
  },
  {
   "cell_type": "code",
   "execution_count": 9,
   "metadata": {},
   "outputs": [
    {
     "data": {
      "text/html": [
       "<div>\n",
       "<style scoped>\n",
       "    .dataframe tbody tr th:only-of-type {\n",
       "        vertical-align: middle;\n",
       "    }\n",
       "\n",
       "    .dataframe tbody tr th {\n",
       "        vertical-align: top;\n",
       "    }\n",
       "\n",
       "    .dataframe thead th {\n",
       "        text-align: right;\n",
       "    }\n",
       "</style>\n",
       "<table border=\"1\" class=\"dataframe\">\n",
       "  <thead>\n",
       "    <tr style=\"text-align: right;\">\n",
       "      <th></th>\n",
       "      <th>mean</th>\n",
       "      <th>mean_se</th>\n",
       "      <th>mean_ci_lower</th>\n",
       "      <th>mean_ci_upper</th>\n",
       "      <th>obs_ci_lower</th>\n",
       "      <th>obs_ci_upper</th>\n",
       "    </tr>\n",
       "  </thead>\n",
       "  <tbody>\n",
       "    <tr>\n",
       "      <th>0</th>\n",
       "      <td>191.10393</td>\n",
       "      <td>2.766798</td>\n",
       "      <td>185.291104</td>\n",
       "      <td>196.916757</td>\n",
       "      <td>167.2589</td>\n",
       "      <td>214.948961</td>\n",
       "    </tr>\n",
       "  </tbody>\n",
       "</table>\n",
       "</div>"
      ],
      "text/plain": [
       "        mean   mean_se  mean_ci_lower  mean_ci_upper  obs_ci_lower  \\\n",
       "0  191.10393  2.766798     185.291104     196.916757      167.2589   \n",
       "\n",
       "   obs_ci_upper  \n",
       "0    214.948961  "
      ]
     },
     "execution_count": 9,
     "metadata": {},
     "output_type": "execute_result"
    }
   ],
   "source": [
    "xh = pd.DataFrame({\"x1\": [65.4], \"x2\": [17.6]})\n",
    "model.get_prediction(xh).summary_frame(0.05)"
   ]
  },
  {
   "cell_type": "markdown",
   "metadata": {},
   "source": [
    "### Prediction Limits of New Observations (p 247)\n",
    "\n",
    "Scheffe and Bonferroni Procedures\n",
    "\n",
    "##### Note\n",
    "\n",
    "As in chapter 4, we compute B and S using the available model information and desired family confidence level. Since the Bonferroni multiplier is smaller, we use that method, which amounts to using the standard `get_prediction` method on these new observations at an alpha `alpha/g`. The observed confidence interval (not the mean) yields the desired results. "
   ]
  },
  {
   "cell_type": "code",
   "execution_count": 10,
   "metadata": {
    "scrolled": true
   },
   "outputs": [
    {
     "data": {
      "text/plain": [
       "[2.093024054408263, 2.282810707956212]"
      ]
     },
     "metadata": {},
     "output_type": "display_data"
    },
    {
     "data": {
      "text/html": [
       "<div>\n",
       "<style scoped>\n",
       "    .dataframe tbody tr th:only-of-type {\n",
       "        vertical-align: middle;\n",
       "    }\n",
       "\n",
       "    .dataframe tbody tr th {\n",
       "        vertical-align: top;\n",
       "    }\n",
       "\n",
       "    .dataframe thead th {\n",
       "        text-align: right;\n",
       "    }\n",
       "</style>\n",
       "<table border=\"1\" class=\"dataframe\">\n",
       "  <thead>\n",
       "    <tr style=\"text-align: right;\">\n",
       "      <th></th>\n",
       "      <th>mean</th>\n",
       "      <th>mean_se</th>\n",
       "      <th>mean_ci_lower</th>\n",
       "      <th>mean_ci_upper</th>\n",
       "      <th>obs_ci_lower</th>\n",
       "      <th>obs_ci_upper</th>\n",
       "    </tr>\n",
       "  </thead>\n",
       "  <tbody>\n",
       "    <tr>\n",
       "      <th>0</th>\n",
       "      <td>191.103930</td>\n",
       "      <td>2.766798</td>\n",
       "      <td>185.291104</td>\n",
       "      <td>196.916757</td>\n",
       "      <td>167.258900</td>\n",
       "      <td>214.948961</td>\n",
       "    </tr>\n",
       "    <tr>\n",
       "      <th>1</th>\n",
       "      <td>174.149397</td>\n",
       "      <td>4.598605</td>\n",
       "      <td>164.488087</td>\n",
       "      <td>183.810708</td>\n",
       "      <td>149.086727</td>\n",
       "      <td>199.212068</td>\n",
       "    </tr>\n",
       "  </tbody>\n",
       "</table>\n",
       "</div>"
      ],
      "text/plain": [
       "         mean   mean_se  mean_ci_lower  mean_ci_upper  obs_ci_lower  \\\n",
       "0  191.103930  2.766798     185.291104     196.916757    167.258900   \n",
       "1  174.149397  4.598605     164.488087     183.810708    149.086727   \n",
       "\n",
       "   obs_ci_upper  \n",
       "0    214.948961  \n",
       "1    199.212068  "
      ]
     },
     "execution_count": 10,
     "metadata": {},
     "output_type": "execute_result"
    }
   ],
   "source": [
    "xh = pd.DataFrame({\"x1\": [65.4, 53.1], \"x2\": [17.6, 17.7]})\n",
    "alpha=0.10\n",
    "g=len(xh)\n",
    "\n",
    "B = stats.t.ppf(1-alpha/(2*g), model.nobs-2)\n",
    "S = np.sqrt(g*stats.f.ppf(1-alpha, g, model.nobs-2))\n",
    "display([B, S])\n",
    "\n",
    "model.get_prediction(xh).summary_frame(alpha/g)"
   ]
  },
  {
   "cell_type": "markdown",
   "metadata": {},
   "source": [
    "# References\n",
    "\n",
    "[Linear Model Regression Results (statsmodels)](https://www.statsmodels.org/v0.12.1/generated/statsmodels.regression.linear_model.RegressionResults.html)\n",
    "\n",
    "[Contrast Coding (statsmodels)](https://www.statsmodels.org/stable/examples/notebooks/generated/contrasts.html)\n",
    "\n",
    "[QQ Plot or Normal Probability Plot (scipy)](https://docs.scipy.org/doc/scipy/reference/generated/scipy.stats.probplot.html)\n",
    "\n",
    "[Levene or Brown-Forsythe Test (scipy)](https://docs.scipy.org/doc/scipy/reference/generated/scipy.stats.levene.html)\n",
    "\n",
    "[Z-Score Transformation (scipy)](https://docs.scipy.org/doc/scipy/reference/generated/scipy.stats.zscore.html)\n",
    "\n",
    "[Box Cox Transformations (scipy)](https://docs.scipy.org/doc/scipy/reference/generated/scipy.stats.boxcox.html)\n",
    "\n",
    "### Graphics\n",
    "\n",
    "[Pandas Plotting](https://pandas.pydata.org/pandas-docs/stable/reference/plotting.html)\n",
    "\n",
    "[Matplotlib Color Maps](https://matplotlib.org/stable/tutorials/colors/colormaps.html)"
   ]
  }
 ],
 "metadata": {
  "kernelspec": {
   "display_name": "Python 3 (ipykernel)",
   "language": "python",
   "name": "python3"
  },
  "language_info": {
   "codemirror_mode": {
    "name": "ipython",
    "version": 3
   },
   "file_extension": ".py",
   "mimetype": "text/x-python",
   "name": "python",
   "nbconvert_exporter": "python",
   "pygments_lexer": "ipython3",
   "version": "3.9.5"
  }
 },
 "nbformat": 4,
 "nbformat_minor": 4
}
