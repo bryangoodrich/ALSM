{
 "cells": [
  {
   "cell_type": "markdown",
   "metadata": {},
   "source": [
    "# Matrix Approach to Simple Linear Regression Analysis\n",
    "\n",
    "### TBD\n",
    "\n",
    "This chapter isn't so important for doing statistics in Python. Will get back to this for the fun of being able to do `numpy` well. But I assume the numerical programmer trying to code up their own raw statistical methods will already be more versed in this than I!"
   ]
  },
  {
   "cell_type": "code",
   "execution_count": 1,
   "metadata": {},
   "outputs": [],
   "source": [
    "import numpy as np\n",
    "import pandas as pd"
   ]
  },
  {
   "cell_type": "code",
   "execution_count": 6,
   "metadata": {},
   "outputs": [
    {
     "data": {
      "text/html": [
       "<div>\n",
       "<style scoped>\n",
       "    .dataframe tbody tr th:only-of-type {\n",
       "        vertical-align: middle;\n",
       "    }\n",
       "\n",
       "    .dataframe tbody tr th {\n",
       "        vertical-align: top;\n",
       "    }\n",
       "\n",
       "    .dataframe thead th {\n",
       "        text-align: right;\n",
       "    }\n",
       "</style>\n",
       "<table border=\"1\" class=\"dataframe\">\n",
       "  <thead>\n",
       "    <tr style=\"text-align: right;\">\n",
       "      <th></th>\n",
       "      <th>x1</th>\n",
       "      <th>x2</th>\n",
       "      <th>y</th>\n",
       "    </tr>\n",
       "  </thead>\n",
       "  <tbody>\n",
       "    <tr>\n",
       "      <th>0</th>\n",
       "      <td>68.5</td>\n",
       "      <td>16.7</td>\n",
       "      <td>174.4</td>\n",
       "    </tr>\n",
       "    <tr>\n",
       "      <th>1</th>\n",
       "      <td>45.2</td>\n",
       "      <td>16.8</td>\n",
       "      <td>164.4</td>\n",
       "    </tr>\n",
       "    <tr>\n",
       "      <th>2</th>\n",
       "      <td>91.3</td>\n",
       "      <td>18.2</td>\n",
       "      <td>244.2</td>\n",
       "    </tr>\n",
       "    <tr>\n",
       "      <th>3</th>\n",
       "      <td>47.8</td>\n",
       "      <td>16.3</td>\n",
       "      <td>154.6</td>\n",
       "    </tr>\n",
       "    <tr>\n",
       "      <th>4</th>\n",
       "      <td>46.9</td>\n",
       "      <td>17.3</td>\n",
       "      <td>181.6</td>\n",
       "    </tr>\n",
       "    <tr>\n",
       "      <th>5</th>\n",
       "      <td>66.1</td>\n",
       "      <td>18.2</td>\n",
       "      <td>207.5</td>\n",
       "    </tr>\n",
       "    <tr>\n",
       "      <th>6</th>\n",
       "      <td>49.5</td>\n",
       "      <td>15.9</td>\n",
       "      <td>152.8</td>\n",
       "    </tr>\n",
       "    <tr>\n",
       "      <th>7</th>\n",
       "      <td>52.0</td>\n",
       "      <td>17.2</td>\n",
       "      <td>163.2</td>\n",
       "    </tr>\n",
       "    <tr>\n",
       "      <th>8</th>\n",
       "      <td>48.9</td>\n",
       "      <td>16.6</td>\n",
       "      <td>145.4</td>\n",
       "    </tr>\n",
       "    <tr>\n",
       "      <th>9</th>\n",
       "      <td>38.4</td>\n",
       "      <td>16.0</td>\n",
       "      <td>137.2</td>\n",
       "    </tr>\n",
       "    <tr>\n",
       "      <th>10</th>\n",
       "      <td>87.9</td>\n",
       "      <td>18.3</td>\n",
       "      <td>241.9</td>\n",
       "    </tr>\n",
       "    <tr>\n",
       "      <th>11</th>\n",
       "      <td>72.8</td>\n",
       "      <td>17.1</td>\n",
       "      <td>191.1</td>\n",
       "    </tr>\n",
       "    <tr>\n",
       "      <th>12</th>\n",
       "      <td>88.4</td>\n",
       "      <td>17.4</td>\n",
       "      <td>232.0</td>\n",
       "    </tr>\n",
       "    <tr>\n",
       "      <th>13</th>\n",
       "      <td>42.9</td>\n",
       "      <td>15.8</td>\n",
       "      <td>145.3</td>\n",
       "    </tr>\n",
       "    <tr>\n",
       "      <th>14</th>\n",
       "      <td>52.5</td>\n",
       "      <td>17.8</td>\n",
       "      <td>161.1</td>\n",
       "    </tr>\n",
       "    <tr>\n",
       "      <th>15</th>\n",
       "      <td>85.7</td>\n",
       "      <td>18.4</td>\n",
       "      <td>209.7</td>\n",
       "    </tr>\n",
       "    <tr>\n",
       "      <th>16</th>\n",
       "      <td>41.3</td>\n",
       "      <td>16.5</td>\n",
       "      <td>146.4</td>\n",
       "    </tr>\n",
       "    <tr>\n",
       "      <th>17</th>\n",
       "      <td>51.7</td>\n",
       "      <td>16.3</td>\n",
       "      <td>144.0</td>\n",
       "    </tr>\n",
       "    <tr>\n",
       "      <th>18</th>\n",
       "      <td>89.6</td>\n",
       "      <td>18.1</td>\n",
       "      <td>232.6</td>\n",
       "    </tr>\n",
       "    <tr>\n",
       "      <th>19</th>\n",
       "      <td>82.7</td>\n",
       "      <td>19.1</td>\n",
       "      <td>224.1</td>\n",
       "    </tr>\n",
       "    <tr>\n",
       "      <th>20</th>\n",
       "      <td>52.3</td>\n",
       "      <td>16.0</td>\n",
       "      <td>166.5</td>\n",
       "    </tr>\n",
       "  </tbody>\n",
       "</table>\n",
       "</div>"
      ],
      "text/plain": [
       "      x1    x2      y\n",
       "0   68.5  16.7  174.4\n",
       "1   45.2  16.8  164.4\n",
       "2   91.3  18.2  244.2\n",
       "3   47.8  16.3  154.6\n",
       "4   46.9  17.3  181.6\n",
       "5   66.1  18.2  207.5\n",
       "6   49.5  15.9  152.8\n",
       "7   52.0  17.2  163.2\n",
       "8   48.9  16.6  145.4\n",
       "9   38.4  16.0  137.2\n",
       "10  87.9  18.3  241.9\n",
       "11  72.8  17.1  191.1\n",
       "12  88.4  17.4  232.0\n",
       "13  42.9  15.8  145.3\n",
       "14  52.5  17.8  161.1\n",
       "15  85.7  18.4  209.7\n",
       "16  41.3  16.5  146.4\n",
       "17  51.7  16.3  144.0\n",
       "18  89.6  18.1  232.6\n",
       "19  82.7  19.1  224.1\n",
       "20  52.3  16.0  166.5"
      ]
     },
     "execution_count": 6,
     "metadata": {},
     "output_type": "execute_result"
    }
   ],
   "source": [
    "df = pd.DataFrame({\n",
    "    \"x1\": [68.5, 45.2, 91.3, 47.8, 46.9, 66.1, 49.5, 52, 48.9, 38.4, 87.9, 72.8, 88.4, 42.9, 52.5, 85.7, 41.3, 51.7, 89.6, 82.7, 52.3], \n",
    "    \"x2\": [16.7, 16.8, 18.2, 16.3, 17.3, 18.2, 15.9, 17.2, 16.6, 16, 18.3, 17.1, 17.4, 15.8, 17.8, 18.4, 16.5, 16.3, 18.1, 19.1, 16], \n",
    "    \"y\": [174.4, 164.4, 244.2, 154.6, 181.6, 207.5, 152.8, 163.2, 145.4, 137.2, 241.9, 191.1, 232, 145.3, 161.1, 209.7, 146.4, 144, 232.6, 224.1, 166.5]\n",
    "})\n",
    "\n",
    "df"
   ]
  },
  {
   "cell_type": "markdown",
   "metadata": {},
   "source": [
    "# 5.1 Matrices (p 176)"
   ]
  },
  {
   "cell_type": "markdown",
   "metadata": {},
   "source": [
    "Numpy matrices are just array lists of row lists. Here we have a 3x2 array, indicating a list of 3 rows where each row list has 2 column values or fields. "
   ]
  },
  {
   "cell_type": "code",
   "execution_count": 13,
   "metadata": {},
   "outputs": [
    {
     "name": "stdout",
     "output_type": "stream",
     "text": [
      "A 2 dimensional array of sizes (3, 2) for a total of 6 elements\n"
     ]
    },
    {
     "data": {
      "text/plain": [
       "array([[16000,    23],\n",
       "       [33000,    47],\n",
       "       [21000,    35]])"
      ]
     },
     "execution_count": 13,
     "metadata": {},
     "output_type": "execute_result"
    }
   ],
   "source": [
    "x = np.array([\n",
    "    [16000, 23],\n",
    "    [33000, 47],\n",
    "    [21000, 35]\n",
    "])\n",
    "print(f\"A {x.ndim} dimensional array of sizes {x.shape} for a total of {x.size} elements\")\n",
    "x"
   ]
  },
  {
   "cell_type": "markdown",
   "metadata": {},
   "source": [
    "### Square Matrix"
   ]
  },
  {
   "cell_type": "code",
   "execution_count": 16,
   "metadata": {},
   "outputs": [
    {
     "data": {
      "text/plain": [
       "array([[4, 7],\n",
       "       [3, 9]])"
      ]
     },
     "execution_count": 16,
     "metadata": {},
     "output_type": "execute_result"
    }
   ],
   "source": [
    "np.array([\n",
    "    [4, 7],\n",
    "    [3, 9]\n",
    "])"
   ]
  },
  {
   "cell_type": "markdown",
   "metadata": {},
   "source": [
    "### Column vectors\n",
    "\n",
    "We can reshape this 1-dimensional array (row vector) into a single column vector. The `-1` here acts as a \"size n\" number of rows."
   ]
  },
  {
   "cell_type": "code",
   "execution_count": 25,
   "metadata": {},
   "outputs": [
    {
     "data": {
      "text/plain": [
       "array([[ 4],\n",
       "       [ 7],\n",
       "       [10]])"
      ]
     },
     "execution_count": 25,
     "metadata": {},
     "output_type": "execute_result"
    }
   ],
   "source": [
    "np.array([4, 7, 10]).reshape(-1,1)"
   ]
  },
  {
   "cell_type": "markdown",
   "metadata": {},
   "source": [
    "### Transposing a matrix"
   ]
  },
  {
   "cell_type": "code",
   "execution_count": 27,
   "metadata": {},
   "outputs": [
    {
     "data": {
      "text/plain": [
       "array([[ 2,  5],\n",
       "       [ 7, 10],\n",
       "       [ 3,  4]])"
      ]
     },
     "metadata": {},
     "output_type": "display_data"
    },
    {
     "data": {
      "text/plain": [
       "array([[ 2,  7,  3],\n",
       "       [ 5, 10,  4]])"
      ]
     },
     "metadata": {},
     "output_type": "display_data"
    }
   ],
   "source": [
    "A = np.array([[2, 5], [7, 10], [3, 4]])\n",
    "display(A)\n",
    "display(A.transpose())"
   ]
  },
  {
   "cell_type": "markdown",
   "metadata": {},
   "source": [
    "The transpose of a 1-dimensional row vector turned into a 2-dimensional column vector is a 2-dimensional row vector (notice the double list brackets). This is confirmed by its shape."
   ]
  },
  {
   "cell_type": "code",
   "execution_count": 44,
   "metadata": {},
   "outputs": [
    {
     "data": {
      "text/plain": [
       "array([ 4,  7, 10])"
      ]
     },
     "metadata": {},
     "output_type": "display_data"
    },
    {
     "data": {
      "text/plain": [
       "array([[ 4],\n",
       "       [ 7],\n",
       "       [10]])"
      ]
     },
     "metadata": {},
     "output_type": "display_data"
    },
    {
     "data": {
      "text/plain": [
       "array([[ 4,  7, 10]])"
      ]
     },
     "metadata": {},
     "output_type": "display_data"
    },
    {
     "data": {
      "text/plain": [
       "((3,), (3, 1), (1, 3))"
      ]
     },
     "execution_count": 44,
     "metadata": {},
     "output_type": "execute_result"
    }
   ],
   "source": [
    "C = np.array([4, 7, 10])\n",
    "display(C)\n",
    "display(C.reshape(-1, 1))\n",
    "display(C.reshape(-1, 1).transpose())\n",
    "\n",
    "C.shape, C.reshape(-1, 1).shape, C.reshape(-1, 1).transpose().shape\n"
   ]
  },
  {
   "cell_type": "markdown",
   "metadata": {},
   "source": [
    "### Matrix equality\n",
    "\n",
    "Two matrices $A$ and $B$ are said to be equal if they have the same dimension and if all corresponding elements are equal. Conversely, if two matrices are equal, their corresponding elements are equal. For example, if:\n",
    "\n",
    "$\\underset{3x1}A= \\begin{bmatrix} a_1 \\\\ a_2 \\\\ a_3 \\end{bmatrix} \\quad \\quad \\underset{3x1}B= \\begin{bmatrix} 4 \\\\ 7 \\\\ 3 \\end{bmatrix}$\n",
    "\n",
    "then $A=B$ implies:\n",
    "\n",
    "$a_1=4 \\quad a_2=7 \\quad a_3=3$"
   ]
  },
  {
   "cell_type": "markdown",
   "metadata": {},
   "source": [
    "### Regression Example (p 180)\n",
    "\n",
    "In regression analysis, one basic matrix is the vector $Y$, consisting ofthe $n$ observations on the response variable:\n",
    "\n",
    "$\\quad \\underset{nx1}Y = \\begin{bmatrix} Y_1 \\\\Y_2 \\\\ \\vdots \\\\Y_n \\end{bmatrix}$\n",
    "\n",
    "Note that the tranpose $Y^{'}$ is the row vector\n",
    "\n",
    "$\\quad Y^{'} = \\begin{bmatrix} Y_1 & Y_2 & \\dots & Y_n \\end{bmatrix}$\n",
    "\n",
    "Another basic matrix in regression analysis is the $X$ matrix, which is defined as follows for simple linear regression analysis:\n",
    "\n",
    "$\\quad \\underset{nx2}X = \\begin{bmatrix} 1 & X1 \\\\1 & X2 \\\\\\vdots & \\vdots \\\\1 & X_n \\end{bmatrix}$\n",
    "\n",
    "The matrix $X$ consists of a column of 1s and a column containing the $n$ observations on the predictor variable $X$. Note that the transpose of $X$ is\n",
    "\n",
    "$\\quad \\underset{nx2}X^{'} = \\begin{bmatrix} 1 & 1 & \\dots & 1 \\\\ X_1 & X_2 & \\dots & X_n \\end{bmatrix}$\n",
    "\n",
    "The $X$ matrix is often referred to as the *design matrix*."
   ]
  },
  {
   "cell_type": "markdown",
   "metadata": {},
   "source": [
    "# 5.2 Matrix Addition and Subtraction (p 180)"
   ]
  },
  {
   "cell_type": "code",
   "execution_count": 47,
   "metadata": {},
   "outputs": [
    {
     "data": {
      "text/plain": [
       "array([[1, 4],\n",
       "       [2, 5],\n",
       "       [3, 6]])"
      ]
     },
     "metadata": {},
     "output_type": "display_data"
    },
    {
     "data": {
      "text/plain": [
       "array([[1, 2],\n",
       "       [2, 3],\n",
       "       [3, 4]])"
      ]
     },
     "metadata": {},
     "output_type": "display_data"
    },
    {
     "data": {
      "text/plain": [
       "array([[ 2,  6],\n",
       "       [ 4,  8],\n",
       "       [ 6, 10]])"
      ]
     },
     "metadata": {},
     "output_type": "display_data"
    },
    {
     "data": {
      "text/plain": [
       "array([[0, 2],\n",
       "       [0, 2],\n",
       "       [0, 2]])"
      ]
     },
     "metadata": {},
     "output_type": "display_data"
    }
   ],
   "source": [
    "A = np.array([\n",
    "    [1, 4],\n",
    "    [2, 5],\n",
    "    [3, 6]\n",
    "])\n",
    "\n",
    "B = np.array([\n",
    "    [1, 2],\n",
    "    [2, 3],\n",
    "    [3, 4]\n",
    "])\n",
    "\n",
    "display(A)\n",
    "display(B)\n",
    "display(A + B)\n",
    "display(A - B)"
   ]
  },
  {
   "cell_type": "markdown",
   "metadata": {},
   "source": [
    "### Regression Example (p 181)\n",
    "\n",
    "The regression model:\n",
    "\n",
    "$\\quad Y_i = E\\{Y_i\\} + \\epsilon_i \\quad i=1, \\dots, n$\n",
    "\n",
    "can be written compactly in matrix notation. First, let us define the vector of the mean responses:\n",
    "\n",
    "$\\quad \\underset{nx1}{E\\{Y\\}} = \\begin{bmatrix} E\\{Y_1\\} \\\\ E\\{Y_2\\} \\\\ \\vdots \\\\ E\\{Y_n\\} \\end{bmatrix}$\n",
    "\n",
    "and the vector of the error terms:\n",
    "\n",
    "$\\quad \\underset{nx1}\\epsilon = \\begin{bmatrix} \\epsilon_1 \\\\ \\epsilon_2 \\\\ \\vdots \\\\ \\epsilon_n \\end{bmatrix}$\n",
    "\n",
    "Recalling the definition of the observations vector $Y$ above, we can write the regression model as follows:\n",
    "\n",
    "$\\quad \\underset{nx1}Y = \\underset{nx1}{E\\{Y\\}} + \\underset{nx1}\\epsilon$\n",
    "\n",
    "because:\n",
    "\n",
    "$\\quad \\begin{bmatrix} Y_1 \\\\Y_2 \\\\ \\vdots \\\\Y_n \\end{bmatrix} = \\begin{bmatrix} E\\{Y_1\\} \\\\ E\\{Y_2\\} \\\\ \\vdots \\\\ E\\{Y_n\\} \\end{bmatrix} + \\begin{bmatrix} \\epsilon_1 \\\\ \\epsilon_2 \\\\ \\vdots \\\\ \\epsilon_n \\end{bmatrix} = \\begin{bmatrix} E\\{Y_1\\} + \\epsilon_1 \\\\ E\\{Y_2\\} + \\epsilon_2 \\\\ \\vdots \\\\ E\\{Y_n\\} + \\epsilon_n \\end{bmatrix}$\n",
    "\n",
    "Thus, the observations vector $Y$ equals the sum of two vectors, a vector containing the expected values and another containing the error terms."
   ]
  },
  {
   "cell_type": "markdown",
   "metadata": {},
   "source": [
    "# 5.3 Matrix Multiplication (p 182)"
   ]
  },
  {
   "cell_type": "markdown",
   "metadata": {},
   "source": [
    "# 5.4 Special Types of Matrices (p 185)"
   ]
  },
  {
   "cell_type": "markdown",
   "metadata": {},
   "source": [
    "# 5.5 Linear Dependence and Rank of Matrix (p 188)"
   ]
  },
  {
   "cell_type": "markdown",
   "metadata": {},
   "source": [
    "# 5.6 Inverse of a Matrix (p 189)"
   ]
  },
  {
   "cell_type": "markdown",
   "metadata": {},
   "source": [
    "# 5.7 Some Basic results of Matrices (p 193)"
   ]
  },
  {
   "cell_type": "markdown",
   "metadata": {},
   "source": [
    "# 5.8 Random Vectors and Matrices (p 193)"
   ]
  },
  {
   "cell_type": "markdown",
   "metadata": {},
   "source": [
    "# 5.9 Simple Linear Regression Model in Matrix Terms (p 197)"
   ]
  },
  {
   "cell_type": "markdown",
   "metadata": {},
   "source": [
    "# 5.10 Least Squares Estimation of Regression Parameters (p 199)"
   ]
  },
  {
   "cell_type": "markdown",
   "metadata": {},
   "source": [
    "# 5.11 Fitted Values and Residuals (p 202)"
   ]
  },
  {
   "cell_type": "markdown",
   "metadata": {},
   "source": [
    "# 5.12 Analysis of Variance Results (p 204)"
   ]
  },
  {
   "cell_type": "markdown",
   "metadata": {},
   "source": [
    "# 5.13 Inferences in Regression Analysis (p 206)"
   ]
  }
 ],
 "metadata": {
  "kernelspec": {
   "display_name": "Python 3",
   "language": "python",
   "name": "python3"
  },
  "language_info": {
   "codemirror_mode": {
    "name": "ipython",
    "version": 3
   },
   "file_extension": ".py",
   "mimetype": "text/x-python",
   "name": "python",
   "nbconvert_exporter": "python",
   "pygments_lexer": "ipython3",
   "version": "3.8.5"
  }
 },
 "nbformat": 4,
 "nbformat_minor": 4
}
